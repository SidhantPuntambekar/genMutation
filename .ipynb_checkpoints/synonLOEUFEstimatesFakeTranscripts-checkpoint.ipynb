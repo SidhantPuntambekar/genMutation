{
 "cells": [
  {
   "cell_type": "code",
   "execution_count": 1,
   "metadata": {},
   "outputs": [],
   "source": [
    "#Imports\n",
    "\n",
    "import math\n",
    "import numpy as np \n",
    "from scipy import stats\n",
    "from scipy.special import logit as lgTransform\n",
    "from scipy.interpolate import UnivariateSpline\n",
    "import pandas as pd\n",
    "import statsmodels.api as sm \n",
    "import matplotlib.pylab as plt \n",
    "from sklearn.linear_model import LogisticRegression\n",
    "import statsmodels.formula.api as smf\n",
    "from statsmodels.formula.api import logit\n",
    "%matplotlib inline"
   ]
  },
  {
   "cell_type": "code",
   "execution_count": 2,
   "metadata": {},
   "outputs": [],
   "source": [
    "#Sigmoid and logistic model\n",
    "\n",
    "def sigm(z):\n",
    "    return 1 / (1 + np.exp(-z))\n",
    "\n",
    "def regression(x,y):\n",
    "    xbar = x.mean() \n",
    "    ybar = y.mean() \n",
    "    numerator = np.array((x-xbar)*(y-ybar)).sum() # sum((x-xbar)*(y-ybar))\n",
    "    denominator = np.array((x-xbar)*(x-xbar)).sum() # sum((x-xbar)^2)\n",
    "    beta = numerator/denominator\n",
    "    alpha = ybar - beta*xbar\n",
    "    yhat = alpha + beta*x\n",
    "    return alpha,beta,yhat\n",
    "\n",
    "def plot_model(b0, b1):\n",
    "    \n",
    "    fig, ax = plt.subplots(nrows=1, ncols=1, figsize=(16,6))\n",
    "    \n",
    "    x = np.linspace(-20,20,200)\n",
    "    p = sigm(b0 + b1*x)\n",
    "    \n",
    "    ax.plot(x, p, color=\"steelblue\", lw=3)\n",
    "    ax.grid(alpha=0.25)\n",
    "    ax.set_xlim([-20, 20])\n",
    "    ax.set_xlabel(\"x\", fontsize=20)\n",
    "    ax.set_ylabel(r\"sigm$(\\beta_0 + \\beta_1 x)$\", fontsize=20)\n",
    "    plt.yticks([0.0, 0.25, 0.5, 0.75, 1.0])"
   ]
  },
  {
   "cell_type": "code",
   "execution_count": 3,
   "metadata": {},
   "outputs": [
    {
     "data": {
      "image/png": "[encoded data removed]",
      "text/plain": [
       "<Figure size 1152x432 with 1 Axes>"
      ]
     },
     "metadata": {
      "needs_background": "light"
     },
     "output_type": "display_data"
    }
   ],
   "source": [
    "plot_model(0,1)"
   ]
  },
  {
   "cell_type": "code",
   "execution_count": 4,
   "metadata": {},
   "outputs": [
    {
     "name": "stderr",
     "output_type": "stream",
     "text": [
      "/Users/Admin/opt/anaconda3/lib/python3.8/site-packages/IPython/core/interactiveshell.py:3146: DtypeWarning: Columns (41,42,47,48,52,53) have mixed types.Specify dtype option on import or set low_memory=False.\n",
      "  has_raised = await self.run_ast_nodes(code_ast.body, cell_name,\n"
     ]
    },
    {
     "name": "stdout",
     "output_type": "stream",
     "text": [
      "Index(['chrom', 'pos', 'gene', 'ref', 'alt', 'freq', 'freq_nfe', 'mu', 'qual',\n",
      "       'context', 'mean', 'median', 'over_t', 'over_5', 'over_10', 'over_15',\n",
      "       'over_20', 'over_25', 'over_30', 'over_50', 'over_100', 'filter', 'an',\n",
      "       'an_nfe', 'ac', 'ac_nfe', 'controls_an', 'controls_ac', 'non_cancer_an',\n",
      "       'non_cancer_ac', 'BaseQRankSum', 'ClippingRankSum', 'DP', 'FS',\n",
      "       'InbreedingCoeff', 'MQ', 'MQRankSum', 'QD', 'ReadPosRankSum', 'SOR',\n",
      "       'VQSLOD', 'VQSR_NEGATIVE_TRAIN_SITE', 'VQSR_POSITIVE_TRAIN_SITE',\n",
      "       'VQSR_culprit', 'allele_type', 'dp_hist_all_n_larger',\n",
      "       'dp_hist_alt_n_larger', 'has_star', 'lcr', 'n_alt_alleles', 'pab_max',\n",
      "       'rf_label', 'rf_negative_label', 'rf_positive_label',\n",
      "       'rf_tp_probability_label', 'interp_dist', 'GIAB'],\n",
      "      dtype='object')\n",
      "Number of columns:  57\n",
      "Original df length:  2215787\n"
     ]
    }
   ],
   "source": [
    "#Load data\n",
    "\n",
    "df = pd.read_csv('fake_transcript_variants_syn_v5_chrom1_new.csv')\n",
    "#print(df.head())\n",
    "#print(df.tail())\n",
    "colDf = df.columns\n",
    "print(colDf)\n",
    "print(\"Number of columns: \", len(colDf))\n",
    "print(\"Original df length: \", len(df))"
   ]
  },
  {
   "cell_type": "code",
   "execution_count": 5,
   "metadata": {},
   "outputs": [
    {
     "name": "stdout",
     "output_type": "stream",
     "text": [
      "High quality df length:  2063227\n",
      ">= 0.2 length:  2014208\n",
      ">= 0.4 length:  1977232\n",
      ">= 0.6 length:  1830027\n",
      ">= 0.8 length:  1642644\n"
     ]
    }
   ],
   "source": [
    "#Filter data\n",
    "\n",
    "#Filter low quality genes\n",
    "dfFilterQuality = df[df['qual'] == 'high']\n",
    "#print(dfFilterQuality.head())\n",
    "#print(dfFilterQuality.tail())\n",
    "print(\"High quality df length: \", len(dfFilterQuality))\n",
    "\n",
    "#Filter out based on 20X coverage thresholds (0.2, 0.4, 0.6, 0.8)\n",
    "\n",
    "dfFilterQuality20 = dfFilterQuality[dfFilterQuality['over_20'] >= 0.2]\n",
    "print(\">= 0.2 length: \", len(dfFilterQuality20))\n",
    "#print(dfFilterQuality20.head())\n",
    "#print(dfFilterQuality20.tail())\n",
    "\n",
    "dfFilterQuality40 = dfFilterQuality[dfFilterQuality['over_20'] >= 0.4]\n",
    "print(\">= 0.4 length: \", len(dfFilterQuality40))\n",
    "#print(dfFilterQuality40.head())\n",
    "#print(dfFilterQuality40.tail())\n",
    "\n",
    "dfFilterQuality60 = dfFilterQuality[dfFilterQuality['over_20'] >= 0.6]\n",
    "print(\">= 0.6 length: \", len(dfFilterQuality60))\n",
    "#print(dfFilterQuality60.head())\n",
    "#print(dfFilterQuality60.tail())\n",
    "\n",
    "#We are using this threshold level of 0.8 since this leaves a decent amount of sites with high coverage\n",
    "dfFilterQuality80 = dfFilterQuality[dfFilterQuality['over_20'] >= 0.8]\n",
    "print(\">= 0.8 length: \", len(dfFilterQuality80))\n",
    "#print(dfFilterQuality80['over_20'].head())\n",
    "#print(dfFilterQuality80.tail())\n",
    "\n",
    "#dfFilterQuality95 = dfFilterQuality[dfFilterQuality['over_20'] >= 0.99]\n",
    "#print(\">= 0.95 length: \", len(dfFilterQuality95))"
   ]
  },
  {
   "cell_type": "code",
   "execution_count": 6,
   "metadata": {},
   "outputs": [
    {
     "name": "stdout",
     "output_type": "stream",
     "text": [
      "629    1\n",
      "630    1\n",
      "631    1\n",
      "632    1\n",
      "633    1\n",
      "Name: GIAB, dtype: int64\n"
     ]
    },
    {
     "name": "stderr",
     "output_type": "stream",
     "text": [
      "<ipython-input-6-7a86777f0450>:1: SettingWithCopyWarning: \n",
      "A value is trying to be set on a copy of a slice from a DataFrame.\n",
      "Try using .loc[row_indexer,col_indexer] = value instead\n",
      "\n",
      "See the caveats in the documentation: https://pandas.pydata.org/pandas-docs/stable/user_guide/indexing.html#returning-a-view-versus-a-copy\n",
      "  dfFilterQuality80[\"GIAB\"] = dfFilterQuality80[\"GIAB\"].astype(int)\n"
     ]
    }
   ],
   "source": [
    "dfFilterQuality80[\"GIAB\"] = dfFilterQuality80[\"GIAB\"].astype(int)\n",
    "print(dfFilterQuality80[\"GIAB\"].head())"
   ]
  },
  {
   "cell_type": "code",
   "execution_count": 7,
   "metadata": {},
   "outputs": [
    {
     "name": "stdout",
     "output_type": "stream",
     "text": [
      "1642644\n",
      "225644\n",
      "1417000\n"
     ]
    }
   ],
   "source": [
    "dfFilterQuality80GIABTrue = dfFilterQuality80[dfFilterQuality80['GIAB'] == 1]\n",
    "dfFilterQuality80GIABFalse = dfFilterQuality80[dfFilterQuality80['GIAB'] == 0]\n",
    "print(len(dfFilterQuality80))\n",
    "print(len(dfFilterQuality80GIABTrue))\n",
    "print(len(dfFilterQuality80GIABFalse))"
   ]
  },
  {
   "cell_type": "code",
   "execution_count": 8,
   "metadata": {},
   "outputs": [
    {
     "name": "stdout",
     "output_type": "stream",
     "text": [
      "Mu bins:  [0.004 0.013 0.02  0.03  0.041 0.051 0.062 0.073 0.083 0.094 0.105 0.117\n",
      " 0.128 0.139 0.151 0.163 0.174 0.186 0.198 0.211 0.223 0.236 0.248 0.261\n",
      " 0.274 0.288 0.301 0.315 0.329 0.342 0.357 0.371 0.386 0.4   0.416 0.431\n",
      " 0.446 0.462 0.478 0.494 0.511 0.528 0.545 0.562 0.58  0.598 0.616 0.635\n",
      " 0.654 0.673 0.693 0.713 0.734 0.755 0.777 0.799 0.821 0.844 0.868 0.892\n",
      " 0.916 0.942 0.968 0.994 1.022 1.05  1.079 1.109 1.139 1.171 1.204 1.238\n",
      " 1.273 1.309 1.347 1.386 1.427 1.47  1.514 1.561 1.609 1.661 1.715 1.772\n",
      " 1.833 1.897 1.966 2.04  2.12  2.207 2.303 2.408 2.526 2.659 2.813 2.996\n",
      " 3.219 3.507 3.912]\n",
      "Proportions:  [0.         0.01922285 0.02894987 0.04213188 0.05665317 0.07234841\n",
      " 0.08809376 0.10384019 0.1203215  0.1336693  0.14652856 0.15766565\n",
      " 0.17095561 0.18420171 0.19622811 0.21457199 0.22273407 0.23543162\n",
      " 0.24986057 0.25166741 0.28215086 0.29129863 0.29069482 0.30680272\n",
      " 0.33513289 0.34162779 0.34625493 0.36377473 0.39195101 0.36261682\n",
      " 0.40930233 0.3974359  0.42089552 0.43090909 0.44       0.40732265\n",
      " 0.47075209 0.47474747 0.47208122 0.44609665 0.52020202 0.45283019\n",
      " 0.51381215 0.45251397 0.4751773  0.56074766 0.57407407 0.68604651\n",
      " 0.55238095 0.54666667 0.5        0.57894737 0.55405405 0.70909091\n",
      " 0.67857143 0.59016393 0.66666667 0.66666667 0.61052632 0.74509804\n",
      " 0.70909091 0.80246914 0.69014085 0.81553398 0.78947368 0.74698795\n",
      " 0.75352113 0.66285714 0.7826087  0.85833333 0.70149254 0.78947368\n",
      " 0.8238806  0.79591837 0.83762887 0.85339168 0.86292135 0.83727399\n",
      " 0.86767169 0.86701434 0.88303571 0.90350128 0.90405405 0.89434219\n",
      " 0.9071981  0.91441441 0.92922928 0.93080652 0.92642013 0.93085339\n",
      " 0.94986807 0.9500446  0.96365639 0.96510152 0.96957566 0.97019868\n",
      " 0.98695652 0.98275862 0.88888889]\n"
     ]
    }
   ],
   "source": [
    "bins = dfFilterQuality80.mu.unique()\n",
    "bins = np.sort(bins)\n",
    "print(\"Mu bins: \", bins)\n",
    "\n",
    "fractionBinArray = np.zeros(len(bins))\n",
    "for i in range(len(bins)):\n",
    "    fractionFreqGreater0 = 0\n",
    "    dfBinned = dfFilterQuality80[dfFilterQuality80['mu'] == bins[i]]\n",
    "    #print(dfBinned.head())\n",
    "    #print(dfBinned.tail())\n",
    "    dfGreaterZero = dfBinned[dfBinned['freq'] > 0]\n",
    "    fractionFreqGreater0 = len(dfGreaterZero) / len(dfBinned)\n",
    "    fractionBinArray[i] = fractionFreqGreater0\n",
    "    \n",
    "print(\"Proportions: \", fractionBinArray)\n",
    "#LOWESS\n",
    "lowessBins = np.delete(bins, len(bins)-1)\n",
    "lowessFractionBinArray = np.delete(fractionBinArray, len(fractionBinArray)-1)"
   ]
  },
  {
   "cell_type": "code",
   "execution_count": 9,
   "metadata": {
    "scrolled": false
   },
   "outputs": [
    {
     "data": {
      "text/plain": [
       "<matplotlib.legend.Legend at 0x7fe5f98874c0>"
      ]
     },
     "execution_count": 9,
     "metadata": {},
     "output_type": "execute_result"
    },
    {
     "data": {
      "image/png": "[encoded data removed]",
      "text/plain": [
       "<Figure size 1152x432 with 1 Axes>"
      ]
     },
     "metadata": {
      "needs_background": "light"
     },
     "output_type": "display_data"
    }
   ],
   "source": [
    "#Logistic regression with mu as a qualitative variable\n",
    "\n",
    "#Estimate for each bin the fraction of sites with freq > 0\n",
    "# fig, ax = plt.subplots(figsize=(8,4))\n",
    "# (n, bins, patches) = plt.hist(dfFilterQuality80['mu'], bins=100)\n",
    "# print(\"Number of mu per bin: \", n)\n",
    "# print(\"Bins: \", bins)\n",
    "# plt.show()\n",
    "fig, ax = plt.subplots(nrows=1, ncols=1, figsize=(16,6))\n",
    "\n",
    "plt.scatter(bins, fractionBinArray, c='grey')\n",
    "\n",
    "plt.xscale(\"log\")\n",
    "plt.xlabel(\"Mu\")\n",
    "plt.ylabel(\"Proportion\")\n",
    "\n",
    "lowess = sm.nonparametric.lowess\n",
    "z = lowess(lowessFractionBinArray, lowessBins, frac = 1./3, it = 0)\n",
    "#print(\"LOWESS: \", z)\n",
    "\n",
    "#Univariate spline to reduce noise in middle bins\n",
    "cs = UnivariateSpline(lowessBins, lowessFractionBinArray, s = 1./6)\n",
    "x_range = np.linspace(lowessBins[0], lowessBins[len(lowessBins)-1], 50000)\n",
    "#print(bins[len(bins)-1])\n",
    "#print(x_range)\n",
    "\n",
    "#plt.plot(x_range, cs(x_range), c = 'r', label='Univariate Spline No PASS')\n",
    "plt.plot(z[:,0], z[:,1], c = 'y', label='LOWESS No PASS')\n",
    "plt.legend()"
   ]
  },
  {
   "cell_type": "code",
   "execution_count": 10,
   "metadata": {},
   "outputs": [
    {
     "name": "stdout",
     "output_type": "stream",
     "text": [
      "Index(['chrom', 'pos', 'gene', 'ref', 'alt', 'freq', 'freq_nfe', 'mu', 'qual',\n",
      "       'context', 'mean', 'median', 'over_t', 'over_5', 'over_10', 'over_15',\n",
      "       'over_20', 'over_25', 'over_30', 'over_50', 'over_100', 'filter', 'an',\n",
      "       'an_nfe', 'ac', 'ac_nfe', 'controls_an', 'controls_ac', 'non_cancer_an',\n",
      "       'non_cancer_ac', 'BaseQRankSum', 'ClippingRankSum', 'DP', 'FS',\n",
      "       'InbreedingCoeff', 'MQ', 'MQRankSum', 'QD', 'ReadPosRankSum', 'SOR',\n",
      "       'VQSLOD', 'VQSR_NEGATIVE_TRAIN_SITE', 'VQSR_POSITIVE_TRAIN_SITE',\n",
      "       'VQSR_culprit', 'allele_type', 'dp_hist_all_n_larger',\n",
      "       'dp_hist_alt_n_larger', 'has_star', 'lcr', 'n_alt_alleles', 'pab_max',\n",
      "       'rf_label', 'rf_negative_label', 'rf_positive_label',\n",
      "       'rf_tp_probability_label', 'interp_dist', 'GIAB'],\n",
      "      dtype='object')\n",
      "193476\n",
      "['PASS' 'RF' 'InbreedingCoeff' 'InbreedingCoeff;RF']\n"
     ]
    },
    {
     "name": "stderr",
     "output_type": "stream",
     "text": [
      "/Users/Admin/opt/anaconda3/lib/python3.8/site-packages/pandas/core/frame.py:4296: SettingWithCopyWarning: \n",
      "A value is trying to be set on a copy of a slice from a DataFrame\n",
      "\n",
      "See the caveats in the documentation: https://pandas.pydata.org/pandas-docs/stable/user_guide/indexing.html#returning-a-view-versus-a-copy\n",
      "  return super().rename(\n"
     ]
    }
   ],
   "source": [
    "#Check filter col for PASS values\n",
    "\n",
    "dfFilterQuality80Freq = dfFilterQuality80[dfFilterQuality80['freq'] > 0]\n",
    "dfFilterQuality80Freq.rename(columns = {'filter':'filter1'}, inplace = True)\n",
    "#print(dfFilterQuality80Freq.head())\n",
    "colDfFreq = dfFilterQuality80Freq.columns\n",
    "print(colDf)\n",
    "print(len(dfFilterQuality80Freq))\n",
    "\n",
    "filterPass = dfFilterQuality80Freq.filter1.unique()\n",
    "print(filterPass)"
   ]
  },
  {
   "cell_type": "code",
   "execution_count": 11,
   "metadata": {},
   "outputs": [
    {
     "name": "stdout",
     "output_type": "stream",
     "text": [
      "Mu bins:  [0.004 0.013 0.02  0.03  0.041 0.051 0.062 0.073 0.083 0.094 0.105 0.117\n",
      " 0.128 0.139 0.151 0.163 0.174 0.186 0.198 0.211 0.223 0.236 0.248 0.261\n",
      " 0.274 0.288 0.301 0.315 0.329 0.342 0.357 0.371 0.386 0.4   0.416 0.431\n",
      " 0.446 0.462 0.478 0.494 0.511 0.528 0.545 0.562 0.58  0.598 0.616 0.635\n",
      " 0.654 0.673 0.693 0.713 0.734 0.755 0.777 0.799 0.821 0.844 0.868 0.892\n",
      " 0.916 0.942 0.968 0.994 1.022 1.05  1.079 1.109 1.139 1.171 1.204 1.238\n",
      " 1.273 1.309 1.347 1.386 1.427 1.47  1.514 1.561 1.609 1.661 1.715 1.772\n",
      " 1.833 1.897 1.966 2.04  2.12  2.207 2.303 2.408 2.526 2.659 2.813 2.996\n",
      " 3.219 3.507 3.912]\n",
      "Proportions:  [0.         0.01910172 0.02860941 0.04146476 0.05603141 0.07144506\n",
      " 0.08723668 0.10294687 0.11942358 0.13267028 0.1455741  0.15624069\n",
      " 0.16988954 0.18287931 0.19503817 0.21283723 0.22148139 0.23398453\n",
      " 0.2485061  0.25011116 0.27976102 0.28829167 0.28750307 0.30544218\n",
      " 0.33430233 0.34162779 0.34428384 0.36225266 0.38932633 0.36168224\n",
      " 0.40813953 0.39615385 0.41940299 0.42727273 0.43789474 0.40732265\n",
      " 0.46518106 0.47474747 0.46446701 0.44237918 0.52020202 0.45283019\n",
      " 0.51381215 0.45251397 0.4751773  0.56074766 0.57407407 0.68604651\n",
      " 0.55238095 0.54666667 0.5        0.57894737 0.54054054 0.70909091\n",
      " 0.67857143 0.59016393 0.65151515 0.66666667 0.61052632 0.74509804\n",
      " 0.69090909 0.80246914 0.69014085 0.81553398 0.78947368 0.74698795\n",
      " 0.74647887 0.66285714 0.7826087  0.85833333 0.69651741 0.78137652\n",
      " 0.82089552 0.78571429 0.83505155 0.8512035  0.86067416 0.83588317\n",
      " 0.86767169 0.86440678 0.88214286 0.90350128 0.90135135 0.89366053\n",
      " 0.90541344 0.91328829 0.92874455 0.92904363 0.9252764  0.92910284\n",
      " 0.94898857 0.94870651 0.96090308 0.96446701 0.96877502 0.96854305\n",
      " 0.98695652 0.98275862 0.88888889]\n"
     ]
    }
   ],
   "source": [
    "bins1 = dfFilterQuality80.mu.unique()\n",
    "bins1 = np.sort(bins1)\n",
    "print(\"Mu bins: \", bins1)\n",
    "\n",
    "fractionBinArray1 = np.zeros(len(bins))\n",
    "\n",
    "for i in range(len(bins)):\n",
    "    fractionFreqGreater0 = 0\n",
    "    dfBinned = dfFilterQuality80[dfFilterQuality80['mu'] == bins1[i]]\n",
    "    #print(dfBinned.head())\n",
    "    #print(dfBinned.tail())\n",
    "    dfGreaterZero = dfBinned[dfBinned['freq'] > 0]\n",
    "    dfGreaterZeroPass = dfGreaterZero[dfGreaterZero['filter'] == 'PASS']\n",
    "    \n",
    "    fractionFreqGreater0 = len(dfGreaterZeroPass) / len(dfBinned)\n",
    "    fractionBinArray1[i] = fractionFreqGreater0\n",
    "    \n",
    "#print(len(dfGreaterZeroPass))  \n",
    "print(\"Proportions: \", fractionBinArray1)\n",
    "\n",
    "lowessBins1 = np.delete(bins1, len(bins1)-1)\n",
    "lowessFractionBinArray1 = np.delete(fractionBinArray1, len(fractionBinArray1)-1)"
   ]
  },
  {
   "cell_type": "code",
   "execution_count": 12,
   "metadata": {
    "scrolled": false
   },
   "outputs": [
    {
     "name": "stdout",
     "output_type": "stream",
     "text": [
      "LOWESS:  [[0.004      0.01563248]\n",
      " [0.013      0.02649739]\n",
      " [0.02       0.03492937]\n",
      " [0.03       0.04694686]\n",
      " [0.041      0.06012849]\n",
      " [0.051      0.07207898]\n",
      " [0.062      0.08519071]\n",
      " [0.073      0.09826994]\n",
      " [0.083      0.11013467]\n",
      " [0.094      0.12316076]\n",
      " [0.105      0.13616305]\n",
      " [0.117      0.15032222]\n",
      " [0.128      0.16327917]\n",
      " [0.139      0.17621439]\n",
      " [0.151      0.19029784]\n",
      " [0.163      0.20434098]\n",
      " [0.174      0.21713877]\n",
      " [0.186      0.23086862]\n",
      " [0.198      0.24362496]\n",
      " [0.211      0.25713449]\n",
      " [0.223      0.26934774]\n",
      " [0.236      0.28229027]\n",
      " [0.248      0.29389921]\n",
      " [0.261      0.30610069]\n",
      " [0.274      0.31792505]\n",
      " [0.288      0.33038019]\n",
      " [0.301      0.34147623]\n",
      " [0.315      0.35309125]\n",
      " [0.329      0.36431601]\n",
      " [0.342      0.37426393]\n",
      " [0.357      0.38537426]\n",
      " [0.371      0.39507551]\n",
      " [0.386      0.40493252]\n",
      " [0.4        0.41352233]\n",
      " [0.416      0.42342655]\n",
      " [0.431      0.43291274]\n",
      " [0.446      0.44270102]\n",
      " [0.462      0.45317824]\n",
      " [0.478      0.46330264]\n",
      " [0.494      0.47290297]\n",
      " [0.511      0.48240769]\n",
      " [0.528      0.49162728]\n",
      " [0.545      0.50086217]\n",
      " [0.562      0.51014151]\n",
      " [0.58       0.51996854]\n",
      " [0.598      0.52980814]\n",
      " [0.616      0.53957018]\n",
      " [0.635      0.54982117]\n",
      " [0.654      0.56014846]\n",
      " [0.673      0.57064786]\n",
      " [0.693      0.58193629]\n",
      " [0.713      0.59340525]\n",
      " [0.734      0.60568421]\n",
      " [0.755      0.61818019]\n",
      " [0.777      0.63124039]\n",
      " [0.799      0.64375401]\n",
      " [0.821      0.65513034]\n",
      " [0.844      0.66596514]\n",
      " [0.868      0.67657417]\n",
      " [0.892      0.6863358 ]\n",
      " [0.916      0.69567238]\n",
      " [0.942      0.70516836]\n",
      " [0.968      0.71423921]\n",
      " [0.994      0.72308282]\n",
      " [1.022      0.73233304]\n",
      " [1.05       0.74144398]\n",
      " [1.079      0.75063366]\n",
      " [1.109      0.75968442]\n",
      " [1.139      0.76818488]\n",
      " [1.171      0.77675225]\n",
      " [1.204      0.78524531]\n",
      " [1.238      0.7938211 ]\n",
      " [1.273      0.8023713 ]\n",
      " [1.309      0.81084357]\n",
      " [1.347      0.8194042 ]\n",
      " [1.386      0.82779985]\n",
      " [1.427      0.83617743]\n",
      " [1.47       0.84445695]\n",
      " [1.514      0.85275129]\n",
      " [1.561      0.86112164]\n",
      " [1.609      0.86907576]\n",
      " [1.661      0.87694904]\n",
      " [1.715      0.88395519]\n",
      " [1.772      0.89141438]\n",
      " [1.833      0.89874551]\n",
      " [1.897      0.90553002]\n",
      " [1.966      0.91227298]\n",
      " [2.04       0.91912707]\n",
      " [2.12       0.92527442]\n",
      " [2.207      0.93169585]\n",
      " [2.303      0.93808135]\n",
      " [2.408      0.94409762]\n",
      " [2.526      0.95022124]\n",
      " [2.659      0.95717911]\n",
      " [2.813      0.96539331]\n",
      " [2.996      0.9751628 ]\n",
      " [3.219      0.98684212]\n",
      " [3.507      1.00136853]]\n"
     ]
    },
    {
     "data": {
      "text/plain": [
       "<matplotlib.legend.Legend at 0x7fe462fb64f0>"
      ]
     },
     "execution_count": 12,
     "metadata": {},
     "output_type": "execute_result"
    },
    {
     "data": {
      "image/png": "[encoded data removed]",
      "text/plain": [
       "<Figure size 1152x432 with 1 Axes>"
      ]
     },
     "metadata": {
      "needs_background": "light"
     },
     "output_type": "display_data"
    }
   ],
   "source": [
    "fig, ax = plt.subplots(nrows=1, ncols=1, figsize=(16,6))\n",
    "\n",
    "plt.scatter(bins1, fractionBinArray1, c = 'grey')\n",
    "plt.xscale(\"log\")\n",
    "plt.xlabel(\"Mu\")\n",
    "plt.ylabel(\"Proportion\")\n",
    "\n",
    "#LOWESS\n",
    "lowess1 = sm.nonparametric.lowess\n",
    "z1 = lowess1(lowessFractionBinArray1, lowessBins1, frac = 1./3, it = 0)\n",
    "#print(lowessBins1)\n",
    "#print(lowessFractionBinArray1)\n",
    "print(\"LOWESS: \", z1)\n",
    "\n",
    "#Univariate spline to reduce noise in middle bins\n",
    "spl = UnivariateSpline(lowessBins1, lowessFractionBinArray1, s = 1./6)\n",
    "#spl.set_smoothing_factor(100)\n",
    "x_range1 = np.linspace(bins1[0], bins1[len(lowessBins)-1], 50000)\n",
    "\n",
    "#plt.plot(x_range1, spl(x_range1), c = 'r', label='Univariate Spline PASS')\n",
    "plt.plot(z1[:,0], z1[:,1], c = 'y', label='LOWESS PASS')\n",
    "plt.legend()"
   ]
  },
  {
   "cell_type": "code",
   "execution_count": 13,
   "metadata": {
    "scrolled": false
   },
   "outputs": [
    {
     "data": {
      "image/png": "[encoded data removed]",
      "text/plain": [
       "<Figure size 1152x432 with 1 Axes>"
      ]
     },
     "metadata": {
      "needs_background": "light"
     },
     "output_type": "display_data"
    }
   ],
   "source": [
    "fig, ax = plt.subplots(nrows=1, ncols=1, figsize=(16,6))\n",
    "\n",
    "plt.scatter(bins, fractionBinArray, c='b', label='Without PASS filtering')\n",
    "plt.scatter(bins1, fractionBinArray1, c='r', label='With PASS filtering')\n",
    "plt.xlabel(\"Mu\")\n",
    "plt.ylabel(\"Proportion\")\n",
    "plt.xscale(\"log\")\n",
    "plt.legend(loc='upper left')\n",
    "plt.plot(x_range, spl(x_range), c = 'r')\n",
    "plt.plot(x_range1, spl(x_range1), c = 'b')\n",
    "plt.show()"
   ]
  },
  {
   "cell_type": "code",
   "execution_count": 14,
   "metadata": {},
   "outputs": [
    {
     "name": "stdout",
     "output_type": "stream",
     "text": [
      "Fraction of GIAB Sites in original chrom1 df:  0.2510209690732909\n",
      "Fraction of GIAB Sites in filtered chrom1 df (20X >= 0.8):  0.1373663435290909\n",
      "Fraction of GIAB Sites in filtered chrom1 df (20X >= 0.8 and freq > 0):  0.1648576567636296\n",
      "Fraction of GIAB sites in filtered chrom1 df (20X >= 0.8 and freq > 0 and filter == PASS):  0.16455379873696485\n"
     ]
    }
   ],
   "source": [
    "#Check model for df\n",
    "#print(len(dfFilterQuality80))\n",
    "#dfFilterQuality80AC = dfFilterQuality80[dfFilterQuality80['ac'] > 0]\n",
    "#print(len(dfFilterQuality80AC))\n",
    "\n",
    "dfGIAB = df[df['GIAB'] == True]\n",
    "\n",
    "dfFilterQuality80GIAB = dfFilterQuality80[dfFilterQuality80['GIAB'] == True]\n",
    "\n",
    "dfFilterQuality80FreqGIAB = dfFilterQuality80Freq[dfFilterQuality80Freq['GIAB'] == True]\n",
    "\n",
    "dfFilterQuality80FreqPass = dfFilterQuality80Freq[dfFilterQuality80Freq['filter1'] == 'PASS']\n",
    "#print(len(dfFilterQuality80FreqPass))\n",
    "dfFilterQuality80FreqPassGIAB = dfFilterQuality80FreqPass[dfFilterQuality80FreqPass['GIAB'] == True]\n",
    "\n",
    "# print(len(df))\n",
    "# print(len(dfGIAB))\n",
    "# print(len(dfFilterQuality80))\n",
    "# print(len(dfFilterQuality80GIAB))\n",
    "# print(len(dfFilterQuality80Freq))\n",
    "# print(len(dfFilterQuality80FreqGIAB))\n",
    "\n",
    "print(\"Fraction of GIAB Sites in original chrom1 df: \", len(dfGIAB)/len(df))\n",
    "print(\"Fraction of GIAB Sites in filtered chrom1 df (20X >= 0.8): \", len(dfFilterQuality80GIAB) / len(dfFilterQuality80))\n",
    "print(\"Fraction of GIAB Sites in filtered chrom1 df (20X >= 0.8 and freq > 0): \", len(dfFilterQuality80FreqGIAB) / len(dfFilterQuality80Freq))\n",
    "print(\"Fraction of GIAB sites in filtered chrom1 df (20X >= 0.8 and freq > 0 and filter == PASS): \", len(dfFilterQuality80FreqPassGIAB) / len(dfFilterQuality80FreqPass))"
   ]
  },
  {
   "cell_type": "code",
   "execution_count": 15,
   "metadata": {},
   "outputs": [],
   "source": [
    "# bins20X = dfFilterQuality80.over_t.unique()\n",
    "# bins20X = np.sort(bins20X)\n",
    "# print(\"20X bins: \", len(bins20X))\n",
    "\n",
    "# fractionBinArray20X = np.zeros(len(bins20X))\n",
    "\n",
    "# for i in range(len(bins20X)):\n",
    "#     fractionFreqGreater0 = 0\n",
    "#     dfBinned = dfFilterQuality80[dfFilterQuality80['over_t'] == bins20X[i]]\n",
    "#     #print(dfBinned.head())\n",
    "#     #print(dfBinned.tail())\n",
    "#     dfGreaterZero = dfBinned[dfBinned['freq'] > 0]\n",
    "#     fractionFreqGreater0 = len(dfGreaterZero) / len(dfBinned)\n",
    "#     fractionBinArray20X[i] = fractionFreqGreater0\n",
    "    \n",
    "# print(fractionBinArray20X)\n",
    "# plt.scatter(bins20X, fractionBinArray20X)\n",
    "# plt.xlabel(\">20X\")\n",
    "# plt.ylabel(\"Proportion\")"
   ]
  },
  {
   "cell_type": "code",
   "execution_count": 16,
   "metadata": {},
   "outputs": [],
   "source": [
    "# bins20X1 = dfFilterQuality80.over_t.unique()\n",
    "# bins20X1 = np.sort(bins20X1)\n",
    "# print(\"20X bins: \", bins20X1)\n",
    "\n",
    "# fractionBinArray20X1 = np.zeros(len(bins20X1))\n",
    "\n",
    "# for i in range(len(bins20X1)):\n",
    "#     fractionFreqGreater0 = 0\n",
    "#     dfBinned = dfFilterQuality80[dfFilterQuality80['over_t'] == bins20X1[i]]\n",
    "#     #print(dfBinned.head())\n",
    "#     #print(dfBinned.tail())\n",
    "#     dfGreaterZero = dfBinned[dfBinned['freq'] > 0]\n",
    "#     dfGreaterZeroPass = dfGreaterZero[dfGreaterZero['filter'] == 'PASS']\n",
    "    \n",
    "#     fractionFreqGreater0 = len(dfGreaterZeroPass) / len(dfBinned)\n",
    "#     fractionBinArray20X1[i] = fractionFreqGreater0\n",
    "    \n",
    "# print(len(dfGreaterZeroPass))  \n",
    "# print(fractionBinArray20X1)\n",
    "# plt.scatter(bins20X1, fractionBinArray20X1)\n",
    "# plt.xlabel(\">20X\")\n",
    "# plt.ylabel(\"Proportion\")"
   ]
  },
  {
   "cell_type": "code",
   "execution_count": 17,
   "metadata": {},
   "outputs": [],
   "source": [
    "# plt.scatter(bins20X, fractionBinArray20X, c='b', label='Without PASS filtering')\n",
    "# plt.scatter(bins20X1, fractionBinArray20X1, c='r', label='With PASS filtering')\n",
    "# plt.xlabel(\">20X\")\n",
    "# plt.ylabel(\"Proportion\")\n",
    "# plt.xscale(\"log\")\n",
    "# plt.legend(loc='upper right')\n",
    "# plt.show()"
   ]
  },
  {
   "cell_type": "code",
   "execution_count": 18,
   "metadata": {},
   "outputs": [
    {
     "name": "stdout",
     "output_type": "stream",
     "text": [
      "1572016\n"
     ]
    }
   ],
   "source": [
    "dfFilterQuality80 = dfFilterQuality80[dfFilterQuality80['filter'] == 'PASS']\n",
    "\n",
    "dfFilterQuality80.insert(57, 'logistic_freq', [1 for x in range(len(dfFilterQuality80))])\n",
    "\n",
    "dfFilterQuality80['logistic_freq'] = np.where((dfFilterQuality80.freq == 0), 0, dfFilterQuality80.logistic_freq)\n",
    "print(len(dfFilterQuality80))"
   ]
  },
  {
   "cell_type": "code",
   "execution_count": 19,
   "metadata": {},
   "outputs": [
    {
     "name": "stdout",
     "output_type": "stream",
     "text": [
      "[-4.64152731 -3.93869025 -3.52499307 -3.14056231 -2.82418037 -2.56470077\n",
      " -2.34785174 -2.16490201 -1.99790006 -1.87755227 -1.76974459 -1.68646958\n",
      " -1.58641029 -1.49696039 -1.41759959 -1.30790735 -1.25705432 -1.18594738\n",
      " -1.10659573 -1.09801952 -0.94564736 -0.90369545 -0.90754207 -0.82151493\n",
      " -0.68878988 -0.65604864 -0.64426159 -0.56560025 -0.45014482 -0.56807017\n",
      " -0.37166179 -0.42151682 -0.32522467 -0.29298712 -0.24971058 -0.37504451\n",
      " -0.13950156 -0.10109612 -0.14237198 -0.2315118   0.0808521  -0.189242\n",
      "  0.05526268 -0.19051832 -0.09937247  0.24419696  0.29849299  0.78170058\n",
      "  0.21029541  0.18721154  0.          0.31845373  0.16251893  0.89097292\n",
      "  0.7472144   0.36464311  0.6257059   0.69314718  0.4495251   1.0726368\n",
      "  0.80437282  1.40179855  0.80077784  1.48637782  1.32175584  1.08261195\n",
      "  1.07992016  0.67605275  1.28093385  1.80151564  0.83076856  1.27370614\n",
      "  1.52242654  1.29928298  1.62186043  1.74407164  1.8209006   1.62791031\n",
      "  1.88052739  1.85238409  2.01288078  2.23674779  2.2123306   2.12868948\n",
      "  2.25887634  2.35446263  2.56756237  2.57209054  2.51629655  2.57298913\n",
      "  2.92334695  2.91753569  3.20182996  3.30111392  3.43481399  3.42717287\n",
      "  4.32633773  4.04305127  2.07944154]\n",
      "     chrom     pos             gene ref alt      freq  freq_nfe     mu  qual  \\\n",
      "629      1  925947  ENSG00000187634   C   A  0.000000  0.000000  0.020  high   \n",
      "630      1  925947  ENSG00000187634   C   G  0.000000  0.000000  0.041  high   \n",
      "631      1  925947  ENSG00000187634   C   T  0.000004  0.000009  0.139  high   \n",
      "632      1  925950  ENSG00000187634   G   A  0.000004  0.000009  0.163  high   \n",
      "633      1  925953  ENSG00000187634   G   A  0.000000  0.000000  0.261  high   \n",
      "\n",
      "    context  ...  n_alt_alleles   pab_max  rf_label  rf_negative_label  \\\n",
      "629   TCCAA  ...            1.0  0.499897       NaN              False   \n",
      "630   TCCAA  ...            1.0  0.499897       NaN              False   \n",
      "631   TCCAA  ...            1.0  0.499897       NaN              False   \n",
      "632   CCCTT  ...            1.0  0.114660       NaN              False   \n",
      "633   ATCCC  ...            1.0  0.668285       NaN              False   \n",
      "\n",
      "     rf_positive_label  rf_tp_probability_label  interp_dist  GIAB  \\\n",
      "629              False                      NaN            0     1   \n",
      "630              False                      NaN            0     1   \n",
      "631              False                      NaN            0     1   \n",
      "632              False                      NaN            0     1   \n",
      "633              False                      NaN            0     1   \n",
      "\n",
      "     logistic_freq  logit_transform_proportion  \n",
      "629              0                   -3.524993  \n",
      "630              0                   -2.824180  \n",
      "631              1                   -1.496960  \n",
      "632              1                   -1.307907  \n",
      "633              0                   -0.821515  \n",
      "\n",
      "[5 rows x 59 columns]\n"
     ]
    }
   ],
   "source": [
    "#Logit transform of proportions with PASS filtering\n",
    "\n",
    "fractionBinArray1[0] = 0.00955086 #Change 0 to half of smallest nonzero proportion: 0.01910172 / 2 = 0.00955086. logit(0.00955086) = -4.64152731\n",
    "logitFractionBinArray1 = lgTransform(fractionBinArray1)\n",
    "print(logitFractionBinArray1)\n",
    "\n",
    "bins1.tolist()\n",
    "logitFractionBinArray1.tolist()\n",
    "        \n",
    "mutationPropDict = {bins1[i]: logitFractionBinArray1[i] for i in range(len(bins1))}\n",
    "#print(\"Resultant dictionary is : \" +  str(mutationPropDict))\n",
    "\n",
    "#dfFilterQuality80.insert(58, 'logit_transform_proportion', [1 for x in range(len(dfFilterQuality80))])\n",
    "muCol = dfFilterQuality80.loc[:,'mu']\n",
    "muVals = muCol.values\n",
    "#print(muVals)\n",
    "\n",
    "logitTransformArray = np.zeros(len(muVals))\n",
    "\n",
    "for i in range(len(muVals)):\n",
    "    logitTransformArray[i] = mutationPropDict[muVals[i]]\n",
    "    \n",
    "dfFilterQuality80['logit_transform_proportion'] = logitTransformArray.tolist()\n",
    "print(dfFilterQuality80.head())\n",
    "\n",
    "#dfFilterQuality80.to_csv('fake_transcript_variants_syn_v5_chrom1_transformed.csv', index=False)"
   ]
  },
  {
   "cell_type": "code",
   "execution_count": 20,
   "metadata": {},
   "outputs": [
    {
     "name": "stdout",
     "output_type": "stream",
     "text": [
      "Logit transform:  [-4.14264840e+00 -3.60385423e+00 -3.31887340e+00 -3.01065438e+00\n",
      " -2.74925936e+00 -2.55518415e+00 -2.37382322e+00 -2.21659707e+00\n",
      " -2.08936628e+00 -1.96283314e+00 -1.84753098e+00 -1.73207604e+00\n",
      " -1.63402903e+00 -1.54220895e+00 -1.44807605e+00 -1.35938063e+00\n",
      " -1.28241878e+00 -1.20341298e+00 -1.13290734e+00 -1.06091578e+00\n",
      " -9.97934380e-01 -9.33129344e-01 -8.76521102e-01 -8.18412782e-01\n",
      " -7.63323866e-01 -7.06466017e-01 -6.56722525e-01 -6.05478707e-01\n",
      " -5.56679921e-01 -5.13967414e-01 -4.66798574e-01 -4.26026726e-01\n",
      " -3.84954394e-01 -3.49423099e-01 -3.08722684e-01 -2.69976994e-01\n",
      " -2.30207211e-01 -1.87837371e-01 -1.47053851e-01 -1.08494422e-01\n",
      " -7.03982845e-02 -3.34940264e-02  3.44866853e-03  4.05715996e-02\n",
      "  7.99166800e-02  1.19374106e-01  1.58612432e-01  1.99948183e-01\n",
      "  2.41764575e-01  2.84494899e-01  3.30727118e-01  3.78060554e-01\n",
      "  4.29206676e-01  4.81831194e-01  5.37541801e-01  5.91695205e-01\n",
      "  6.41667646e-01  6.89991972e-01  7.38072249e-01  7.83044041e-01\n",
      "  8.26774005e-01  8.72032084e-01  9.16062868e-01  9.59805317e-01\n",
      "  1.00649186e+00  1.05348723e+00  1.10199468e+00  1.15095014e+00\n",
      "  1.19809027e+00  1.24683929e+00  1.29649975e+00  1.34811387e+00\n",
      "  1.40118143e+00  1.45550078e+00  1.51231609e+00  1.57011396e+00\n",
      "  1.63005689e+00  1.69177120e+00  1.75634488e+00  1.82463732e+00\n",
      "  1.89281149e+00  1.96385026e+00  2.03043000e+00  2.10527045e+00\n",
      "  2.18336284e+00  2.26023826e+00  2.34170935e+00  2.43054518e+00\n",
      "  2.51626785e+00  2.61303583e+00  2.71801525e+00  2.82662269e+00\n",
      "  2.94910644e+00  3.10696445e+00  3.32848859e+00  3.67026208e+00\n",
      "  4.31748950e+00  4.31748950e+00  4.31748950e+00]\n",
      "     chrom     pos             gene ref alt      freq  freq_nfe     mu  qual  \\\n",
      "629      1  925947  ENSG00000187634   C   A  0.000000  0.000000  0.020  high   \n",
      "630      1  925947  ENSG00000187634   C   G  0.000000  0.000000  0.041  high   \n",
      "631      1  925947  ENSG00000187634   C   T  0.000004  0.000009  0.139  high   \n",
      "632      1  925950  ENSG00000187634   G   A  0.000004  0.000009  0.163  high   \n",
      "633      1  925953  ENSG00000187634   G   A  0.000000  0.000000  0.261  high   \n",
      "\n",
      "    context  ...   pab_max  rf_label  rf_negative_label  rf_positive_label  \\\n",
      "629   TCCAA  ...  0.499897       NaN              False              False   \n",
      "630   TCCAA  ...  0.499897       NaN              False              False   \n",
      "631   TCCAA  ...  0.499897       NaN              False              False   \n",
      "632   CCCTT  ...  0.114660       NaN              False              False   \n",
      "633   ATCCC  ...  0.668285       NaN              False              False   \n",
      "\n",
      "     rf_tp_probability_label  interp_dist  GIAB  logistic_freq  \\\n",
      "629                      NaN            0     1              0   \n",
      "630                      NaN            0     1              0   \n",
      "631                      NaN            0     1              1   \n",
      "632                      NaN            0     1              1   \n",
      "633                      NaN            0     1              0   \n",
      "\n",
      "     logit_transform_proportion  logit_transform_lowess  \n",
      "629                   -3.524993               -3.318873  \n",
      "630                   -2.824180               -2.749259  \n",
      "631                   -1.496960               -1.542209  \n",
      "632                   -1.307907               -1.359381  \n",
      "633                   -0.821515               -0.818413  \n",
      "\n",
      "[5 rows x 60 columns]\n"
     ]
    }
   ],
   "source": [
    "#Logit transform of LOWESS curve with PASS filtering\n",
    "\n",
    "lowessYVals = z1[:,1]\n",
    "#print(\"Original\", lowessYVals)\n",
    "lowessYVals[-1] = lowessYVals[-2]\n",
    "#print(\"Change 1.002 value\", lowessYVals)\n",
    "newLowessYVals = np.append(lowessYVals, lowessYVals[-1])\n",
    "#print(\"Add last mutation rate bin (3.912)\", newLowessYVals)\n",
    "logitLowess = lgTransform(newLowessYVals)\n",
    "print(\"Logit transform: \", logitLowess)\n",
    "\n",
    "bins1.tolist()\n",
    "logitLowess.tolist()\n",
    "        \n",
    "mutationLowessDict = {bins1[i]: logitLowess[i] for i in range(len(bins1))}\n",
    "\n",
    "#print(\"Resultant dictionary is : \" +  str(mutationLowessDict))\n",
    "\n",
    "#dfFilterQuality80.insert(59, 'logit_transform_lowess', [1 for x in range(len(dfFilterQuality80))])\n",
    "muCol = dfFilterQuality80.loc[:,'mu']\n",
    "muVals = muCol.values\n",
    "#print(muVals)\n",
    "\n",
    "logitTransformLOWESSArray = np.zeros(len(muVals))\n",
    "\n",
    "for i in range(len(muVals)):\n",
    "    logitTransformLOWESSArray[i] = mutationLowessDict[muVals[i]]\n",
    "    \n",
    "dfFilterQuality80['logit_transform_lowess'] = logitTransformLOWESSArray.tolist()\n",
    "print(dfFilterQuality80.head())\n",
    "\n",
    "#dfFilterQuality80.to_csv('fake_transcript_variants_syn_v5_chrom1_transformed.csv', index=False)"
   ]
  },
  {
   "cell_type": "code",
   "execution_count": 21,
   "metadata": {},
   "outputs": [
    {
     "name": "stdout",
     "output_type": "stream",
     "text": [
      "629    0.99757\n",
      "630    0.99757\n",
      "631    0.99757\n",
      "632    0.99768\n",
      "633    0.99768\n",
      "Name: over_20, dtype: float64\n",
      "     chrom     pos             gene ref alt      freq  freq_nfe     mu  qual  \\\n",
      "629      1  925947  ENSG00000187634   C   A  0.000000  0.000000  0.020  high   \n",
      "630      1  925947  ENSG00000187634   C   G  0.000000  0.000000  0.041  high   \n",
      "631      1  925947  ENSG00000187634   C   T  0.000004  0.000009  0.139  high   \n",
      "632      1  925950  ENSG00000187634   G   A  0.000004  0.000009  0.163  high   \n",
      "633      1  925953  ENSG00000187634   G   A  0.000000  0.000000  0.261  high   \n",
      "\n",
      "    context  ...  rf_label  rf_negative_label  rf_positive_label  \\\n",
      "629   TCCAA  ...       NaN              False              False   \n",
      "630   TCCAA  ...       NaN              False              False   \n",
      "631   TCCAA  ...       NaN              False              False   \n",
      "632   CCCTT  ...       NaN              False              False   \n",
      "633   ATCCC  ...       NaN              False              False   \n",
      "\n",
      "     rf_tp_probability_label  interp_dist  GIAB  logistic_freq  \\\n",
      "629                      NaN            0     1              0   \n",
      "630                      NaN            0     1              0   \n",
      "631                      NaN            0     1              1   \n",
      "632                      NaN            0     1              1   \n",
      "633                      NaN            0     1              0   \n",
      "\n",
      "     logit_transform_proportion  logit_transform_lowess  \\\n",
      "629                   -3.524993               -3.318873   \n",
      "630                   -2.824180               -2.749259   \n",
      "631                   -1.496960               -1.542209   \n",
      "632                   -1.307907               -1.359381   \n",
      "633                   -0.821515               -0.818413   \n",
      "\n",
      "     GIAB_over20_interaction  \n",
      "629                  0.99757  \n",
      "630                  0.99757  \n",
      "631                  0.99757  \n",
      "632                  0.99768  \n",
      "633                  0.99768  \n",
      "\n",
      "[5 rows x 61 columns]\n"
     ]
    }
   ],
   "source": [
    "#New covariate GIAB * over_20 coverage\n",
    "\n",
    "dfFilterQuality80['GIAB_over20_interaction'] = dfFilterQuality80.GIAB * dfFilterQuality80.over_20\n",
    "print(dfFilterQuality80['over_20'].head())\n",
    "print(dfFilterQuality80.head())"
   ]
  },
  {
   "cell_type": "code",
   "execution_count": 22,
   "metadata": {},
   "outputs": [
    {
     "name": "stdout",
     "output_type": "stream",
     "text": [
      "Sklearn logistic: intercept = -2.542, slope = 4.662\n"
     ]
    },
    {
     "data": {
      "text/plain": [
       "[<matplotlib.lines.Line2D at 0x7fe463356970>]"
      ]
     },
     "execution_count": 22,
     "metadata": {},
     "output_type": "execute_result"
    },
    {
     "data": {
      "image/png": "[encoded data removed]",
      "text/plain": [
       "<Figure size 1152x432 with 1 Axes>"
      ]
     },
     "metadata": {
      "needs_background": "light"
     },
     "output_type": "display_data"
    }
   ],
   "source": [
    "def sigm(z):\n",
    "    return 1 / (1 + np.exp(-z))\n",
    "\n",
    "independentVar = dfFilterQuality80['mu']\n",
    "\n",
    "y, X = dfFilterQuality80['logistic_freq'], independentVar.values.reshape(-1,1)\n",
    "\n",
    "XMin = np.min(independentVar)\n",
    "XMax = np.max(independentVar)\n",
    "#print(\"Independent Var: \", X)\n",
    "#print(\"Dependent Var\", y)\n",
    "\n",
    "fig, ax = plt.subplots(nrows=1, ncols=1, figsize=(16,6))\n",
    "\n",
    "plt.scatter(X,y)\n",
    "\n",
    "# Initialize the LogisticRegression method with parameters \n",
    "logreg = LogisticRegression(fit_intercept=True, C=1000)\n",
    "\n",
    "# Fit the model to the data \n",
    "logreg.fit(X, y)\n",
    "\n",
    "# Extract and print the parameters \n",
    "b0 = logreg.intercept_[0]\n",
    "b1 = logreg.coef_[0][0]\n",
    "print(\"Sklearn logistic: intercept = {:.3f}, slope = {:.3f}\".format(b0, b1))\n",
    "\n",
    "x = np.linspace(XMin,XMax,50000)\n",
    "p = sigm(b0 + b1*x)\n",
    "\n",
    "plt.plot(x, p, color=\"steelblue\", lw=3)"
   ]
  },
  {
   "cell_type": "code",
   "execution_count": 23,
   "metadata": {},
   "outputs": [
    {
     "name": "stdout",
     "output_type": "stream",
     "text": [
      "     chrom     pos             gene ref alt      freq  freq_nfe     mu  qual  \\\n",
      "629      1  925947  ENSG00000187634   C   A  0.000000  0.000000  0.020  high   \n",
      "630      1  925947  ENSG00000187634   C   G  0.000000  0.000000  0.041  high   \n",
      "631      1  925947  ENSG00000187634   C   T  0.000004  0.000009  0.139  high   \n",
      "632      1  925950  ENSG00000187634   G   A  0.000004  0.000009  0.163  high   \n",
      "633      1  925953  ENSG00000187634   G   A  0.000000  0.000000  0.261  high   \n",
      "\n",
      "    context  ...  rf_label  rf_negative_label  rf_positive_label  \\\n",
      "629   TCCAA  ...       NaN              False              False   \n",
      "630   TCCAA  ...       NaN              False              False   \n",
      "631   TCCAA  ...       NaN              False              False   \n",
      "632   CCCTT  ...       NaN              False              False   \n",
      "633   ATCCC  ...       NaN              False              False   \n",
      "\n",
      "     rf_tp_probability_label  interp_dist  GIAB  logistic_freq  \\\n",
      "629                      NaN            0     1              0   \n",
      "630                      NaN            0     1              0   \n",
      "631                      NaN            0     1              1   \n",
      "632                      NaN            0     1              1   \n",
      "633                      NaN            0     1              0   \n",
      "\n",
      "     logit_transform_proportion  logit_transform_lowess  \\\n",
      "629                   -3.524993               -3.318873   \n",
      "630                   -2.824180               -2.749259   \n",
      "631                   -1.496960               -1.542209   \n",
      "632                   -1.307907               -1.359381   \n",
      "633                   -0.821515               -0.818413   \n",
      "\n",
      "     GIAB_over20_interaction  \n",
      "629                 2.657333  \n",
      "630                 2.657333  \n",
      "631                 2.657333  \n",
      "632                 2.657670  \n",
      "633                 2.657670  \n",
      "\n",
      "[5 rows x 61 columns]\n"
     ]
    }
   ],
   "source": [
    "#Standardize MQ and coverage covariates\n",
    "over20Mean = dfFilterQuality80['over_20'].mean()\n",
    "#print(over20Mean)\n",
    "over20StdDev = dfFilterQuality80['over_20'].std()\n",
    "#print(dfFilterQuality80['over_20'].head())\n",
    "dfFilterQuality80['over_20'] = dfFilterQuality80['over_20'] - over20Mean\n",
    "dfFilterQuality80['over_20'] = dfFilterQuality80['over_20'] / over20StdDev\n",
    "#print(dfFilterQuality80['over_20'].head())\n",
    "\n",
    "over100Mean = dfFilterQuality80['over_100'].mean()\n",
    "over100StdDev = dfFilterQuality80['over_100'].std()\n",
    "dfFilterQuality80['over_100'] = dfFilterQuality80['over_100'] - over100Mean\n",
    "dfFilterQuality80['over_100'] = dfFilterQuality80['over_100'] / over100StdDev\n",
    "\n",
    "MQMean = dfFilterQuality80['MQ'].mean()\n",
    "MQStdDev = dfFilterQuality80['MQ'].std()\n",
    "dfFilterQuality80['MQ'] = dfFilterQuality80['MQ'] - MQMean\n",
    "dfFilterQuality80['MQ'] = dfFilterQuality80['MQ'] / MQStdDev\n",
    "\n",
    "GIABOver20Mean = dfFilterQuality80['GIAB_over20_interaction'].mean()\n",
    "GIABOver20StdDev = dfFilterQuality80['GIAB_over20_interaction'].std()\n",
    "#print(GIABOver20Mean)\n",
    "#print(GIABOver20StdDev)\n",
    "dfFilterQuality80['GIAB_over20_interaction'] = dfFilterQuality80['GIAB_over20_interaction'] - GIABOver20Mean\n",
    "dfFilterQuality80['GIAB_over20_interaction'] = dfFilterQuality80['GIAB_over20_interaction'] / GIABOver20StdDev\n",
    "\n",
    "#print(dfFilterQuality80['over_20'].head(20))\n",
    "#print(dfFilterQuality80['over_100'].head(20))\n",
    "#print(dfFilterQuality80['MQ'].head(20))\n",
    "\n",
    "print(dfFilterQuality80.head())"
   ]
  },
  {
   "cell_type": "code",
   "execution_count": 32,
   "metadata": {},
   "outputs": [
    {
     "name": "stdout",
     "output_type": "stream",
     "text": [
      "Logit transformed raw proportions: \n",
      "                 Generalized Linear Model Regression Results                  \n",
      "==============================================================================\n",
      "Dep. Variable:          logistic_freq   No. Observations:              1572016\n",
      "Model:                            GLM   Df Residuals:                  1572011\n",
      "Model Family:                Binomial   Df Model:                            4\n",
      "Link Function:                  logit   Scale:                          1.0000\n",
      "Method:                          IRLS   Log-Likelihood:            -4.8039e+05\n",
      "Date:                Mon, 12 Jul 2021   Deviance:                   9.6078e+05\n",
      "Time:                        07:55:28   Pearson chi2:                 1.56e+06\n",
      "No. Iterations:                     6                                         \n",
      "Covariance Type:            nonrobust                                         \n",
      "===========================================================================================\n",
      "                              coef    std err          z      P>|z|      [0.025      0.975]\n",
      "-------------------------------------------------------------------------------------------\n",
      "over_20                    -0.0166      0.003     -5.772      0.000      -0.022      -0.011\n",
      "over_100                    0.0065      0.003      2.268      0.023       0.001       0.012\n",
      "GIAB                        0.4058      0.020     20.293      0.000       0.367       0.445\n",
      "MQ                          0.0331      0.003     11.296      0.000       0.027       0.039\n",
      "GIAB_over20_interaction    -0.1046      0.007    -14.205      0.000      -0.119      -0.090\n",
      "===========================================================================================\n",
      "                 Generalized Linear Model Regression Results                  \n",
      "==============================================================================\n",
      "Dep. Variable:          logistic_freq   No. Observations:              1572016\n",
      "Model:                            GLM   Df Residuals:                  1572011\n",
      "Model Family:                Binomial   Df Model:                            4\n",
      "Link Function:                  logit   Scale:                          1.0000\n",
      "Method:                          IRLS   Log-Likelihood:            -4.8101e+05\n",
      "Date:                Mon, 12 Jul 2021   Deviance:                   9.6201e+05\n",
      "Time:                        07:55:36   Pearson chi2:                 1.48e+06\n",
      "No. Iterations:                     6                                         \n",
      "Covariance Type:            nonrobust                                         \n",
      "===========================================================================================\n",
      "                              coef    std err          z      P>|z|      [0.025      0.975]\n",
      "-------------------------------------------------------------------------------------------\n",
      "over_20                    -0.0153      0.003     -5.353      0.000      -0.021      -0.010\n",
      "over_100                    0.0068      0.003      2.363      0.018       0.001       0.012\n",
      "GIAB                        0.4831      0.020     24.272      0.000       0.444       0.522\n",
      "MQ                          0.0331      0.003     11.337      0.000       0.027       0.039\n",
      "GIAB_over20_interaction    -0.1290      0.007    -17.600      0.000      -0.143      -0.115\n",
      "===========================================================================================\n",
      "GIAB Model test: \n",
      "                 Generalized Linear Model Regression Results                  \n",
      "==============================================================================\n",
      "Dep. Variable:          logistic_freq   No. Observations:              1572016\n",
      "Model:                            GLM   Df Residuals:                  1572015\n",
      "Model Family:                Binomial   Df Model:                            0\n",
      "Link Function:                  logit   Scale:                          1.0000\n",
      "Method:                          IRLS   Log-Likelihood:            -4.8126e+05\n",
      "Date:                Mon, 12 Jul 2021   Deviance:                   9.6251e+05\n",
      "Time:                        07:55:40   Pearson chi2:                 1.54e+06\n",
      "No. Iterations:                     5                                         \n",
      "Covariance Type:            nonrobust                                         \n",
      "==============================================================================\n",
      "                 coef    std err          z      P>|z|      [0.025      0.975]\n",
      "------------------------------------------------------------------------------\n",
      "GIAB           0.1549      0.007     22.519      0.000       0.141       0.168\n",
      "==============================================================================\n"
     ]
    }
   ],
   "source": [
    "# GLM logistic model\n",
    "freq_mod = smf.glm(\"logistic_freq ~ over_20 + over_100 + GIAB + MQ + GIAB_over20_interaction + 0\", data = dfFilterQuality80, family = sm.families.Binomial(), offset = dfFilterQuality80['logit_transform_proportion']).fit()\n",
    "print(\"Logit transformed raw proportions: \")\n",
    "print(freq_mod.summary())\n",
    "\n",
    "#print(\"Logit transformed LOWESS proportions: \")\n",
    "LOWESS_mod = smf.glm(\"logistic_freq ~ over_20 + over_100 + GIAB + MQ + GIAB_over20_interaction + 0\", data = dfFilterQuality80, family = sm.families.Binomial(), offset = dfFilterQuality80['logit_transform_lowess']).fit()\n",
    "print(LOWESS_mod.summary())\n",
    "\n",
    "print(\"GIAB Model test: \")\n",
    "test_mod = smf.glm(\"logistic_freq ~ GIAB + 0\", data = dfFilterQuality80, family = sm.families.Binomial(), offset = dfFilterQuality80['logit_transform_lowess']).fit()\n",
    "print(test_mod.summary())"
   ]
  },
  {
   "cell_type": "code",
   "execution_count": 25,
   "metadata": {},
   "outputs": [
    {
     "name": "stdout",
     "output_type": "stream",
     "text": [
      "Old model prediction (can be ignored):  0.5267313854963034\n",
      "Refined model prediction:  0.05275603445608968\n",
      "Refined model prediction:  0.6568689582072282\n",
      "Refined model prediction:  0.28330023967389817\n",
      "Refined model prediction:  0.04054383141327294\n"
     ]
    }
   ],
   "source": [
    "#Test calculations\n",
    "\n",
    "#Test case with site 925947 on chromosome 1\n",
    "# over_20Mod0 = 0.99757 \n",
    "# over_100Mod0 = 0.2813 \n",
    "# GIABMod0 = 1\n",
    "# MQMod0 = 60\n",
    "#offsetIndex = 0\n",
    "\n",
    "over_20Mod0 = 0.500590 \n",
    "over_100Mod0 = -0.113350 \n",
    "GIABMod0 = 1\n",
    "MQMod0 = 0.630944\n",
    "\n",
    "#Further test cases\n",
    "# over_20Mod1 = 0.9981 \n",
    "# over_100Mod1 = 0.37844 \n",
    "# GIABMod1 = 0\n",
    "# MQMod1 = 56.0900001525878\n",
    "\n",
    "over_20Mod1 = 0.512801\n",
    "over_100Mod1 = 0.281430\n",
    "GIABMod1 = 0 \n",
    "MQMod1 = -2.500981\n",
    "\n",
    "over_20Mod2 = 0.503125\n",
    "over_100Mod2 = -0.024632\n",
    "GIABMod2 = 1 \n",
    "MQMod2 = 0.630944\n",
    "\n",
    "over_20Coeff, over_100Coeff, GIABCoeff, MQCoeff, GIAB_over20_interactionCoeff = LOWESS_mod.params\n",
    "#intercept, \n",
    "test_GIABCoeff = test_mod.params\n",
    "\n",
    "#Old model (w/o GIAB, over_20 coverage interaction). Can be ignored\n",
    "logisticModelProbLOWESS = 1 / (1 + math.exp(-1*((-0.0194 * over_20Mod0) + (0.0069 * over_100Mod0) + (0.0967 * GIABMod0) + (0.0330 * MQMod0))))\n",
    "print(\"Old model prediction (can be ignored): \", logisticModelProbLOWESS)\n",
    "\n",
    "#Refined model\n",
    "logisticModelProbLOWESS0 = 1 / (1 + math.exp(-1*(-3.318873 \n",
    "                                                 + (over_20Coeff * over_20Mod0) \n",
    "                                                 + (over_100Coeff * over_100Mod0) \n",
    "                                                 + (GIABCoeff * GIABMod0) \n",
    "                                                 + (MQCoeff * MQMod0) \n",
    "                                                 + (GIAB_over20_interactionCoeff * (GIABMod0)*(over_20Mod0)))))\n",
    "\n",
    "\n",
    "logisticModelProbLOWESS1 = 1 / (1 + math.exp(-1*(0.738072 \n",
    "                                                 + (over_20Coeff * over_20Mod1) \n",
    "                                                 + (over_100Coeff * over_100Mod1) \n",
    "                                                 + (GIABCoeff * GIABMod1) \n",
    "                                                 + (MQCoeff * MQMod1) \n",
    "                                                 + (GIAB_over20_interactionCoeff * (GIABMod1)*(over_20Mod1)))))\n",
    "\n",
    "logisticModelProbLOWESS2 = 1 / (1 + math.exp(-1*(-1.359381 \n",
    "                                                 + (over_20Coeff * over_20Mod2) \n",
    "                                                 + (over_100Coeff * over_100Mod2) \n",
    "                                                 + (GIABCoeff * GIABMod2) \n",
    "                                                 + (MQCoeff * MQMod2) \n",
    "                                                 + (GIAB_over20_interactionCoeff * (GIABMod2)*(over_20Mod2)))))\n",
    "\n",
    "logisticModelProbLOWESS3 = 1 / (1 + math.exp(-1*(-3.318873 + 0 + (test_GIABCoeff * GIABMod0))))\n",
    "\n",
    "\n",
    "print(\"Refined model prediction: \", logisticModelProbLOWESS0)\n",
    "print(\"Refined model prediction: \", logisticModelProbLOWESS1)\n",
    "print(\"Refined model prediction: \", logisticModelProbLOWESS2)\n",
    "print(\"Refined model prediction: \", logisticModelProbLOWESS3)"
   ]
  },
  {
   "cell_type": "code",
   "execution_count": 26,
   "metadata": {},
   "outputs": [
    {
     "name": "stdout",
     "output_type": "stream",
     "text": [
      "Mu bins:  [0.013 0.02  0.03  0.041 0.051 0.062 0.073 0.083 0.094 0.105 0.117 0.128\n",
      " 0.139 0.151 0.163 0.174 0.186 0.198 0.211 0.223 0.236 0.248 0.261 0.274\n",
      " 0.288 0.301 0.315 0.329 0.342 0.357 0.371 0.386 0.4   0.416 0.431 0.446\n",
      " 0.462 0.478 0.494 0.511 0.528 0.545 0.562 0.58  0.598 0.616 0.635 0.654\n",
      " 0.673 0.693 0.713 0.734 0.755 0.777 0.799 0.821 0.844 0.868 0.892 0.916\n",
      " 0.942 0.968 0.994 1.022 1.05  1.079 1.109 1.139 1.171 1.204 1.238 1.273\n",
      " 1.309 1.347 1.386 1.427 1.47  1.514 1.561 1.609 1.661 1.715 1.772 1.833\n",
      " 1.897 1.966 2.04  2.12  2.207 2.303 2.408 2.526 2.659 2.813 2.996 3.219\n",
      " 3.507 3.912]\n",
      "Proportions:  [0.01908632 0.03046202 0.04590267 0.05988348 0.07418891 0.09180198\n",
      " 0.10822511 0.12883795 0.13957714 0.1553719  0.16052194 0.17176938\n",
      " 0.19100613 0.20423919 0.21688336 0.23583093 0.23419355 0.26600346\n",
      " 0.26378897 0.28991263 0.30104463 0.30140187 0.29601227 0.32578397\n",
      " 0.31991525 0.345      0.34591195 0.35918367 0.35504886 0.34418605\n",
      " 0.31050228 0.40828402 0.43046358 0.45714286 0.33858268 0.41111111\n",
      " 0.50588235 0.40650407 0.37804878 0.40425532 0.45098039 0.54901961\n",
      " 0.41176471 0.45714286 0.48       0.4516129  0.76923077 0.53571429\n",
      " 0.38888889 0.52941176 0.56521739 0.45833333 0.65       0.75\n",
      " 0.5        0.63157895 0.58333333 0.48780488 0.54545455 0.54545455\n",
      " 0.78787879 0.62068966 0.79069767 0.69230769 0.73333333 0.78\n",
      " 0.5915493  0.69811321 0.78571429 0.6119403  0.70588235 0.74725275\n",
      " 0.6875     0.86170213 0.81818182 0.80808081 0.70833333 0.8362069\n",
      " 0.83832335 0.86872587 0.85770751 0.88102894 0.86510264 0.90296496\n",
      " 0.91256831 0.91743119 0.92677346 0.90994371 0.91106719 0.93291405\n",
      " 0.91507431 0.94573643 0.94612795 0.95384615 0.96296296 1.\n",
      " 0.85714286 1.        ]\n"
     ]
    }
   ],
   "source": [
    "binsGIABTrue = dfFilterQuality80GIABTrue.mu.unique()\n",
    "binsGIABTrue = np.sort(binsGIABTrue)\n",
    "print(\"Mu bins: \", binsGIABTrue)\n",
    "#print(len(binsGIABTrue))\n",
    "\n",
    "fractionBinArrayGIABTrue = np.zeros(len(binsGIABTrue))\n",
    "\n",
    "for i in range(len(binsGIABTrue)):\n",
    "    fractionFreqGreater0 = 0\n",
    "    dfBinned = dfFilterQuality80GIABTrue[dfFilterQuality80GIABTrue['mu'] == binsGIABTrue[i]]\n",
    "    #print(dfBinned.head())\n",
    "    #print(dfBinned.tail())\n",
    "    dfGreaterZero = dfBinned[dfBinned['freq'] > 0]\n",
    "    dfGreaterZeroPass = dfGreaterZero[dfGreaterZero['filter'] == 'PASS']\n",
    "    \n",
    "    fractionFreqGreater0 = len(dfGreaterZeroPass) / len(dfBinned)\n",
    "    fractionBinArrayGIABTrue[i] = fractionFreqGreater0\n",
    "    \n",
    "#print(len(dfGreaterZeroPass))  \n",
    "print(\"Proportions: \", fractionBinArrayGIABTrue)"
   ]
  },
  {
   "cell_type": "code",
   "execution_count": 27,
   "metadata": {},
   "outputs": [
    {
     "name": "stdout",
     "output_type": "stream",
     "text": [
      "Mu bins:  [0.004 0.013 0.02  0.03  0.041 0.051 0.062 0.073 0.083 0.094 0.105 0.117\n",
      " 0.128 0.139 0.151 0.163 0.174 0.186 0.198 0.211 0.223 0.236 0.248 0.261\n",
      " 0.274 0.288 0.301 0.315 0.329 0.342 0.357 0.371 0.386 0.4   0.416 0.431\n",
      " 0.446 0.462 0.478 0.494 0.511 0.528 0.545 0.562 0.58  0.598 0.616 0.635\n",
      " 0.654 0.673 0.693 0.713 0.734 0.755 0.777 0.799 0.821 0.844 0.868 0.892\n",
      " 0.916 0.942 0.968 0.994 1.022 1.05  1.079 1.109 1.139 1.171 1.204 1.238\n",
      " 1.273 1.309 1.347 1.386 1.427 1.47  1.514 1.561 1.609 1.661 1.715 1.772\n",
      " 1.833 1.897 1.966 2.04  2.12  2.207 2.303 2.408 2.526 2.659 2.813 2.996\n",
      " 3.219 3.507 3.912]\n",
      "Proportions:  [0.         0.0191034  0.02836309 0.04079495 0.05542401 0.07102516\n",
      " 0.08655228 0.10218042 0.11800577 0.13159785 0.14394481 0.15549745\n",
      " 0.16956053 0.18138554 0.19328629 0.21207381 0.21857844 0.23394094\n",
      " 0.24455513 0.24699782 0.27740986 0.28514527 0.28380479 0.30812937\n",
      " 0.33696838 0.34866163 0.34402852 0.36746988 0.39755011 0.36435125\n",
      " 0.42945736 0.42959002 0.42315369 0.42606516 0.43243243 0.43548387\n",
      " 0.48327138 0.46226415 0.49077491 0.47058824 0.55629139 0.45341615\n",
      " 0.5        0.46206897 0.48113208 0.58536585 0.62337662 0.67123288\n",
      " 0.55844156 0.59649123 0.48888889 0.58490566 0.58       0.74285714\n",
      " 0.65       0.63414634 0.65957447 0.71794872 0.7037037  0.8\n",
      " 0.78787879 0.8125     0.73809524 0.83333333 0.84       0.75471698\n",
      " 0.72826087 0.71153846 0.83529412 0.8974359  0.73880597 0.81005587\n",
      " 0.84836066 0.83333333 0.82653061 0.8603352  0.87572254 0.87477314\n",
      " 0.87525988 0.87166667 0.88617886 0.916122   0.90675791 0.90230906\n",
      " 0.90610687 0.91347518 0.93177628 0.92958515 0.9291866  0.93423272\n",
      " 0.95325543 0.95765104 0.9650105  0.96872557 0.9726997  0.96975806\n",
      " 0.98507463 1.         0.85714286]\n"
     ]
    }
   ],
   "source": [
    "binsGIABFalse = dfFilterQuality80GIABFalse.mu.unique()\n",
    "binsGIABFalse = np.sort(binsGIABFalse)\n",
    "print(\"Mu bins: \", binsGIABFalse)\n",
    "#print(len(binsGIABFalse))\n",
    "\n",
    "fractionBinArrayGIABFalse = np.zeros(len(binsGIABFalse))\n",
    "\n",
    "for i in range(len(binsGIABFalse)):\n",
    "    fractionFreqGreater0 = 0\n",
    "    dfBinned = dfFilterQuality80GIABFalse[dfFilterQuality80GIABFalse['mu'] == binsGIABFalse[i]]\n",
    "    #print(dfBinned.head())\n",
    "    #print(dfBinned.tail())\n",
    "    dfGreaterZero = dfBinned[dfBinned['freq'] > 0]\n",
    "    dfGreaterZeroPass = dfGreaterZero[dfGreaterZero['filter'] == 'PASS']\n",
    "    \n",
    "    fractionFreqGreater0 = len(dfGreaterZeroPass) / len(dfBinned)\n",
    "    fractionBinArrayGIABFalse[i] = fractionFreqGreater0\n",
    "    \n",
    "#print(len(dfGreaterZeroPass))  \n",
    "print(\"Proportions: \", fractionBinArrayGIABFalse)"
   ]
  },
  {
   "cell_type": "code",
   "execution_count": 28,
   "metadata": {},
   "outputs": [],
   "source": [
    "lowessBins3 = np.delete(binsGIABFalse, len(binsGIABFalse)-1)\n",
    "lowessFractionBinArray3 = np.delete(fractionBinArrayGIABFalse, len(fractionBinArrayGIABFalse)-1)"
   ]
  },
  {
   "cell_type": "code",
   "execution_count": 29,
   "metadata": {
    "scrolled": false
   },
   "outputs": [
    {
     "data": {
      "text/plain": [
       "<matplotlib.legend.Legend at 0x7fe457b765e0>"
      ]
     },
     "execution_count": 29,
     "metadata": {},
     "output_type": "execute_result"
    },
    {
     "data": {
      "image/png": "[encoded data removed]",
      "text/plain": [
       "<Figure size 1152x432 with 1 Axes>"
      ]
     },
     "metadata": {
      "needs_background": "light"
     },
     "output_type": "display_data"
    }
   ],
   "source": [
    "fig, ax = plt.subplots(nrows=1, ncols=1, figsize=(16,6))\n",
    "\n",
    "plt.scatter(bins1, fractionBinArray1, c = 'magenta', label='Original df')\n",
    "plt.scatter(binsGIABTrue, fractionBinArrayGIABTrue, c = 'red', label='GIAB True df')\n",
    "plt.scatter(lowessBins3, lowessFractionBinArray3, c = 'blue', label='GIAB False df')\n",
    "\n",
    "# plt.plot(bins1, fractionBinArray1, c = 'magenta', label='Original df')\n",
    "# plt.plot(binsGIABTrue, fractionBinArrayGIABTrue, c = 'red', label='GIAB True df')\n",
    "# plt.plot(lowessBins3, lowessFractionBinArray3, c = 'blue', label='GIAB False df')\n",
    "\n",
    "plt.xscale(\"log\")\n",
    "plt.xlabel(\"Mu\")\n",
    "plt.ylabel(\"Proportion\")\n",
    "\n",
    "#LOWESS\n",
    "lowess1 = sm.nonparametric.lowess\n",
    "lowess2 = sm.nonparametric.lowess\n",
    "lowess3 = sm.nonparametric.lowess\n",
    "\n",
    "z1 = lowess1(lowessFractionBinArray1, lowessBins1, frac = 1./3, it = 0)\n",
    "z2 = lowess2(fractionBinArrayGIABTrue, binsGIABTrue, frac = 1./3, it = 0)\n",
    "z3 = lowess3(lowessFractionBinArray3, lowessBins3, frac = 1./3, it = 0)\n",
    "#print(lowessBins1)\n",
    "#print(lowessFractionBinArray1)\n",
    "#print(\"LOWESS: \", z1)\n",
    "\n",
    "#Univariate spline to reduce noise in middle bins\n",
    "spl = UnivariateSpline(lowessBins1, lowessFractionBinArray1, s = 1./6)\n",
    "#spl.set_smoothing_factor(100)\n",
    "x_range1 = np.linspace(bins1[0], bins1[len(lowessBins)-1], 50000)\n",
    "\n",
    "#plt.plot(x_range1, spl(x_range1), c = 'r', label='Univariate Spline PASS')\n",
    "plt.plot(z1[:,0], z1[:,1], c = 'magenta', label='LOWESS PASS')\n",
    "plt.plot(z2[:,0], z2[:,1], c = 'red', label='LOWESS GIAB TRUE')\n",
    "plt.plot(z3[:,0], z3[:,1], c = 'blue', label='LOWESS GIAB FALSE')\n",
    "plt.legend()"
   ]
  },
  {
   "cell_type": "code",
   "execution_count": 30,
   "metadata": {},
   "outputs": [
    {
     "data": {
      "text/plain": [
       "Text(0, 0.5, 'Proportion')"
      ]
     },
     "execution_count": 30,
     "metadata": {},
     "output_type": "execute_result"
    },
    {
     "data": {
      "image/png": "[encoded data removed]",
      "text/plain": [
       "<Figure size 1152x432 with 1 Axes>"
      ]
     },
     "metadata": {
      "needs_background": "light"
     },
     "output_type": "display_data"
    }
   ],
   "source": [
    "fig, ax = plt.subplots(nrows=1, ncols=1, figsize=(16,6))\n",
    "\n",
    "plt.plot(bins1, fractionBinArray1, c = 'magenta', label='Original df')\n",
    "plt.plot(binsGIABTrue, fractionBinArrayGIABTrue, c = 'red', label='GIAB True df')\n",
    "plt.plot(lowessBins3, lowessFractionBinArray3, c = 'blue', label='GIAB False df')\n",
    "\n",
    "plt.xscale(\"log\")\n",
    "plt.xlabel(\"Mu\")\n",
    "plt.ylabel(\"Proportion\")"
   ]
  },
  {
   "cell_type": "code",
   "execution_count": 31,
   "metadata": {},
   "outputs": [
    {
     "data": {
      "text/plain": [
       "Text(0, 0.5, 'Proportion')"
      ]
     },
     "execution_count": 31,
     "metadata": {},
     "output_type": "execute_result"
    },
    {
     "data": {
      "image/png": "[encoded data removed]",
      "text/plain": [
       "<Figure size 1152x432 with 1 Axes>"
      ]
     },
     "metadata": {
      "needs_background": "light"
     },
     "output_type": "display_data"
    }
   ],
   "source": [
    "fig, ax = plt.subplots(nrows=1, ncols=1, figsize=(16,6))\n",
    "\n",
    "plt.scatter(bins1, fractionBinArray1, c = 'magenta', label='Original df')\n",
    "plt.scatter(binsGIABTrue, fractionBinArrayGIABTrue, c = 'red', label='GIAB True df')\n",
    "plt.scatter(lowessBins3, lowessFractionBinArray3, c = 'blue', label='GIAB False df')\n",
    "\n",
    "plt.plot(bins1, fractionBinArray1, c = 'magenta', label='Original df')\n",
    "plt.plot(binsGIABTrue, fractionBinArrayGIABTrue, c = 'red', label='GIAB True df')\n",
    "plt.plot(lowessBins3, lowessFractionBinArray3, c = 'blue', label='GIAB False df')\n",
    "\n",
    "plt.xscale(\"log\")\n",
    "plt.xlabel(\"Mu\")\n",
    "plt.ylabel(\"Proportion\")"
   ]
  },
  {
   "cell_type": "code",
   "execution_count": null,
   "metadata": {},
   "outputs": [],
   "source": [
    " "
   ]
  }
 ],
 "metadata": {
  "kernelspec": {
   "display_name": "Python 3",
   "language": "python",
   "name": "python3"
  },
  "language_info": {
   "codemirror_mode": {
    "name": "ipython",
    "version": 3
   },
   "file_extension": ".py",
   "mimetype": "text/x-python",
   "name": "python",
   "nbconvert_exporter": "python",
   "pygments_lexer": "ipython3",
   "version": "3.8.5"
  }
 },
 "nbformat": 4,
 "nbformat_minor": 4
}
