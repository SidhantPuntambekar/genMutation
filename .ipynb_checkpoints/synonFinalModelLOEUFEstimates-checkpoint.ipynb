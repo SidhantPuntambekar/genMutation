{
 "cells": [
  {
   "cell_type": "code",
   "execution_count": 1,
   "metadata": {},
   "outputs": [],
   "source": [
    "#Imports\n",
    "\n",
    "import math\n",
    "import numpy as np \n",
    "from scipy import stats\n",
    "from scipy.special import logit as lgTransform\n",
    "from scipy.interpolate import UnivariateSpline\n",
    "import pandas as pd\n",
    "import statsmodels.api as sm \n",
    "import matplotlib.pylab as plt \n",
    "from sklearn.linear_model import LogisticRegression\n",
    "import statsmodels.formula.api as smf\n",
    "from statsmodels.formula.api import logit\n",
    "import seaborn as sns\n",
    "%matplotlib inline"
   ]
  },
  {
   "cell_type": "code",
   "execution_count": 2,
   "metadata": {},
   "outputs": [
    {
     "name": "stderr",
     "output_type": "stream",
     "text": [
      "/Users/Admin/opt/anaconda3/lib/python3.8/site-packages/IPython/core/interactiveshell.py:3146: DtypeWarning: Columns (41,42,47,48,52,53) have mixed types.Specify dtype option on import or set low_memory=False.\n",
      "  has_raised = await self.run_ast_nodes(code_ast.body, cell_name,\n"
     ]
    },
    {
     "name": "stdout",
     "output_type": "stream",
     "text": [
      "Index(['chrom', 'pos', 'gene', 'ref', 'alt', 'freq', 'freq_nfe', 'mu', 'qual',\n",
      "       'context', 'mean', 'median', 'over_t', 'over_5', 'over_10', 'over_15',\n",
      "       'over_20', 'over_25', 'over_30', 'over_50', 'over_100', 'filter', 'an',\n",
      "       'an_nfe', 'ac', 'ac_nfe', 'controls_an', 'controls_ac', 'non_cancer_an',\n",
      "       'non_cancer_ac', 'BaseQRankSum', 'ClippingRankSum', 'DP', 'FS',\n",
      "       'InbreedingCoeff', 'MQ', 'MQRankSum', 'QD', 'ReadPosRankSum', 'SOR',\n",
      "       'VQSLOD', 'VQSR_NEGATIVE_TRAIN_SITE', 'VQSR_POSITIVE_TRAIN_SITE',\n",
      "       'VQSR_culprit', 'allele_type', 'dp_hist_all_n_larger',\n",
      "       'dp_hist_alt_n_larger', 'has_star', 'lcr', 'n_alt_alleles', 'pab_max',\n",
      "       'rf_label', 'rf_negative_label', 'rf_positive_label',\n",
      "       'rf_tp_probability_label', 'interp_dist', 'GIAB'],\n",
      "      dtype='object')\n",
      "Number of columns:  57\n",
      "Original df length:  2215787\n",
      "   chrom    pos             gene ref alt  freq  freq_nfe     mu qual context  \\\n",
      "0      1  69096  ENSG00000186092   G   C   0.0       0.0  0.030  low   GTCAC   \n",
      "1      1  69096  ENSG00000186092   G   T   0.0       0.0  0.020  low   GTCAC   \n",
      "2      1  69099  ENSG00000186092   T   A   0.0       0.0  0.030  low   ACTGA   \n",
      "3      1  69099  ENSG00000186092   T   C   0.0       0.0  0.073  low   ACTGA   \n",
      "4      1  69099  ENSG00000186092   T   G   0.0       0.0  0.030  low   ACTGA   \n",
      "\n",
      "   ...  has_star    lcr  n_alt_alleles  pab_max  rf_label  rf_negative_label  \\\n",
      "0  ...     False  False            1.0    0.625       NaN              False   \n",
      "1  ...     False  False            1.0    0.625       NaN              False   \n",
      "2  ...     False  False            1.0    0.625       NaN              False   \n",
      "3  ...     False  False            1.0    0.625       NaN              False   \n",
      "4  ...     False  False            1.0    0.625       NaN              False   \n",
      "\n",
      "   rf_positive_label  rf_tp_probability_label  interp_dist  GIAB  \n",
      "0              False                      NaN            0  True  \n",
      "1              False                      NaN            0  True  \n",
      "2              False                      NaN            3  True  \n",
      "3              False                      NaN            3  True  \n",
      "4              False                      NaN            3  True  \n",
      "\n",
      "[5 rows x 57 columns]\n"
     ]
    }
   ],
   "source": [
    "#Load data\n",
    "\n",
    "df = pd.read_csv('finalModelcsvs/fake_transcript_variants_syn_v5_chrom1_new.csv')\n",
    "colDf = df.columns\n",
    "print(colDf)\n",
    "print(\"Number of columns: \", len(colDf))\n",
    "print(\"Original df length: \", len(df))\n",
    "print(df.head())"
   ]
  },
  {
   "cell_type": "code",
   "execution_count": 3,
   "metadata": {
    "scrolled": false
   },
   "outputs": [
    {
     "name": "stdout",
     "output_type": "stream",
     "text": [
      "AC:  15\n",
      "Filter:  6945\n",
      "Has Star:  13705\n",
      "LCR:  274\n",
      "RF Label 6238\n",
      "Allele Type 0\n",
      "Final bad variant set length:  27177\n"
     ]
    }
   ],
   "source": [
    "#Filtering out bad variants\n",
    "#freq > 0 &  (ac==0 | filter!=\"PASS\" | has_star | lcr | rf_label==\"FP\" | allele_type != \"snv\")\n",
    "\n",
    "# dfGoodVariants = df[((df['freq'] > 0) & (df['ac'] == 0 | df['filter'] != 'PASS'\n",
    "#                                         | df['has_star'] == True | df['lcr'] == True \n",
    "#                                         | df['rf_label'] == \"FP\" | df['allele_type'] != \"snv\"))]\n",
    "\n",
    "dfBadVariants = df[df['freq'] > 0]\n",
    "dfBadVariantsAlleleCount = dfBadVariants[dfBadVariants['ac'] == 0]\n",
    "dfBadVariantsFilterQuality = dfBadVariants[dfBadVariants['filter'] != 'PASS']\n",
    "dfBadVariantsHasStar = dfBadVariants[dfBadVariants['has_star'] == True]\n",
    "dfBadVariantsLCR = dfBadVariants[dfBadVariants['lcr'] == True]\n",
    "dfBadVariantsRFLabel = dfBadVariants[dfBadVariants['rf_label'] == 'FP']\n",
    "dfBadVariantsAlleleType = dfBadVariants[dfBadVariants['allele_type'] != 'snv']\n",
    "\n",
    "dfFinalBadVariants = pd.concat([dfBadVariantsAlleleCount, dfBadVariantsFilterQuality, dfBadVariantsHasStar, dfBadVariantsLCR, dfBadVariantsRFLabel, dfBadVariantsAlleleType], sort=False).sort_index()\n",
    "\n",
    "print(\"AC: \", len(dfBadVariantsAlleleCount))\n",
    "print(\"Filter: \", len(dfBadVariantsFilterQuality))\n",
    "print(\"Has Star: \", len(dfBadVariantsHasStar))\n",
    "print(\"LCR: \", len(dfBadVariantsLCR))\n",
    "print(\"RF Label\", len(dfBadVariantsRFLabel))\n",
    "print(\"Allele Type\", len(dfBadVariantsAlleleType))\n",
    "\n",
    "print(\"Final bad variant set length: \", len(dfFinalBadVariants))\n",
    "#print(dfFinalBadVariants.head())\n",
    "#print(dfFinalBadVariants.tail(20))\n",
    "\n",
    "#print(dfBadVariants['allele_type'].head())\n",
    "\n",
    "#print(\"Filter out bad variants length: \", len(dfBadVariants))\n",
    "#print(dfBadVariants.head())"
   ]
  },
  {
   "cell_type": "code",
   "execution_count": 4,
   "metadata": {},
   "outputs": [
    {
     "name": "stdout",
     "output_type": "stream",
     "text": [
      "Int64Index([    211,     212,     233,     247,     264,     314,     315,\n",
      "                316,     400,     444,\n",
      "            ...\n",
      "            2214897, 2214901, 2215161, 2215172, 2215190, 2215302, 2215302,\n",
      "            2215390, 2215721, 2215749],\n",
      "           dtype='int64', length=27177)\n",
      "2192503\n"
     ]
    }
   ],
   "source": [
    "badIndexes = dfFinalBadVariants.index\n",
    "badSites = dfFinalBadVariants.pos\n",
    "print(dfFinalBadVariants.index)\n",
    "\n",
    "df.drop(badIndexes, inplace = True)\n",
    "dfGoodVariants = df\n",
    "print(len(dfGoodVariants))\n",
    "#print(dfGoodVariants.head())\n",
    "#print(dfGoodVariants.tail())"
   ]
  },
  {
   "cell_type": "code",
   "execution_count": 5,
   "metadata": {
    "scrolled": false
   },
   "outputs": [
    {
     "name": "stdout",
     "output_type": "stream",
     "text": [
      "Good variants length:  2192503\n",
      "Quality filtering:  2046124\n",
      "Hello 2046124\n",
      "Hello 1632642\n"
     ]
    },
    {
     "name": "stderr",
     "output_type": "stream",
     "text": [
      "<ipython-input-5-932258d03584>:16: SettingWithCopyWarning: \n",
      "A value is trying to be set on a copy of a slice from a DataFrame.\n",
      "Try using .loc[row_indexer,col_indexer] = value instead\n",
      "\n",
      "See the caveats in the documentation: https://pandas.pydata.org/pandas-docs/stable/user_guide/indexing.html#returning-a-view-versus-a-copy\n",
      "  dfFilterQuality80[\"GIAB\"] = dfFilterQuality80[\"GIAB\"].astype(int)\n"
     ]
    },
    {
     "name": "stdout",
     "output_type": "stream",
     "text": [
      "Int64Index([   1982,    1983,    1984,    2127,    2128,    2129,    2340,\n",
      "               2429,    2977,    3757,\n",
      "            ...\n",
      "            2214780, 2214781, 2214782, 2215038, 2215039, 2215040, 2215045,\n",
      "            2215046, 2215047, 2215093],\n",
      "           dtype='int64', length=12496)\n"
     ]
    },
    {
     "name": "stderr",
     "output_type": "stream",
     "text": [
      "/Users/Admin/opt/anaconda3/lib/python3.8/site-packages/pandas/core/frame.py:4163: SettingWithCopyWarning: \n",
      "A value is trying to be set on a copy of a slice from a DataFrame\n",
      "\n",
      "See the caveats in the documentation: https://pandas.pydata.org/pandas-docs/stable/user_guide/indexing.html#returning-a-view-versus-a-copy\n",
      "  return super().drop(\n"
     ]
    },
    {
     "name": "stdout",
     "output_type": "stream",
     "text": [
      "1620146\n",
      "1620146\n",
      "After filtering for freq == 0 and interp_dist == 0:  1620146\n",
      "12496\n"
     ]
    }
   ],
   "source": [
    "#Coverage and quality filtering\n",
    "# qual==\"high\", over_20>0.8,freq==0 & interp_dist==0 & allele_type != \"snv\", ENSG00000242265\n",
    "\n",
    "print(\"Good variants length: \", len(dfGoodVariants))\n",
    "\n",
    "#Keep sites with high quality\n",
    "dfQuality = dfGoodVariants[dfGoodVariants['qual'] == 'high']\n",
    "print(\"Quality filtering: \", len(dfQuality))\n",
    "\n",
    "#Keep sites with over_20 coverage > 0.8\n",
    "print(\"Hello\", len(dfQuality))\n",
    "dfFilterQuality80 = dfQuality[dfQuality['over_20'] > 0.8]\n",
    "print(\"Hello\", len(dfFilterQuality80))\n",
    "\n",
    "#Change GIAB from T/F to binary variable\n",
    "dfFilterQuality80[\"GIAB\"] = dfFilterQuality80[\"GIAB\"].astype(int)\n",
    "\n",
    "#Filter freq == 0, #Filter interp_distance == 0, #Filter sites allele_type != \"snv\"\n",
    "maskCoverage = (dfFilterQuality80['freq'] == 0) & (dfFilterQuality80['interp_dist'] == 0) & (dfFilterQuality80['allele_type'] != 'snv')\n",
    "\n",
    "dfFilterQuality80FreqInterpAlleleType = dfFilterQuality80[maskCoverage]\n",
    "\n",
    "# dfFilterQuality80 = dfFilterQuality80[dfFilterQuality80['freq'] != 0]\n",
    "# dfFilterQuality80 = dfFilterQuality80[dfFilterQuality80['interp_dist'] != 0]\n",
    "# dfFilterQuality80 = dfFilterQuality80[dfFilterQuality80['allele_type'] == 'snv']\n",
    "\n",
    "freqInterpAlleleTypeIndexes = dfFilterQuality80FreqInterpAlleleType.index\n",
    "print(freqInterpAlleleTypeIndexes)\n",
    "dfFilterQuality80.drop(freqInterpAlleleTypeIndexes, inplace = True)\n",
    "print(len(dfFilterQuality80))\n",
    "\n",
    "#Filter sites in the gene ENSG00000242265\n",
    "dfFilterQuality80 = dfFilterQuality80[dfFilterQuality80['gene'] != 'ENSG00000242265']\n",
    "print(len(dfFilterQuality80))\n",
    "\n",
    "#print(dfQuality.head())\n",
    "\n",
    "print(\"After filtering for freq == 0 and interp_dist == 0: \", len(dfFilterQuality80))\n",
    "#print(dfFilterQuality80.head())\n",
    "#print(dfFilterQuality80.tail())\n",
    "\n",
    "print(len(dfFilterQuality80FreqInterpAlleleType))\n",
    "#print(dfFilterQuality80FreqInterpAlleleType.head())"
   ]
  },
  {
   "cell_type": "code",
   "execution_count": 6,
   "metadata": {},
   "outputs": [],
   "source": [
    "dfFilterQuality80['CpG_context'] = [1 for x in range(len(dfFilterQuality80))]\n",
    "#print(dfFilterQuality80.head())"
   ]
  },
  {
   "cell_type": "code",
   "execution_count": 7,
   "metadata": {
    "scrolled": false
   },
   "outputs": [
    {
     "name": "stdout",
     "output_type": "stream",
     "text": [
      "     chrom     pos             gene ref alt      freq  freq_nfe     mu  qual  \\\n",
      "629      1  925947  ENSG00000187634   C   A  0.000000  0.000000  0.020  high   \n",
      "630      1  925947  ENSG00000187634   C   G  0.000000  0.000000  0.041  high   \n",
      "631      1  925947  ENSG00000187634   C   T  0.000004  0.000009  0.139  high   \n",
      "632      1  925950  ENSG00000187634   G   A  0.000004  0.000009  0.163  high   \n",
      "633      1  925953  ENSG00000187634   G   A  0.000000  0.000000  0.261  high   \n",
      "\n",
      "    context  ...    lcr  n_alt_alleles   pab_max  rf_label  rf_negative_label  \\\n",
      "629   TCCAA  ...  False            1.0  0.499897       NaN              False   \n",
      "630   TCCAA  ...  False            1.0  0.499897       NaN              False   \n",
      "631   TCCAA  ...  False            1.0  0.499897       NaN              False   \n",
      "632   CCCTT  ...  False            1.0  0.114660       NaN              False   \n",
      "633   ATCCC  ...  False            1.0  0.668285       NaN              False   \n",
      "\n",
      "     rf_positive_label  rf_tp_probability_label  interp_dist  GIAB  \\\n",
      "629              False                      NaN            0     1   \n",
      "630              False                      NaN            0     1   \n",
      "631              False                      NaN            0     1   \n",
      "632              False                      NaN            0     1   \n",
      "633              False                      NaN            0     1   \n",
      "\n",
      "     CpG_context  \n",
      "629          0.0  \n",
      "630          0.0  \n",
      "631          0.0  \n",
      "632          0.0  \n",
      "633          0.0  \n",
      "\n",
      "[5 rows x 58 columns]\n"
     ]
    }
   ],
   "source": [
    "#CpG Transitions\n",
    "\n",
    "context = dfFilterQuality80.context.tolist()\n",
    "ref = dfFilterQuality80.ref.tolist()\n",
    "alt = dfFilterQuality80.alt.tolist()\n",
    "CpGArray = np.zeros(len(context))\n",
    "CpGArrayIndex = 0\n",
    "\n",
    "for i in range(len(context)):\n",
    "    contextString = context[i]\n",
    "    for j in range(len(contextString)-1):\n",
    "        if (contextString[j] == 'C' and contextString[j+1] == 'G'):\n",
    "            if ((ref[i] == 'G' and alt[i] == 'A') or (ref[i] == 'C' and alt[i] == 'T')):\n",
    "                CpGArray[CpGArrayIndex] = 1\n",
    "    CpGArrayIndex = CpGArrayIndex + 1\n",
    "\n",
    "# for k in range(100): \n",
    "#     print(CpGArray[k])\n",
    "    \n",
    "# print(dfFilterQuality80.context.head(50))\n",
    "# print(len(CpGArray))\n",
    "\n",
    "dfFilterQuality80['CpG_context'] = CpGArray.tolist()\n",
    "#dfChuckles = dfFilterQuality80[['context', 'CpG_context']]\n",
    "#print(dfChuckles.head(50))\n",
    "print(dfFilterQuality80.head())"
   ]
  },
  {
   "cell_type": "code",
   "execution_count": 8,
   "metadata": {
    "scrolled": false
   },
   "outputs": [],
   "source": [
    "# dfCpG = dfFilterQuality80.loc[dfFilterQuality80['CpG_context'] == 1]\n",
    "# ref = dfCpG.ref.tolist()\n",
    "# alt = dfCpG.alt.tolist()\n",
    "# CpGArrayTransitions = np.zeros(len(dfCpG))\n",
    "# CpGTransitionsArrayIndex = 0\n",
    "\n",
    "# for i in range(len(dfCpG)): \n",
    "#     if ((ref[i] == 'G' and alt[i] == 'A') or (ref[i] == 'C' and alt[i] == 'T')):\n",
    "#         CpGArrayTransitions[CpGTransitionsArrayIndex] = 1\n",
    "#     CpGTransitionsArrayIndex = CpGTransitionsArrayIndex + 1\n",
    "\n",
    "# for k in range(100):\n",
    "#     print(CpGArrayTransitions[k])\n",
    "\n",
    "# #print(CpGArrayTransitions)\n",
    "# print(len(dfCpG))\n",
    "# print(dfCpG.head(50))"
   ]
  },
  {
   "cell_type": "code",
   "execution_count": 9,
   "metadata": {},
   "outputs": [
    {
     "name": "stdout",
     "output_type": "stream",
     "text": [
      "     chrom     pos             gene ref alt      freq  freq_nfe     mu  qual  \\\n",
      "629      1  925947  ENSG00000187634   C   A  0.000000  0.000000  0.020  high   \n",
      "630      1  925947  ENSG00000187634   C   G  0.000000  0.000000  0.041  high   \n",
      "631      1  925947  ENSG00000187634   C   T  0.000004  0.000009  0.139  high   \n",
      "632      1  925950  ENSG00000187634   G   A  0.000004  0.000009  0.163  high   \n",
      "633      1  925953  ENSG00000187634   G   A  0.000000  0.000000  0.261  high   \n",
      "\n",
      "    context  ...  n_alt_alleles   pab_max  rf_label  rf_negative_label  \\\n",
      "629   TCCAA  ...            1.0  0.499897       NaN              False   \n",
      "630   TCCAA  ...            1.0  0.499897       NaN              False   \n",
      "631   TCCAA  ...            1.0  0.499897       NaN              False   \n",
      "632   CCCTT  ...            1.0  0.114660       NaN              False   \n",
      "633   ATCCC  ...            1.0  0.668285       NaN              False   \n",
      "\n",
      "     rf_positive_label  rf_tp_probability_label  interp_dist  GIAB  \\\n",
      "629              False                      NaN            0     1   \n",
      "630              False                      NaN            0     1   \n",
      "631              False                      NaN            0     1   \n",
      "632              False                      NaN            0     1   \n",
      "633              False                      NaN            0     1   \n",
      "\n",
      "     CpG_context  logistic_freq  \n",
      "629          0.0              0  \n",
      "630          0.0              0  \n",
      "631          0.0              1  \n",
      "632          0.0              1  \n",
      "633          0.0              0  \n",
      "\n",
      "[5 rows x 59 columns]\n"
     ]
    }
   ],
   "source": [
    "#Dependent var freq > 0 logistic_freq\n",
    "\n",
    "dfFilterQuality80.insert(58, 'logistic_freq', [1 for x in range(len(dfFilterQuality80))])\n",
    "dfFilterQuality80['logistic_freq'] = np.where((dfFilterQuality80.freq == 0), 0, dfFilterQuality80.logistic_freq)\n",
    "print(dfFilterQuality80.head())"
   ]
  },
  {
   "cell_type": "code",
   "execution_count": 10,
   "metadata": {},
   "outputs": [
    {
     "name": "stdout",
     "output_type": "stream",
     "text": [
      "     chrom     pos             gene ref alt      freq  freq_nfe     mu  qual  \\\n",
      "629      1  925947  ENSG00000187634   C   A  0.000000  0.000000  0.020  high   \n",
      "630      1  925947  ENSG00000187634   C   G  0.000000  0.000000  0.041  high   \n",
      "631      1  925947  ENSG00000187634   C   T  0.000004  0.000009  0.139  high   \n",
      "632      1  925950  ENSG00000187634   G   A  0.000004  0.000009  0.163  high   \n",
      "633      1  925953  ENSG00000187634   G   A  0.000000  0.000000  0.261  high   \n",
      "\n",
      "    context  ...   pab_max  rf_label  rf_negative_label  rf_positive_label  \\\n",
      "629   TCCAA  ...  0.499897       NaN              False              False   \n",
      "630   TCCAA  ...  0.499897       NaN              False              False   \n",
      "631   TCCAA  ...  0.499897       NaN              False              False   \n",
      "632   CCCTT  ...  0.114660       NaN              False              False   \n",
      "633   ATCCC  ...  0.668285       NaN              False              False   \n",
      "\n",
      "     rf_tp_probability_label  interp_dist  GIAB  CpG_context  logistic_freq  \\\n",
      "629                      NaN            0     1          0.0              0   \n",
      "630                      NaN            0     1          0.0              0   \n",
      "631                      NaN            0     1          0.0              1   \n",
      "632                      NaN            0     1          0.0              1   \n",
      "633                      NaN            0     1          0.0              0   \n",
      "\n",
      "       log_mu  \n",
      "629 -1.698970  \n",
      "630 -1.387216  \n",
      "631 -0.856985  \n",
      "632 -0.787812  \n",
      "633 -0.583359  \n",
      "\n",
      "[5 rows x 60 columns]\n"
     ]
    }
   ],
   "source": [
    "#log transform mu\n",
    "dfFilterQuality80['log_mu'] = np.log10(dfFilterQuality80['mu'])\n",
    "print(dfFilterQuality80.head())"
   ]
  },
  {
   "cell_type": "code",
   "execution_count": 11,
   "metadata": {},
   "outputs": [
    {
     "name": "stdout",
     "output_type": "stream",
     "text": [
      "     chrom     pos             gene ref alt      freq  freq_nfe     mu  qual  \\\n",
      "629      1  925947  ENSG00000187634   C   A  0.000000  0.000000  0.020  high   \n",
      "630      1  925947  ENSG00000187634   C   G  0.000000  0.000000  0.041  high   \n",
      "631      1  925947  ENSG00000187634   C   T  0.000004  0.000009  0.139  high   \n",
      "632      1  925950  ENSG00000187634   G   A  0.000004  0.000009  0.163  high   \n",
      "633      1  925953  ENSG00000187634   G   A  0.000000  0.000000  0.261  high   \n",
      "\n",
      "    context  ...  rf_label  rf_negative_label  rf_positive_label  \\\n",
      "629   TCCAA  ...       NaN              False              False   \n",
      "630   TCCAA  ...       NaN              False              False   \n",
      "631   TCCAA  ...       NaN              False              False   \n",
      "632   CCCTT  ...       NaN              False              False   \n",
      "633   ATCCC  ...       NaN              False              False   \n",
      "\n",
      "     rf_tp_probability_label  interp_dist  GIAB  CpG_context  logistic_freq  \\\n",
      "629                      NaN            0     1          0.0              0   \n",
      "630                      NaN            0     1          0.0              0   \n",
      "631                      NaN            0     1          0.0              1   \n",
      "632                      NaN            0     1          0.0              1   \n",
      "633                      NaN            0     1          0.0              0   \n",
      "\n",
      "       log_mu  log_mu_squared  \n",
      "629 -1.698970        2.886499  \n",
      "630 -1.387216        1.924369  \n",
      "631 -0.856985        0.734424  \n",
      "632 -0.787812        0.620648  \n",
      "633 -0.583359        0.340308  \n",
      "\n",
      "[5 rows x 61 columns]\n"
     ]
    }
   ],
   "source": [
    "#log transform mu^2\n",
    "dfFilterQuality80['log_mu_squared'] = (np.log10(dfFilterQuality80['mu']))**2\n",
    "print(dfFilterQuality80.head())"
   ]
  },
  {
   "cell_type": "code",
   "execution_count": 12,
   "metadata": {},
   "outputs": [
    {
     "name": "stdout",
     "output_type": "stream",
     "text": [
      "     chrom     pos             gene ref alt      freq  freq_nfe     mu  qual  \\\n",
      "629      1  925947  ENSG00000187634   C   A  0.000000  0.000000  0.020  high   \n",
      "630      1  925947  ENSG00000187634   C   G  0.000000  0.000000  0.041  high   \n",
      "631      1  925947  ENSG00000187634   C   T  0.000004  0.000009  0.139  high   \n",
      "632      1  925950  ENSG00000187634   G   A  0.000004  0.000009  0.163  high   \n",
      "633      1  925953  ENSG00000187634   G   A  0.000000  0.000000  0.261  high   \n",
      "\n",
      "    context  ...  rf_negative_label  rf_positive_label  \\\n",
      "629   TCCAA  ...              False              False   \n",
      "630   TCCAA  ...              False              False   \n",
      "631   TCCAA  ...              False              False   \n",
      "632   CCCTT  ...              False              False   \n",
      "633   ATCCC  ...              False              False   \n",
      "\n",
      "     rf_tp_probability_label  interp_dist  GIAB  CpG_context  logistic_freq  \\\n",
      "629                      NaN            0     1          0.0              0   \n",
      "630                      NaN            0     1          0.0              0   \n",
      "631                      NaN            0     1          0.0              1   \n",
      "632                      NaN            0     1          0.0              1   \n",
      "633                      NaN            0     1          0.0              0   \n",
      "\n",
      "       log_mu  log_mu_squared  GIAB_CpG_Interaction  \n",
      "629 -1.698970        2.886499                   0.0  \n",
      "630 -1.387216        1.924369                   0.0  \n",
      "631 -0.856985        0.734424                   0.0  \n",
      "632 -0.787812        0.620648                   0.0  \n",
      "633 -0.583359        0.340308                   0.0  \n",
      "\n",
      "[5 rows x 62 columns]\n"
     ]
    }
   ],
   "source": [
    "#GIAB CpG Interaction\n",
    "dfFilterQuality80['GIAB_CpG_Interaction'] = dfFilterQuality80['GIAB'] * dfFilterQuality80['CpG_context']\n",
    "print(dfFilterQuality80.head())"
   ]
  },
  {
   "cell_type": "code",
   "execution_count": 13,
   "metadata": {},
   "outputs": [
    {
     "name": "stdout",
     "output_type": "stream",
     "text": [
      "629    85\n",
      "630    85\n",
      "631    85\n",
      "632    86\n",
      "633    87\n",
      "Name: median, dtype: int64\n",
      "                 Generalized Linear Model Regression Results                  \n",
      "==============================================================================\n",
      "Dep. Variable:          logistic_freq   No. Observations:              1620146\n",
      "Model:                            GLM   Df Residuals:                  1620138\n",
      "Model Family:                Binomial   Df Model:                            7\n",
      "Link Function:                  logit   Scale:                          1.0000\n",
      "Method:                          IRLS   Log-Likelihood:            -4.7301e+05\n",
      "Date:                Mon, 06 Sep 2021   Deviance:                   9.4601e+05\n",
      "Time:                        17:59:53   Pearson chi2:                 1.62e+06\n",
      "No. Iterations:                     7                                         \n",
      "Covariance Type:            nonrobust                                         \n",
      "========================================================================================\n",
      "                           coef    std err          z      P>|z|      [0.025      0.975]\n",
      "----------------------------------------------------------------------------------------\n",
      "Intercept                0.0655      0.054      1.215      0.224      -0.040       0.171\n",
      "mu                       0.9129      0.044     20.883      0.000       0.827       0.999\n",
      "log_mu                   1.9182      0.081     23.696      0.000       1.760       2.077\n",
      "log_mu_squared          -0.1524      0.031     -4.875      0.000      -0.214      -0.091\n",
      "GIAB                     0.0340      0.008      4.203      0.000       0.018       0.050\n",
      "CpG_context              0.0019      0.016      0.115      0.909      -0.030       0.034\n",
      "GIAB_CpG_Interaction    -0.2130      0.027     -7.973      0.000      -0.265      -0.161\n",
      "median                   0.0005      0.000      3.777      0.000       0.000       0.001\n",
      "========================================================================================\n"
     ]
    }
   ],
   "source": [
    "#Final model Loss of Function\n",
    "print(dfFilterQuality80['median'].head())\n",
    "final_mod = smf.glm('logistic_freq ~ mu + log_mu + log_mu_squared + GIAB + CpG_context + GIAB_CpG_Interaction + median', data = dfFilterQuality80, family = sm.families.Binomial()).fit()\n",
    "print(final_mod.summary())"
   ]
  },
  {
   "cell_type": "code",
   "execution_count": 14,
   "metadata": {},
   "outputs": [
    {
     "name": "stdout",
     "output_type": "stream",
     "text": [
      "0.02816726968675413\n",
      "0.05856977654512853\n"
     ]
    }
   ],
   "source": [
    "def calculateLogisticProbSynon(intercept, muMod, log_muMod, log_mu_squaredMod, GIABMod, CpG_contextMod, GIAB_CpG_InteractionMod, medianMod, mu, log_mu, log_mu_squared, GIAB, CpG_context, GIAB_CpG_Interaction, median):\n",
    "        probability = 1 / (1 + math.exp(-1 * ((intercept + (mu * muMod) + (log_muMod * log_mu) + (log_mu_squared * log_mu_squaredMod) + (GIAB * GIABMod) + (CpG_contextMod * CpG_context) + (GIAB_CpG_InteractionMod * GIAB_CpG_Interaction) + (median * medianMod)))))\n",
    "        return probability\n",
    "        \n",
    "interceptMod, muMod, log_muMod, log_mu_squaredMod, GIABMod, CpG_contextMod, GIAB_CpG_InteractionMod, medianMod = final_mod.params\n",
    "\n",
    "#Test cases\n",
    "mu0 = 0.020\n",
    "log_mu0 = -1.698970\n",
    "log_mu_squared0 = 2.886499\n",
    "GIAB0 = 1 \n",
    "CpG_context0 = 0\n",
    "GIAB_CpG_Interaction0 = 0\n",
    "median0 = 85\n",
    "\n",
    "mu1 = 0.041\n",
    "log_mu1 = -1.387216\n",
    "log_mu_squared1 = 1.924369\n",
    "GIAB1 = 1 \n",
    "CpG_context1 = 0\n",
    "GIAB_CpG_Interaction1 = 0\n",
    "median1 = 85\n",
    "\n",
    "print(calculateLogisticProbSynon(interceptMod, muMod, log_muMod, log_mu_squaredMod, GIABMod, CpG_contextMod, GIAB_CpG_InteractionMod, medianMod, mu0, log_mu0, log_mu_squared0, GIAB0, CpG_context0, GIAB_CpG_Interaction0, median0))\n",
    "print(calculateLogisticProbSynon(interceptMod, muMod, log_muMod, log_mu_squaredMod, GIABMod, CpG_contextMod, GIAB_CpG_InteractionMod, medianMod, mu1, log_mu1, log_mu_squared1, GIAB1, CpG_context1, GIAB_CpG_Interaction1, median1))"
   ]
  },
  {
   "cell_type": "code",
   "execution_count": 15,
   "metadata": {},
   "outputs": [
    {
     "name": "stdout",
     "output_type": "stream",
     "text": [
      "     chrom     pos             gene ref alt      freq  freq_nfe     mu  qual  \\\n",
      "629      1  925947  ENSG00000187634   C   A  0.000000  0.000000  0.020  high   \n",
      "630      1  925947  ENSG00000187634   C   G  0.000000  0.000000  0.041  high   \n",
      "631      1  925947  ENSG00000187634   C   T  0.000004  0.000009  0.139  high   \n",
      "632      1  925950  ENSG00000187634   G   A  0.000004  0.000009  0.163  high   \n",
      "633      1  925953  ENSG00000187634   G   A  0.000000  0.000000  0.261  high   \n",
      "\n",
      "    context  ...  rf_positive_label  rf_tp_probability_label  interp_dist  \\\n",
      "629   TCCAA  ...              False                      NaN            0   \n",
      "630   TCCAA  ...              False                      NaN            0   \n",
      "631   TCCAA  ...              False                      NaN            0   \n",
      "632   CCCTT  ...              False                      NaN            0   \n",
      "633   ATCCC  ...              False                      NaN            0   \n",
      "\n",
      "     GIAB  CpG_context  logistic_freq    log_mu  log_mu_squared  \\\n",
      "629     1          0.0              0 -1.698970        2.886499   \n",
      "630     1          0.0              0 -1.387216        1.924369   \n",
      "631     1          0.0              1 -0.856985        0.734424   \n",
      "632     1          0.0              1 -0.787812        0.620648   \n",
      "633     1          0.0              0 -0.583359        0.340308   \n",
      "\n",
      "     GIAB_CpG_Interaction  probability_final_mod  \n",
      "629                   0.0               0.028167  \n",
      "630                   0.0               0.058570  \n",
      "631                   0.0               0.184036  \n",
      "632                   0.0               0.211347  \n",
      "633                   0.0               0.311744  \n",
      "\n",
      "[5 rows x 63 columns]\n"
     ]
    }
   ],
   "source": [
    "dfFilterQuality80['probability_final_mod'] = [1 for x in range(len(dfFilterQuality80))]\n",
    "probFinalModArray = np.zeros(len(dfFilterQuality80))\n",
    "\n",
    "muArray = dfFilterQuality80.mu.tolist()\n",
    "log_muArray = dfFilterQuality80.log_mu.tolist()\n",
    "log_mu_squaredArray = dfFilterQuality80.log_mu_squared.tolist()\n",
    "GIABArray = dfFilterQuality80.GIAB.tolist()\n",
    "CpG_contextArray = dfFilterQuality80.CpG_context.tolist()\n",
    "GIAB_CpG_InteractionArray = dfFilterQuality80.GIAB_CpG_Interaction.tolist()\n",
    "medianArray = dfFilterQuality80['median'].tolist()\n",
    "\n",
    "for i in range(len(dfFilterQuality80)):\n",
    "    mu = muArray[i]\n",
    "    log_mu = log_muArray[i]\n",
    "    log_mu_squared = log_mu_squaredArray[i]\n",
    "    GIAB = GIABArray[i]\n",
    "    CpG_context = CpG_contextArray[i]\n",
    "    GIAB_CpG_Interaction = GIAB_CpG_InteractionArray[i]\n",
    "    median = medianArray[i]\n",
    "    \n",
    "    newProb = calculateLogisticProbSynon(interceptMod, muMod, log_muMod, log_mu_squaredMod, GIABMod, CpG_contextMod, GIAB_CpG_InteractionMod, medianMod, mu, log_mu, log_mu_squared, GIAB, CpG_context, GIAB_CpG_Interaction, median)\n",
    "    probFinalModArray[i] = newProb\n",
    "    \n",
    "dfFilterQuality80['probability_final_mod'] = probFinalModArray\n",
    "print(dfFilterQuality80.head())"
   ]
  },
  {
   "cell_type": "code",
   "execution_count": 16,
   "metadata": {},
   "outputs": [],
   "source": [
    "# #Observed/Expected by gene. DO NOT RUN on local since it takes a long time and uses compute resources\n",
    "\n",
    "# #Expected\n",
    "\n",
    "# genes = dfFilterQuality80.gene.unique()\n",
    "# print(genes)\n",
    "# print(len(genes))\n",
    "# #pd.DataFrame(genes).to_csv(\"synonGenes.csv\", index=None)\n",
    "\n",
    "# expectedNumOfMutationsArray = np.empty(len(genes))\n",
    "# print(expectedNumOfMutationsArray)\n",
    "# #dfProb = dfFilterQuality80[['gene', 'probability_final_mod']]\n",
    "\n",
    "# #for i in range(len(genes)):\n",
    "#    #     dfByGene = dfProb[dfProb['gene'] == genes[i]]\n",
    "#         #print(len(dfByGene))\n",
    "#   #      expectedNumOfMutations = dfByGene['probability_final_mod'].values.sum()\n",
    "#  #       expectedNumOfMutationsArray[i] = expectedNumOfMutations\n",
    "#         #print(expectedNumOfMutations)\n",
    "\n",
    "# print(expectedNumOfMutationsArray)\n",
    "# print(len(expectedNumOfMutationsArray))\n",
    "# #np.savetxt(\"synonExpected.csv\", expectedNumOfMutationsArray, delimiter=\",\")\n",
    "\n",
    "# #Observed \n",
    "\n",
    "# observedNumOfMutationsArray = np.empty(len(genes))\n",
    "# print(observedNumOfMutationsArray)\n",
    "# #dfObsFreq = dfFilterQuality80[['gene', 'freq']]\n",
    "\n",
    "# #for i in range(len(genes)):\n",
    "# #       dfObsByGene = dfObsFreq[dfObsFreq['gene'] == genes[i]]\n",
    "# #       dfFreqGreater0 = dfObsByGene[dfObsByGene['freq'] > 0]\n",
    "# #       observedNumOfMutationsArray[i] = len(dfFreqGreater0)\n",
    "\n",
    "# print(observedNumOfMutationsArray)\n",
    "# print(len(observedNumOfMutationsArray))\n",
    "# #np.savetxt(\"synonObserved.csv\", observedNumOfMutationsArray, delimiter=\",\")"
   ]
  },
  {
   "cell_type": "code",
   "execution_count": 17,
   "metadata": {},
   "outputs": [
    {
     "name": "stdout",
     "output_type": "stream",
     "text": [
      "99\n",
      "   mu_bins\n",
      "0    0.004\n",
      "1    0.013\n",
      "2    0.020\n",
      "3    0.030\n",
      "4    0.041\n",
      "[1.00000e+00 8.19330e+04 2.73485e+05 1.91255e+05 1.20844e+05 9.84560e+04\n",
      " 9.55680e+04 9.16410e+04 8.99960e+04 8.88030e+04 8.35860e+04 7.59670e+04\n",
      " 6.65220e+04 5.57480e+04 4.37900e+04 3.28100e+04 2.42940e+04 1.76130e+04\n",
      " 1.22730e+04 8.81100e+03 6.54000e+03 5.19900e+03 3.98400e+03 2.88100e+03\n",
      " 2.34500e+03 1.88600e+03 1.48000e+03 1.28100e+03 1.11400e+03 1.03400e+03\n",
      " 8.29000e+02 7.55000e+02 6.52000e+02 5.30000e+02 4.61000e+02 4.22000e+02\n",
      " 3.50000e+02 2.86000e+02 3.82000e+02 2.56000e+02 1.93000e+02 2.07000e+02\n",
      " 1.75000e+02 1.76000e+02 1.37000e+02 1.05000e+02 1.05000e+02 8.10000e+01\n",
      " 1.04000e+02 7.20000e+01 5.80000e+01 7.40000e+01 7.30000e+01 5.30000e+01\n",
      " 5.30000e+01 6.00000e+01 6.20000e+01 6.00000e+01 9.30000e+01 5.00000e+01\n",
      " 5.20000e+01 7.60000e+01 7.00000e+01 9.80000e+01 7.00000e+01 7.90000e+01\n",
      " 1.33000e+02 1.67000e+02 1.30000e+02 1.17000e+02 1.91000e+02 2.38000e+02\n",
      " 3.25000e+02 2.81000e+02 3.69000e+02 4.38000e+02 4.22000e+02 6.90000e+02\n",
      " 5.80000e+02 7.40000e+02 1.07200e+03 1.12100e+03 1.41300e+03 1.41100e+03\n",
      " 1.60500e+03 1.70200e+03 1.98900e+03 2.17600e+03 2.52900e+03 2.19000e+03\n",
      " 2.17600e+03 2.14000e+03 1.74100e+03 1.51000e+03 1.19000e+03 5.79000e+02\n",
      " 2.17000e+02 5.60000e+01 9.00000e+00]\n",
      "        mu_bins      freq\n",
      "0  4.059282e-10       1.0\n",
      "1  1.319267e-09   81933.0\n",
      "2  2.029641e-09  273485.0\n",
      "3  3.044462e-09  191255.0\n",
      "4  4.160764e-09  120844.0\n"
     ]
    },
    {
     "data": {
      "text/plain": [
       "(array([1.e-02, 1.e-01, 1.e+00, 1.e+01, 1.e+02, 1.e+03, 1.e+04, 1.e+05,\n",
       "        1.e+06, 1.e+07]),\n",
       " [Text(0, 0, ''),\n",
       "  Text(0, 0, ''),\n",
       "  Text(0, 0, ''),\n",
       "  Text(0, 0, ''),\n",
       "  Text(0, 0, ''),\n",
       "  Text(0, 0, ''),\n",
       "  Text(0, 0, ''),\n",
       "  Text(0, 0, ''),\n",
       "  Text(0, 0, ''),\n",
       "  Text(0, 0, '')])"
      ]
     },
     "execution_count": 17,
     "metadata": {},
     "output_type": "execute_result"
    },
    {
     "data": {
      "image/png": "[encoded data removed]",
      "text/plain": [
       "<Figure size 864x432 with 1 Axes>"
      ]
     },
     "metadata": {
      "needs_background": "light"
     },
     "output_type": "display_data"
    }
   ],
   "source": [
    "muBins = dfFilterQuality80.mu.unique()\n",
    "muBins = np.sort(muBins)\n",
    "\n",
    "dfMuBins = pd.DataFrame(data = muBins)\n",
    "dfMuBins.columns = ['mu_bins']\n",
    "print(len(dfMuBins))\n",
    "print(dfMuBins.head())\n",
    "\n",
    "freqMu = np.zeros(len(muBins))\n",
    "\n",
    "for i in range(len(muBins)):\n",
    "    dfFilterQuality80Plot = dfFilterQuality80[dfFilterQuality80['mu'] == muBins[i]]\n",
    "    freqMu[i] = len(dfFilterQuality80Plot)\n",
    "    \n",
    "print(freqMu)\n",
    "\n",
    "dfMuBins['freq'] = freqMu.tolist()\n",
    "\n",
    "perGenConstant = 1.01482054e-7\n",
    "dfMuBins['mu_bins'] = dfMuBins['mu_bins'] * perGenConstant\n",
    "\n",
    "print(dfMuBins.head())\n",
    "\n",
    "fig, ax = plt.subplots(nrows=1, ncols=1, figsize=(12,6))\n",
    "plt.xscale(\"log\")\n",
    "plt.yscale(\"log\")\n",
    "plt.scatter(dfMuBins['mu_bins'], dfMuBins['freq'])\n",
    "\n",
    "fig.suptitle('Potential number of synonymous mutation distributions per mutation rate bin (chr1)', fontsize=18)\n",
    "\n",
    "plt.xlabel('$\\mu$ (per-generation mutation rate)',  fontsize=16)\n",
    "plt.xticks(fontsize=12)\n",
    "\n",
    "plt.ylabel('Potential Number of Mutations',  fontsize=16)\n",
    "plt.yticks(fontsize=12)"
   ]
  },
  {
   "cell_type": "code",
   "execution_count": 18,
   "metadata": {},
   "outputs": [],
   "source": [
    "#dfMuBins.to_csv('syn_mu_num_mutations.csv', index=False) #Uncomment this line to store df as a csv"
   ]
  },
  {
   "cell_type": "code",
   "execution_count": 19,
   "metadata": {},
   "outputs": [
    {
     "name": "stdout",
     "output_type": "stream",
     "text": [
      "     chrom     pos             gene ref alt      freq  freq_nfe     mu  qual  \\\n",
      "629      1  925947  ENSG00000187634   C   A  0.000000  0.000000  0.020  high   \n",
      "630      1  925947  ENSG00000187634   C   G  0.000000  0.000000  0.041  high   \n",
      "631      1  925947  ENSG00000187634   C   T  0.000004  0.000009  0.139  high   \n",
      "632      1  925950  ENSG00000187634   G   A  0.000004  0.000009  0.163  high   \n",
      "633      1  925953  ENSG00000187634   G   A  0.000000  0.000000  0.261  high   \n",
      "\n",
      "    context  ...  rf_tp_probability_label  interp_dist  GIAB  CpG_context  \\\n",
      "629   TCCAA  ...                      NaN            0     1          0.0   \n",
      "630   TCCAA  ...                      NaN            0     1          0.0   \n",
      "631   TCCAA  ...                      NaN            0     1          0.0   \n",
      "632   CCCTT  ...                      NaN            0     1          0.0   \n",
      "633   ATCCC  ...                      NaN            0     1          0.0   \n",
      "\n",
      "     logistic_freq    log_mu  log_mu_squared  GIAB_CpG_Interaction  \\\n",
      "629              0 -1.698970        2.886499                   0.0   \n",
      "630              0 -1.387216        1.924369                   0.0   \n",
      "631              1 -0.856985        0.734424                   0.0   \n",
      "632              1 -0.787812        0.620648                   0.0   \n",
      "633              0 -0.583359        0.340308                   0.0   \n",
      "\n",
      "     probability_final_mod  covg_binary  \n",
      "629               0.028167            1  \n",
      "630               0.058570            1  \n",
      "631               0.184036            1  \n",
      "632               0.211347            1  \n",
      "633               0.311744            1  \n",
      "\n",
      "[5 rows x 64 columns]\n"
     ]
    }
   ],
   "source": [
    "dfFilterQuality80['covg_binary'] = [1 for x in range(len(dfFilterQuality80))]\n",
    "dfFilterQuality80['covg_binary'] = np.where((dfFilterQuality80.over_20 <= 0.995), 0, dfFilterQuality80.covg_binary)\n",
    "\n",
    "muBinsNew = dfFilterQuality80.mu.unique()\n",
    "muBinsNew = np.sort(muBinsNew)\n",
    "# propGIABFalseCpGFalse = np.zeros(len(muBins))\n",
    "# propGIABTrueCpGFalse = np.zeros(len(muBins))\n",
    "# propGIABFalseCpGTrue = np.zeros(len(muBins))\n",
    "# propGIABTrueCpGTrue = np.zeros(len(muBins))\n",
    "\n",
    "# for i in range(len(muBinsNew)):\n",
    "#     fractionFreqGreater0 = 0\n",
    "#     dfBinned = dfFilterQuality80[dfFilterQuality80['mu'] == muBinsNew[i]]\n",
    "#     dfGIABFalse = dfBinned[dfBinned['GIAB'] == 0]\n",
    "#     dfGIABTrue = dfBinned[dfBinned['GIAB'] == 1]\n",
    "    \n",
    "#     #GIAB = 0, CpG = 0\n",
    "#     dfGIABFalseCpGFalse = dfGIABFalse[dfGIABFalse['CpG_context'] == 0] \n",
    "#     dfGreaterZero = dfGIABFalseCpGFalse[dfGIABFalseCpGFalse['freq'] > 0]\n",
    "#     fractionFreqGreater0 = len(dfGreaterZero) / len(dfBinned)\n",
    "#     propGIABFalseCpGFalse[i] = fractionFreqGreater0\n",
    "    \n",
    "#     #GIAB = 1, CpG = 0\n",
    "#     fractionFreqGreater1 = 0\n",
    "#     dfGIABTrueCpGFalse = dfGIABTrue[dfGIABTrue['CpG_context'] == 0]\n",
    "#     dfGreaterZero1 = dfGIABTrueCpGFalse[dfGIABTrueCpGFalse['freq'] > 0]\n",
    "#     fractionFreqGreater1 = len(dfGreaterZero1) / len(dfBinned)\n",
    "#     propGIABTrueCpGFalse[i] = fractionFreqGreater1\n",
    "    \n",
    "#     #GIAB = 0, CpG = 1\n",
    "#     fractionFreqGreater2 = 0\n",
    "#     dfGIABFalseCpGTrue = dfGIABFalse[dfGIABFalse['CpG_context'] == 1] \n",
    "#     dfGreaterZero2 = dfGIABFalseCpGTrue[dfGIABFalseCpGTrue['freq'] > 0]\n",
    "#     fractionFreqGreater2 = len(dfGreaterZero2) / len(dfBinned)\n",
    "#     propGIABFalseCpGTrue[i] = fractionFreqGreater2\n",
    "    \n",
    "#     #GIAB = 1, CpG = 1\n",
    "#     fractionFreqGreater3 = 0\n",
    "#     dfGIABTrueCpGTrue = dfGIABTrue[dfGIABTrue['CpG_context'] == 1] \n",
    "#     dfGreaterZero3 = dfGIABTrueCpGTrue[dfGIABTrueCpGTrue['freq'] > 0]\n",
    "#     fractionFreqGreater3 = len(dfGreaterZero2) / len(dfBinned)\n",
    "#     propGIABTrueCpGTrue[i] = fractionFreqGreater3\n",
    "\n",
    "# # dictionary0 = dict(zip(muBinsNew, propGIABFalseCpGFalse))\n",
    "# # dictionary1 = dict(zip(muBinsNew, propGIABTrueCpGFalse))\n",
    "# # dictionary2 = dict(zip(muBinsNew, propGIABFalseCpGTrue))\n",
    "# # dictionary3 = dict(zip(muBinsNew, propGIABTrueCpGTrue))\n",
    "\n",
    "# # dfFilterQuality80['prop_sites_GIABFalseCpGFalse'] = dfFilterQuality80['mu'].map(dictionary0)\n",
    "# # dfFilterQuality80['prop_sites_GIABTrueCpGFalse'] = dfFilterQuality80['mu'].map(dictionary1)\n",
    "# # dfFilterQuality80['prop_sites_GIABFalseCpGTrue'] = dfFilterQuality80['mu'].map(dictionary2)\n",
    "# # dfFilterQuality80['prop_sites_GIABTrueCpGTrue'] = dfFilterQuality80['mu'].map(dictionary3)\n",
    "\n",
    "# # dfFilterQuality80['mut_type'] = ['synonymous' for x in range(len(dfFilterQuality80))]\n",
    "\n",
    "print(dfFilterQuality80.head())\n",
    "\n",
    "# print(propGIABFalseCpGFalse)\n",
    "# print(propGIABTrueCpGFalse)\n",
    "# print(propGIABFalseCpGTrue)\n",
    "# print(propGIABTrueCpGTrue)"
   ]
  },
  {
   "cell_type": "code",
   "execution_count": 20,
   "metadata": {},
   "outputs": [
    {
     "name": "stdout",
     "output_type": "stream",
     "text": [
      "[ 85  86  87  89  90  91  88  83  82  80  78  76  73  79  77  75  74  72\n",
      "  71  68  69  70  84  67  66  64  62  61  60  58  55  54  52  50  48  46\n",
      "  44  42  47  51  53  56  59  57  32  33  34  31  30  29  35  37  38  39\n",
      "  40  43  45  49  63  65  28  27  81  93  94  96  97  99 100  98  95  92\n",
      "  41  36  26]\n"
     ]
    }
   ],
   "source": [
    "#print(dfFilterQuality80.columns)\n",
    "print(dfFilterQuality80['median'].unique())\n",
    "#dfFilterQuality80.to_csv('dfFilterQuality80Synonymous.csv', index = False)"
   ]
  },
  {
   "cell_type": "code",
   "execution_count": 21,
   "metadata": {},
   "outputs": [
    {
     "name": "stdout",
     "output_type": "stream",
     "text": [
      "[       nan 0.01819779 0.02698725 0.03980323 0.05347544 0.06753915\n",
      " 0.08320624 0.0997014  0.11350865 0.12852503 0.13881683 0.14827908\n",
      " 0.16111763 0.17571104 0.18511654 0.20437413 0.21539465 0.22390452\n",
      " 0.23580563 0.22752613 0.27587844 0.28395821 0.27466456 0.30552424\n",
      " 0.34097035 0.37924866 0.33409611 0.33333333 0.35028249 0.34328358\n",
      " 0.41474654 0.40104167 0.46511628 0.3125     0.48201439 0.40384615\n",
      " 0.45544554 0.50704225 0.41860465 0.44262295 0.48214286 0.43076923\n",
      " 0.48076923 0.43661972 0.45945946 0.61290323 0.56       0.5\n",
      " 0.48       0.72222222 0.4        0.52631579 0.46666667 0.75\n",
      " 0.76923077 0.44444444 0.57142857 0.33333333 1.         0.8\n",
      "        nan 1.         0.                nan 0.                nan\n",
      " 0.                nan 1.         1.         1.                nan\n",
      " 1.                nan        nan        nan        nan        nan\n",
      "        nan        nan        nan        nan        nan        nan\n",
      "        nan        nan        nan        nan        nan        nan\n",
      "        nan        nan        nan        nan        nan        nan\n",
      "        nan        nan        nan]\n",
      "   mu_bins      prop  GIAB  CpG_context  Cov\n",
      "0    0.004       NaN     0            0    0\n",
      "1    0.013  0.018198     0            0    0\n",
      "2    0.020  0.026987     0            0    0\n",
      "3    0.030  0.039803     0            0    0\n",
      "4    0.041  0.053475     0            0    0\n"
     ]
    }
   ],
   "source": [
    "propFFF = np.zeros(len(muBins))\n",
    "for i in range(len(muBinsNew)):\n",
    "    fractionFreqGreater0 = 0\n",
    "    dfBinned0 = dfFilterQuality80[dfFilterQuality80['mu'] == muBinsNew[i]]\n",
    "    dfF0 = dfBinned0[dfBinned0['GIAB'] == 0]\n",
    "    dfFF0 = dfF0[dfF0['CpG_context'] == 0]\n",
    "    \n",
    "    #GIAB = 0, CpG = 0, Cov = 0\n",
    "    dfFFF0 = dfFF0[dfFF0['covg_binary'] == 0] \n",
    "    dfGreaterZero = dfFFF0[dfFFF0['freq'] > 0]\n",
    "    if (len(dfFFF0) != 0):\n",
    "        fractionFreqGreater0 = len(dfGreaterZero) / len(dfFFF0)\n",
    "    else:\n",
    "        fractionFreqGreater0 = np.nan\n",
    "    propFFF[i] = fractionFreqGreater0\n",
    "    \n",
    "print(propFFF)\n",
    "\n",
    "dfMuBinsNew0 = pd.DataFrame(data = muBinsNew, columns=['mu_bins'])\n",
    "dfMuBinsNew0['prop'] = propFFF.tolist() \n",
    "dfMuBinsNew0['GIAB'] = [0 for x in range(len(muBinsNew))]\n",
    "dfMuBinsNew0['CpG_context'] = [0 for x in range(len(muBinsNew))]\n",
    "dfMuBinsNew0['Cov'] = [0 for x in range(len(muBinsNew))]\n",
    "\n",
    "print(dfMuBinsNew0.head())"
   ]
  },
  {
   "cell_type": "code",
   "execution_count": 22,
   "metadata": {},
   "outputs": [
    {
     "name": "stdout",
     "output_type": "stream",
     "text": [
      "[       nan 0.01824888 0.02772143 0.04379562 0.05775775 0.07261864\n",
      " 0.08405692 0.10351588 0.12219583 0.1298045  0.14691605 0.15363636\n",
      " 0.16283925 0.18052779 0.18780774 0.20534591 0.23001567 0.22857143\n",
      " 0.24614254 0.24294355 0.27624309 0.28548387 0.27069351 0.29855072\n",
      " 0.32945736 0.25945946 0.3483871  0.30769231 0.41666667 0.35820896\n",
      " 0.32075472 0.27906977 0.33333333 0.33333333 0.28571429 0.33333333\n",
      " 0.41666667 0.6        0.2        0.41666667 0.5        0.75\n",
      " 0.625      0.33333333 0.         0.5        0.         0.5\n",
      " 0.75       0.66666667 1.         0.         0.5        0.\n",
      "        nan 1.                nan        nan        nan 1.\n",
      "        nan        nan        nan        nan        nan        nan\n",
      " 0.                nan 1.                nan 1.                nan\n",
      "        nan        nan        nan        nan        nan        nan\n",
      "        nan        nan        nan        nan        nan        nan\n",
      "        nan        nan        nan        nan        nan        nan\n",
      "        nan        nan        nan        nan        nan        nan\n",
      "        nan        nan        nan]\n",
      "   mu_bins      prop  GIAB  CpG_context  Cov\n",
      "0    0.004       NaN     1            0    0\n",
      "1    0.013  0.018249     1            0    0\n",
      "2    0.020  0.027721     1            0    0\n",
      "3    0.030  0.043796     1            0    0\n",
      "4    0.041  0.057758     1            0    0\n"
     ]
    }
   ],
   "source": [
    "propTFF = np.zeros(len(muBins))\n",
    "for i in range(len(muBinsNew)):\n",
    "    fractionFreqGreater1 = 0\n",
    "    dfBinned1 = dfFilterQuality80[dfFilterQuality80['mu'] == muBinsNew[i]]\n",
    "    dfT1 = dfBinned1[dfBinned1['GIAB'] == 1]\n",
    "    dfTF1 = dfT1[dfT1['CpG_context'] == 0]\n",
    "    \n",
    "    #GIAB = 0, CpG = 0, Cov = 0\n",
    "    dfTFF1 = dfTF1[dfTF1['covg_binary'] == 0] \n",
    "    dfGreaterZero1 = dfTFF1[dfTFF1['freq'] > 0]\n",
    "    if (len(dfTFF1) != 0):\n",
    "        fractionFreqGreater1 = len(dfGreaterZero1) / len(dfTFF1)\n",
    "    else: \n",
    "        fractionFreqGreater1 = np.nan\n",
    "    propTFF[i] = fractionFreqGreater1\n",
    "\n",
    "print(propTFF)\n",
    "\n",
    "dfMuBinsNew1 = pd.DataFrame(data = muBinsNew, columns=['mu_bins'])\n",
    "dfMuBinsNew1['prop'] = propTFF.tolist() \n",
    "dfMuBinsNew1['GIAB'] = [1 for x in range(len(muBinsNew))]\n",
    "dfMuBinsNew1['CpG_context'] = [0 for x in range(len(muBinsNew))]\n",
    "dfMuBinsNew1['Cov'] = [0 for x in range(len(muBinsNew))]\n",
    "\n",
    "print(dfMuBinsNew1.head())"
   ]
  },
  {
   "cell_type": "code",
   "execution_count": 23,
   "metadata": {},
   "outputs": [
    {
     "name": "stdout",
     "output_type": "stream",
     "text": [
      "[       nan        nan        nan        nan        nan        nan\n",
      " 0.         0.1576087  0.11775362 0.11554333 0.1481976  0.15326633\n",
      " 0.14206128 0.15469146 0.18950437 0.136      0.21072797 0.21925134\n",
      " 0.22018349 0.25581395 0.29577465 0.33766234 0.328125   0.22222222\n",
      " 0.27272727 0.35       0.37931034 0.35897436 0.35135135 0.33783784\n",
      " 0.42       0.48275862 0.4516129  0.44827586 0.54166667 0.39285714\n",
      " 0.52941176 0.33333333 0.38235294 0.4137931  0.66666667 0.69230769\n",
      " 0.77777778 0.6        0.71428571 0.5        0.83333333 1.\n",
      " 0.8        0.66666667 0.42857143 0.5        0.7        0.85714286\n",
      " 1.         0.8        0.6        0.63636364 0.59090909 0.86666667\n",
      " 0.8        0.6875     0.84210526 0.84615385 0.84210526 0.6875\n",
      " 0.68421053 0.69767442 0.84375    0.82142857 0.64705882 0.82857143\n",
      " 0.79207921 0.77142857 0.80555556 0.86131387 0.90243902 0.88995215\n",
      " 0.85714286 0.84415584 0.87947883 0.91594203 0.91358025 0.90092166\n",
      " 0.9063745  0.90018832 0.9244373  0.91017964 0.91497006 0.93313522\n",
      " 0.94556765 0.9511855  0.96146789 0.972103   0.97631579 0.98780488\n",
      " 0.98648649 1.         0.66666667]\n",
      "   mu_bins  prop  GIAB  CpG_context  Cov\n",
      "0    0.004   NaN     0            1    0\n",
      "1    0.013   NaN     0            1    0\n",
      "2    0.020   NaN     0            1    0\n",
      "3    0.030   NaN     0            1    0\n",
      "4    0.041   NaN     0            1    0\n"
     ]
    }
   ],
   "source": [
    "propFTF = np.zeros(len(muBins))\n",
    "for i in range(len(muBinsNew)):\n",
    "    fractionFreqGreater2 = 0\n",
    "    dfBinned2 = dfFilterQuality80[dfFilterQuality80['mu'] == muBinsNew[i]]\n",
    "    dfF2 = dfBinned2[dfBinned2['GIAB'] == 0]\n",
    "    dfFT2 = dfF2[dfF2['CpG_context'] == 1]\n",
    "    \n",
    "    #GIAB = 0, CpG = 0, Cov = 0\n",
    "    dfFTF2 = dfFT2[dfFT2['covg_binary'] == 0] \n",
    "    dfGreaterZero2 = dfFTF2[dfFTF2['freq'] > 0]\n",
    "    if (len(dfFTF2) != 0):\n",
    "        fractionFreqGreater2 = len(dfGreaterZero2) / len(dfFTF2)\n",
    "    else:\n",
    "        fractionFreqGreater2 = np.nan\n",
    "    propFTF[i] = fractionFreqGreater2\n",
    "\n",
    "print(propFTF)\n",
    "\n",
    "dfMuBinsNew2 = pd.DataFrame(data = muBinsNew, columns=['mu_bins'])\n",
    "dfMuBinsNew2['prop'] = propFTF.tolist() \n",
    "dfMuBinsNew2['GIAB'] = [0 for x in range(len(muBinsNew))]\n",
    "dfMuBinsNew2['CpG_context'] = [1 for x in range(len(muBinsNew))]\n",
    "dfMuBinsNew2['Cov'] = [0 for x in range(len(muBinsNew))]\n",
    "\n",
    "print(dfMuBinsNew2.head())"
   ]
  },
  {
   "cell_type": "code",
   "execution_count": 24,
   "metadata": {},
   "outputs": [
    {
     "name": "stdout",
     "output_type": "stream",
     "text": [
      "[0.         0.018819   0.02783578 0.03936563 0.05392543 0.06973255\n",
      " 0.08510906 0.0987248  0.11572116 0.12802147 0.14161052 0.15375222\n",
      " 0.17000411 0.17938759 0.19177107 0.2107055  0.21216717 0.23235397\n",
      " 0.2381606  0.25372769 0.27075099 0.27341137 0.28229937 0.30111821\n",
      " 0.34065934 0.32572877 0.34364261 0.37354086 0.42222222 0.37650602\n",
      " 0.41233766 0.40254237 0.40725806 0.48421053 0.38857143 0.42553191\n",
      " 0.46610169 0.47368421 0.58888889 0.5        0.60273973 0.4\n",
      " 0.42857143 0.46296296 0.44186047 0.40740741 0.65714286 0.6875\n",
      " 0.54545455 0.44       0.5        0.5        0.5        0.55555556\n",
      " 0.4        0.64285714 0.75       0.8        0.71428571 0.66666667\n",
      " 1.         1.         1.                nan 1.         0.5\n",
      " 0.                nan 0.                nan        nan 1.\n",
      " 1.                nan 1.                nan        nan        nan\n",
      "        nan        nan        nan        nan        nan        nan\n",
      "        nan        nan        nan        nan        nan        nan\n",
      "        nan        nan        nan        nan        nan        nan\n",
      "        nan        nan        nan]\n",
      "   mu_bins      prop  GIAB  CpG_context  Cov\n",
      "0    0.004  0.000000     0            0    1\n",
      "1    0.013  0.018819     0            0    1\n",
      "2    0.020  0.027836     0            0    1\n",
      "3    0.030  0.039366     0            0    1\n",
      "4    0.041  0.053925     0            0    1\n"
     ]
    }
   ],
   "source": [
    "propFFT = np.zeros(len(muBins))\n",
    "for i in range(len(muBinsNew)):\n",
    "    fractionFreqGreater3 = 0\n",
    "    dfBinned3 = dfFilterQuality80[dfFilterQuality80['mu'] == muBinsNew[i]]\n",
    "    dfF3 = dfBinned3[dfBinned3['GIAB'] == 0]\n",
    "    dfFF3 = dfF3[dfF3['CpG_context'] == 0]\n",
    "    \n",
    "    #GIAB = 0, CpG = 0, Cov = 0\n",
    "    dfFFT3 = dfFF3[dfFF3['covg_binary'] == 1] \n",
    "    dfGreaterZero3 = dfFFT3[dfFFT3['freq'] > 0]\n",
    "    if (len(dfFFT3) != 0):\n",
    "        fractionFreqGreater3 = len(dfGreaterZero3) / len(dfFFT3)\n",
    "    else:\n",
    "        fractionFreqGreater3 = np.nan\n",
    "    propFFT[i] = fractionFreqGreater3\n",
    "\n",
    "print(propFFT)\n",
    "\n",
    "dfMuBinsNew3 = pd.DataFrame(data = muBinsNew, columns=['mu_bins'])\n",
    "dfMuBinsNew3['prop'] = propFFT.tolist() \n",
    "dfMuBinsNew3['GIAB'] = [0 for x in range(len(muBinsNew))]\n",
    "dfMuBinsNew3['CpG_context'] = [0 for x in range(len(muBinsNew))]\n",
    "dfMuBinsNew3['Cov'] = [1 for x in range(len(muBinsNew))]\n",
    "\n",
    "print(dfMuBinsNew3.head())"
   ]
  },
  {
   "cell_type": "code",
   "execution_count": 25,
   "metadata": {},
   "outputs": [
    {
     "name": "stdout",
     "output_type": "stream",
     "text": [
      "[       nan        nan        nan        nan        nan        nan\n",
      " 0.         0.11764706 0.12217195 0.11570248 0.15566038 0.13232104\n",
      " 0.15279503 0.18791946 0.17048346 0.2345679  0.22282609 0.16489362\n",
      " 0.19259259 0.19463087 0.22580645 0.3115942  0.29801325 0.21238938\n",
      " 0.24390244 0.33103448 0.30555556 0.27559055 0.26041667 0.31927711\n",
      " 0.30909091 0.28125    0.36170213 0.38823529 0.51020408 0.33766234\n",
      " 0.44642857 0.42592593 0.43010753 0.36734694 0.36666667 0.34482759\n",
      " 0.42857143 0.32       0.39130435 0.4375     0.45       0.71428571\n",
      " 0.47619048 0.125      0.33333333 0.58823529 0.38461538 0.64285714\n",
      " 0.7        0.53333333 0.66666667 0.64285714 0.5        0.55555556\n",
      " 0.6        0.76923077 0.57692308 0.80645161 0.65       0.69565217\n",
      " 0.78571429 0.50943396 0.57142857 0.8125     0.56862745 0.65384615\n",
      " 0.75806452 0.64788732 0.83050847 0.78333333 0.82191781 0.68852459\n",
      " 0.81481481 0.8018018  0.84563758 0.82926829 0.87939698 0.83111111\n",
      " 0.90212766 0.90666667 0.9280303  0.92832765 0.91066282 0.8990228\n",
      " 0.9331307  0.91245791 0.94308943 0.93678161 0.96932515 0.95652174\n",
      " 1.         0.75       1.        ]\n",
      "   mu_bins  prop  GIAB  CpG_context  Cov\n",
      "0    0.004   NaN     1            1    0\n",
      "1    0.013   NaN     1            1    0\n",
      "2    0.020   NaN     1            1    0\n",
      "3    0.030   NaN     1            1    0\n",
      "4    0.041   NaN     1            1    0\n"
     ]
    }
   ],
   "source": [
    "propTTF = np.zeros(len(muBins))\n",
    "for i in range(len(muBinsNew)):\n",
    "    fractionFreqGreater4 = 0\n",
    "    dfBinned4 = dfFilterQuality80[dfFilterQuality80['mu'] == muBinsNew[i]]\n",
    "    dfT4 = dfBinned4[dfBinned4['GIAB'] == 1]\n",
    "    dfTT4 = dfT4[dfT4['CpG_context'] == 1]\n",
    "    \n",
    "    #GIAB = 0, CpG = 0, Cov = 0\n",
    "    dfTTF4 = dfTT4[dfTT4['covg_binary'] == 0] \n",
    "    dfGreaterZero4 = dfTTF4[dfTTF4['freq'] > 0]\n",
    "    if (len(dfTTF4) != 0):\n",
    "        fractionFreqGreater4 = len(dfGreaterZero4) / len(dfTTF4)\n",
    "    else:\n",
    "        fractionFreqGreater4 = np.nan\n",
    "    propTTF[i] = fractionFreqGreater4\n",
    "\n",
    "print(propTTF)\n",
    "\n",
    "dfMuBinsNew4 = pd.DataFrame(data = muBinsNew, columns=['mu_bins'])\n",
    "dfMuBinsNew4['prop'] = propTTF.tolist() \n",
    "dfMuBinsNew4['GIAB'] = [1 for x in range(len(muBinsNew))]\n",
    "dfMuBinsNew4['CpG_context'] = [1 for x in range(len(muBinsNew))]\n",
    "dfMuBinsNew4['Cov'] = [0 for x in range(len(muBinsNew))]\n",
    "\n",
    "print(dfMuBinsNew4.head())"
   ]
  },
  {
   "cell_type": "code",
   "execution_count": 26,
   "metadata": {},
   "outputs": [
    {
     "name": "stdout",
     "output_type": "stream",
     "text": [
      "[       nan        nan        nan        nan        nan        nan\n",
      " 0.06896552 0.15708812 0.13448276 0.12739965 0.13464912 0.1539961\n",
      " 0.16075246 0.15879828 0.17630597 0.19213313 0.20971302 0.20216606\n",
      " 0.29281768 0.16447368 0.19166667 0.26966292 0.23611111 0.25862069\n",
      " 0.22077922 0.19512195 0.31372549 0.41463415 0.43902439 0.33333333\n",
      " 0.46666667 0.5        0.35       0.45238095 0.24       0.51851852\n",
      " 0.53846154 0.31578947 0.46296296 0.46666667 0.61538462 0.5\n",
      " 0.55555556 0.375      0.46666667 0.78947368 0.55555556 0.71428571\n",
      " 0.61538462 0.71428571 0.66666667 0.75       0.69230769 0.83333333\n",
      " 0.44444444 0.66666667 0.73333333 0.77777778 0.77272727 0.75\n",
      " 0.76190476 0.81818182 0.63157895 0.80645161 0.84615385 0.78125\n",
      " 0.79591837 0.70175439 0.83333333 0.93617021 0.78947368 0.8019802\n",
      " 0.8880597  0.864      0.83428571 0.85781991 0.84803922 0.86024845\n",
      " 0.88461538 0.88793103 0.88761905 0.91208791 0.90077519 0.89908257\n",
      " 0.90105541 0.91980559 0.93451143 0.94090909 0.9379715  0.9348659\n",
      " 0.95656192 0.96450304 0.96754808 0.96465969 0.97012302 0.96178344\n",
      " 0.98275862 1.         1.        ]\n",
      "   mu_bins  prop  GIAB  CpG_context  Cov\n",
      "0    0.004   NaN     0            1    1\n",
      "1    0.013   NaN     0            1    1\n",
      "2    0.020   NaN     0            1    1\n",
      "3    0.030   NaN     0            1    1\n",
      "4    0.041   NaN     0            1    1\n"
     ]
    }
   ],
   "source": [
    "propFTT = np.zeros(len(muBins))\n",
    "for i in range(len(muBinsNew)):\n",
    "    fractionFreqGreater5 = 0\n",
    "    dfBinned5 = dfFilterQuality80[dfFilterQuality80['mu'] == muBinsNew[i]]\n",
    "    dfF5 = dfBinned5[dfBinned5['GIAB'] == 0]\n",
    "    dfFT5 = dfF5[dfF5['CpG_context'] == 1]\n",
    "    \n",
    "    #GIAB = 0, CpG = 0, Cov = 0\n",
    "    dfFTT5 = dfFT5[dfFT5['covg_binary'] == 1] \n",
    "    dfGreaterZero5 = dfFTT5[dfFTT5['freq'] > 0]\n",
    "    if (len(dfFTT5) != 0):\n",
    "        fractionFreqGreater5 = len(dfGreaterZero5) / len(dfFTT5)\n",
    "    else:\n",
    "        fractionFreqGreater5 = np.nan\n",
    "    propFTT[i] = fractionFreqGreater5\n",
    "\n",
    "print(propFTT)\n",
    "\n",
    "dfMuBinsNew5 = pd.DataFrame(data = muBinsNew, columns=['mu_bins'])\n",
    "dfMuBinsNew5['prop'] = propFTT.tolist() \n",
    "dfMuBinsNew5['GIAB'] = [0 for x in range(len(muBinsNew))]\n",
    "dfMuBinsNew5['CpG_context'] = [1 for x in range(len(muBinsNew))]\n",
    "dfMuBinsNew5['Cov'] = [1 for x in range(len(muBinsNew))]\n",
    "\n",
    "print(dfMuBinsNew5.head())"
   ]
  },
  {
   "cell_type": "code",
   "execution_count": 27,
   "metadata": {},
   "outputs": [
    {
     "name": "stdout",
     "output_type": "stream",
     "text": [
      "[       nan 0.01772064 0.0293148  0.04326462 0.05417197 0.06311132\n",
      " 0.09010989 0.10377608 0.11968296 0.13939552 0.14750542 0.15783133\n",
      " 0.16525853 0.18368932 0.21065145 0.20595383 0.22601626 0.21630435\n",
      " 0.27777778 0.28344671 0.2797619  0.26293103 0.31840796 0.30718954\n",
      " 0.30841121 0.34       0.33823529 0.44444444 0.34042553 0.34210526\n",
      " 0.42307692 0.17647059 0.52380952 0.45       0.46666667 0.\n",
      " 0.09090909 0.5        0.         0.25       0.5        0.5\n",
      " 0.83333333 0.66666667 0.5        0.5        0.33333333 1.\n",
      " 1.         1.         0.         1.         0.5        1.\n",
      " 0.         0.         0.         0.5        1.                nan\n",
      "        nan        nan 1.                nan        nan 1.\n",
      "        nan        nan        nan        nan        nan        nan\n",
      "        nan        nan        nan        nan        nan        nan\n",
      "        nan        nan        nan        nan        nan        nan\n",
      "        nan        nan        nan        nan        nan        nan\n",
      "        nan        nan        nan        nan        nan        nan\n",
      "        nan        nan        nan]\n",
      "   mu_bins      prop  GIAB  CpG_context  Cov\n",
      "0    0.004       NaN     1            0    1\n",
      "1    0.013  0.017721     1            0    1\n",
      "2    0.020  0.029315     1            0    1\n",
      "3    0.030  0.043265     1            0    1\n",
      "4    0.041  0.054172     1            0    1\n"
     ]
    }
   ],
   "source": [
    "propTFT = np.zeros(len(muBins))\n",
    "for i in range(len(muBinsNew)):\n",
    "    fractionFreqGreater6 = 0\n",
    "    dfBinned6 = dfFilterQuality80[dfFilterQuality80['mu'] == muBinsNew[i]]\n",
    "    dfT6 = dfBinned6[dfBinned6['GIAB'] == 1]\n",
    "    dfTF6 = dfT6[dfT6['CpG_context'] == 0]\n",
    "    \n",
    "    #GIAB = 0, CpG = 0, Cov = 0\n",
    "    dfTFT6 = dfTF6[dfTF6['covg_binary'] == 1] \n",
    "    dfGreaterZero6 = dfTFT6[dfTFT6['freq'] > 0]\n",
    "    if (len(dfTFT6) != 0): \n",
    "        fractionFreqGreater6 = len(dfGreaterZero6) / len(dfTFT6)\n",
    "    else: \n",
    "        fractionFreqGreater6 = np.nan\n",
    "    propTFT[i] = fractionFreqGreater6\n",
    "\n",
    "print(propTFT)\n",
    "\n",
    "dfMuBinsNew6 = pd.DataFrame(data = muBinsNew, columns=['mu_bins'])\n",
    "dfMuBinsNew6['prop'] = propTFT.tolist() \n",
    "dfMuBinsNew6['GIAB'] = [1 for x in range(len(muBinsNew))]\n",
    "dfMuBinsNew6['CpG_context'] = [0 for x in range(len(muBinsNew))]\n",
    "dfMuBinsNew6['Cov'] = [1 for x in range(len(muBinsNew))]\n",
    "\n",
    "print(dfMuBinsNew6.head())"
   ]
  },
  {
   "cell_type": "code",
   "execution_count": 28,
   "metadata": {},
   "outputs": [
    {
     "name": "stdout",
     "output_type": "stream",
     "text": [
      "[       nan        nan        nan        nan        nan        nan\n",
      "        nan 0.14285714 0.07291667 0.1119403  0.14532872 0.12232416\n",
      " 0.17325228 0.18149466 0.17058824 0.24242424 0.13580247 0.21875\n",
      " 0.44827586 0.16666667 0.13043478 0.45833333 0.28       0.42857143\n",
      " 0.42857143 0.2962963  0.14285714 0.42857143 0.29411765 0.34782609\n",
      " 0.35       0.43478261 0.53846154 0.5        0.33333333 0.42105263\n",
      " 0.55555556 0.58333333 0.42857143 0.44444444 0.28571429 0.53846154\n",
      " 0.57142857 1.         0.83333333 0.5        0.5        1.\n",
      " 0.5        0.25       0.5        1.         0.66666667 0.66666667\n",
      " 1.         0.5        0.75       0.42857143 0.2        0.\n",
      " 0.4        0.75       1.         0.7        0.66666667 0.8\n",
      " 0.8        0.78571429 0.90909091 0.77777778 0.81818182 0.85714286\n",
      " 0.69230769 0.86666667 0.88461538 0.83333333 0.81818182 0.72972973\n",
      " 0.87096774 0.9        0.87912088 0.87878788 0.86746988 0.91836735\n",
      " 0.9        0.91869919 0.88652482 0.91304348 0.88961039 0.91566265\n",
      " 0.92622951 0.9        0.96610169 0.96226415 0.92307692 0.96875\n",
      " 1.         1.         1.        ]\n",
      "   mu_bins  prop  GIAB  CpG_context  Cov\n",
      "0    0.004   NaN     1            1    1\n",
      "1    0.013   NaN     1            1    1\n",
      "2    0.020   NaN     1            1    1\n",
      "3    0.030   NaN     1            1    1\n",
      "4    0.041   NaN     1            1    1\n"
     ]
    }
   ],
   "source": [
    "propTTT = np.zeros(len(muBins))\n",
    "for i in range(len(muBinsNew)):\n",
    "    fractionFreqGreater7 = 0\n",
    "    dfBinned7 = dfFilterQuality80[dfFilterQuality80['mu'] == muBinsNew[i]]\n",
    "    dfT7 = dfBinned7[dfBinned7['GIAB'] == 1]\n",
    "    dfTT7 = dfT7[dfT7['CpG_context'] == 1]\n",
    "    \n",
    "    #GIAB = 0, CpG = 0, Cov = 0\n",
    "    dfTTT7 = dfTT7[dfTT7['covg_binary'] == 1] \n",
    "    dfGreaterZero7 = dfTTT7[dfTTT7['freq'] > 0]\n",
    "    if (len(dfTTT7) != 0):\n",
    "        fractionFreqGreater7 = len(dfGreaterZero7) / len(dfTTT7)\n",
    "    else: \n",
    "        fractionFreqGreater7 = np.nan\n",
    "    propTTT[i] = fractionFreqGreater7\n",
    "\n",
    "print(propTTT)\n",
    "\n",
    "dfMuBinsNew7 = pd.DataFrame(data = muBinsNew, columns=['mu_bins'])\n",
    "dfMuBinsNew7['prop'] = propTTT.tolist() \n",
    "dfMuBinsNew7['GIAB'] = [1 for x in range(len(muBinsNew))]\n",
    "dfMuBinsNew7['CpG_context'] = [1 for x in range(len(muBinsNew))]\n",
    "dfMuBinsNew7['Cov'] = [1 for x in range(len(muBinsNew))]\n",
    "\n",
    "print(dfMuBinsNew7.head())"
   ]
  },
  {
   "cell_type": "code",
   "execution_count": 29,
   "metadata": {},
   "outputs": [
    {
     "name": "stdout",
     "output_type": "stream",
     "text": [
      "792\n",
      "   mu_bins      prop  GIAB  CpG_context  Cov\n",
      "0    0.004       NaN     0            0    0\n",
      "1    0.013  0.018198     0            0    0\n",
      "2    0.020  0.026987     0            0    0\n",
      "3    0.030  0.039803     0            0    0\n",
      "4    0.041  0.053475     0            0    0\n",
      "626\n",
      "   mu_bins      prop  GIAB  CpG_context  Cov\n",
      "1    0.013  0.018198     0            0    0\n",
      "2    0.020  0.026987     0            0    0\n",
      "3    0.030  0.039803     0            0    0\n",
      "4    0.041  0.053475     0            0    0\n",
      "5    0.051  0.067539     0            0    0\n"
     ]
    }
   ],
   "source": [
    "dfMuBinsNewAll = pd.concat([dfMuBinsNew0, dfMuBinsNew1, dfMuBinsNew2, dfMuBinsNew3, dfMuBinsNew4, dfMuBinsNew5, dfMuBinsNew6, dfMuBinsNew7])\n",
    "print(len(dfMuBinsNewAll))\n",
    "print(dfMuBinsNewAll.head())\n",
    "dfMuBinsNewAllDrop = dfMuBinsNewAll.dropna(axis='rows')\n",
    "print(len(dfMuBinsNewAllDrop))\n",
    "print(dfMuBinsNewAllDrop.head())"
   ]
  },
  {
   "cell_type": "code",
   "execution_count": 30,
   "metadata": {},
   "outputs": [
    {
     "data": {
      "text/plain": [
       "<seaborn.axisgrid.FacetGrid at 0x7fe940563af0>"
      ]
     },
     "execution_count": 30,
     "metadata": {},
     "output_type": "execute_result"
    },
    {
     "data": {
      "image/png": "[encoded data removed]",
      "text/plain": [
       "<Figure size 762.375x720 with 4 Axes>"
      ]
     },
     "metadata": {
      "needs_background": "light"
     },
     "output_type": "display_data"
    }
   ],
   "source": [
    "g = sns.FacetGrid(dfMuBinsNewAllDrop, row = \"CpG_context\", col=\"GIAB\", hue = \"Cov\", height=5, aspect=1, margin_titles=True)\n",
    "g.set(xscale=\"log\")\n",
    "g.map(plt.scatter, \"mu_bins\", \"prop\", alpha=.7)\n",
    "#plt.xlabel('', fontsize=16)\n",
    "#plt.ylabel('', fontsize=16)\n",
    "g.axes[1,0].set_xlabel('$\\mu$', fontsize = 16)\n",
    "g.axes[1,1].set_xlabel('$\\mu$', fontsize = 16)\n",
    "g.axes[0,0].set_ylabel('Proportion of sites where freq > 0', fontsize = 14)\n",
    "g.axes[1,0].set_ylabel('Proportion of sites where freq > 0', fontsize = 14)\n",
    "g.fig.suptitle('Effects of coverage quality, CpG transitions, and GIAB on mutation frequency > 0 vs. $\\mu$ (Synonymous)', y=1.05, fontsize=20)\n",
    "g.add_legend()"
   ]
  },
  {
   "cell_type": "code",
   "execution_count": 31,
   "metadata": {},
   "outputs": [],
   "source": [
    "#dfFilterQuality80.to_csv('syn_effects_plot.csv', index=False) #Uncomment this line to store df as a csv"
   ]
  },
  {
   "cell_type": "code",
   "execution_count": null,
   "metadata": {},
   "outputs": [],
   "source": []
  }
 ],
 "metadata": {
  "kernelspec": {
   "display_name": "Python 3",
   "language": "python",
   "name": "python3"
  },
  "language_info": {
   "codemirror_mode": {
    "name": "ipython",
    "version": 3
   },
   "file_extension": ".py",
   "mimetype": "text/x-python",
   "name": "python",
   "nbconvert_exporter": "python",
   "pygments_lexer": "ipython3",
   "version": "3.8.5"
  }
 },
 "nbformat": 4,
 "nbformat_minor": 4
}
