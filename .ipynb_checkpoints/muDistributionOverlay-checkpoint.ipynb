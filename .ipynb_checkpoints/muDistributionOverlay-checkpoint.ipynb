{
 "cells": [
  {
   "cell_type": "code",
   "execution_count": 1,
   "metadata": {},
   "outputs": [],
   "source": [
    "#Imports\n",
    "\n",
    "import math\n",
    "import numpy as np \n",
    "from scipy import stats\n",
    "from scipy.special import logit as lgTransform\n",
    "from scipy.interpolate import UnivariateSpline\n",
    "import pandas as pd\n",
    "import statsmodels.api as sm \n",
    "import matplotlib.pylab as plt \n",
    "from sklearn.linear_model import LogisticRegression\n",
    "import statsmodels.formula.api as smf\n",
    "from statsmodels.formula.api import logit\n",
    "%matplotlib inline"
   ]
  },
  {
   "cell_type": "code",
   "execution_count": 2,
   "metadata": {},
   "outputs": [
    {
     "name": "stdout",
     "output_type": "stream",
     "text": [
      "        mu_bins      freq\n",
      "0  4.059282e-10       1.0\n",
      "1  1.319267e-09   81933.0\n",
      "2  2.029641e-09  273485.0\n",
      "3  3.044462e-09  191255.0\n",
      "4  4.160764e-09  120844.0\n",
      "        mu_bins      freq\n",
      "0  4.059282e-10       5.0\n",
      "1  1.319267e-09  201920.0\n",
      "2  2.029641e-09  695112.0\n",
      "3  3.044462e-09  612744.0\n",
      "4  4.160764e-09  459236.0\n",
      "        mu_bins     freq\n",
      "0  4.059282e-10      7.0\n",
      "1  1.319267e-09  34024.0\n",
      "2  2.029641e-09  45050.0\n",
      "3  3.044462e-09  24534.0\n",
      "4  4.160764e-09  13056.0\n"
     ]
    }
   ],
   "source": [
    "dfSynonMu = pd.read_csv('syn_mu_num_mutations.csv')\n",
    "dfMissenseMu = pd.read_csv('mis_mu_num_mutations.csv')\n",
    "dfLoFMu = pd.read_csv('LoF_mu_num_mutations.csv')\n",
    "\n",
    "print(dfSynonMu.head())\n",
    "print(dfMissenseMu.head())\n",
    "print(dfLoFMu.head())"
   ]
  },
  {
   "cell_type": "code",
   "execution_count": 4,
   "metadata": {},
   "outputs": [
    {
     "ename": "SyntaxError",
     "evalue": "invalid syntax (<ipython-input-4-f1a3fcb343ad>, line 6)",
     "output_type": "error",
     "traceback": [
      "\u001b[0;36m  File \u001b[0;32m\"<ipython-input-4-f1a3fcb343ad>\"\u001b[0;36m, line \u001b[0;32m6\u001b[0m\n\u001b[0;31m    plt.scatter(dfMissenseMu['mu_bins'], dfMissenseMu['freq'], , label = \"Missense\")\u001b[0m\n\u001b[0m                                                               ^\u001b[0m\n\u001b[0;31mSyntaxError\u001b[0m\u001b[0;31m:\u001b[0m invalid syntax\n"
     ]
    }
   ],
   "source": [
    "fig, ax = plt.subplots(nrows=1, ncols=1, figsize=(12,6))\n",
    "plt.xscale(\"log\")\n",
    "plt.yscale(\"log\")\n",
    "\n",
    "plt.scatter(dfSynonMu['mu_bins'], dfSynonMu['freq'], label = \"Synonymous\")\n",
    "plt.scatter(dfMissenseMu['mu_bins'], dfMissenseMu['freq'], label = \"Missense\")\n",
    "plt.scatter(dfLoFMu['mu_bins'], dfLoFMu['freq'], label = \"Loss of Function\")\n",
    "\n",
    "fig.suptitle('Potential number of LoF mutation distributions per mutation rate bin (chr1)', fontsize=18)\n",
    "\n",
    "plt.xlabel('$\\mu$ (per-generation mutation rate)',  fontsize=16)\n",
    "plt.xticks(fontsize=12)\n",
    "\n",
    "plt.ylabel('Potential Number of Mutations',  fontsize=16)\n",
    "plt.yticks(fontsize=12)\n",
    "plt.legend()"
   ]
  },
  {
   "cell_type": "code",
   "execution_count": null,
   "metadata": {},
   "outputs": [],
   "source": []
  }
 ],
 "metadata": {
  "kernelspec": {
   "display_name": "Python 3",
   "language": "python",
   "name": "python3"
  },
  "language_info": {
   "codemirror_mode": {
    "name": "ipython",
    "version": 3
   },
   "file_extension": ".py",
   "mimetype": "text/x-python",
   "name": "python",
   "nbconvert_exporter": "python",
   "pygments_lexer": "ipython3",
   "version": "3.8.5"
  }
 },
 "nbformat": 4,
 "nbformat_minor": 4
}
