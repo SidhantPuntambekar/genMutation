{
 "cells": [
  {
   "cell_type": "code",
   "execution_count": 1,
   "metadata": {},
   "outputs": [],
   "source": [
    "#Imports\n",
    "\n",
    "import math\n",
    "import numpy as np \n",
    "from scipy import stats\n",
    "from scipy.special import logit as lgTransform\n",
    "from scipy.interpolate import UnivariateSpline\n",
    "import pandas as pd\n",
    "import statsmodels.api as sm \n",
    "import matplotlib.pylab as plt \n",
    "from sklearn.linear_model import LogisticRegression\n",
    "import statsmodels.formula.api as smf\n",
    "from statsmodels.formula.api import logit\n",
    "import seaborn as sns\n",
    "%matplotlib inline"
   ]
  },
  {
   "cell_type": "code",
   "execution_count": 2,
   "metadata": {},
   "outputs": [
    {
     "name": "stderr",
     "output_type": "stream",
     "text": [
      "/Users/Admin/opt/anaconda3/lib/python3.8/site-packages/IPython/core/interactiveshell.py:3146: DtypeWarning: Columns (20,21) have mixed types.Specify dtype option on import or set low_memory=False.\n",
      "  has_raised = await self.run_ast_nodes(code_ast.body, cell_name,\n"
     ]
    },
    {
     "name": "stdout",
     "output_type": "stream",
     "text": [
      "Index(['chrom', 'pos', 'gene', 'ref', 'alt', 'freq', 'PPH', 'AA_change', 'mu',\n",
      "       'qual', 'context', 'mean', 'median', 'over_20', 'over_50', 'over_100',\n",
      "       'filter', 'an', 'ac', 'allele_type', 'has_star', 'lcr', 'rf_label',\n",
      "       'interp_dist', 'GIAB'],\n",
      "      dtype='object')\n",
      "Number of columns:  25\n",
      "Original df length:  5247179\n"
     ]
    }
   ],
   "source": [
    "#Load data\n",
    "\n",
    "df = pd.read_csv('finalModelcsvs/fake_transcript_variants_mis_v5_chrom1_new.csv')\n",
    "#print(df.head())\n",
    "#print(df.tail())\n",
    "colDf = df.columns\n",
    "print(colDf)\n",
    "print(\"Number of columns: \", len(colDf))\n",
    "print(\"Original df length: \", len(df))\n",
    "#print(df.head())\n",
    "#print(df.tail())"
   ]
  },
  {
   "cell_type": "code",
   "execution_count": 3,
   "metadata": {
    "scrolled": false
   },
   "outputs": [
    {
     "name": "stdout",
     "output_type": "stream",
     "text": [
      "AC:  21\n",
      "Filter:  11750\n",
      "Has Star:  23334\n",
      "LCR:  408\n",
      "RF Label 10678\n",
      "Allele Type 4\n",
      "Final bad variant set length:  46195\n"
     ]
    }
   ],
   "source": [
    "#Filtering out bad variants\n",
    "#freq > 0 &  (ac==0 | filter!=\"PASS\" | has_star | lcr | rf_label==\"FP\" | allele_type != \"snv\")\n",
    "\n",
    "# dfGoodVariants = df[((df['freq'] > 0) & (df['ac'] == 0 | df['filter'] != 'PASS'\n",
    "#                                         | df['has_star'] == True | df['lcr'] == True \n",
    "#                                         | df['rf_label'] == \"FP\" | df['allele_type'] != \"snv\"))]\n",
    "\n",
    "dfBadVariants = df[df['freq'] > 0]\n",
    "dfBadVariantsAlleleCount = dfBadVariants[dfBadVariants['ac'] == 0]\n",
    "dfBadVariantsFilterQuality = dfBadVariants[dfBadVariants['filter'] != 'PASS']\n",
    "dfBadVariantsHasStar = dfBadVariants[dfBadVariants['has_star'] == True]\n",
    "dfBadVariantsLCR = dfBadVariants[dfBadVariants['lcr'] == True]\n",
    "dfBadVariantsRFLabel = dfBadVariants[dfBadVariants['rf_label'] == 'FP']\n",
    "dfBadVariantsAlleleType = dfBadVariants[dfBadVariants['allele_type'] != 'snv']\n",
    "\n",
    "dfFinalBadVariants = pd.concat([dfBadVariantsAlleleCount, dfBadVariantsFilterQuality, dfBadVariantsHasStar, dfBadVariantsLCR, dfBadVariantsRFLabel, dfBadVariantsAlleleType], sort=False).sort_index()\n",
    "\n",
    "print(\"AC: \", len(dfBadVariantsAlleleCount))\n",
    "print(\"Filter: \", len(dfBadVariantsFilterQuality))\n",
    "print(\"Has Star: \", len(dfBadVariantsHasStar))\n",
    "print(\"LCR: \", len(dfBadVariantsLCR))\n",
    "print(\"RF Label\", len(dfBadVariantsRFLabel))\n",
    "print(\"Allele Type\", len(dfBadVariantsAlleleType))\n",
    "\n",
    "print(\"Final bad variant set length: \", len(dfFinalBadVariants))\n",
    "#print(dfFinalBadVariants.head())\n",
    "#print(dfFinalBadVariants.tail(20))\n",
    "\n",
    "#print(dfBadVariants['allele_type'].head())\n",
    "\n",
    "#print(\"Filter out bad variants length: \", len(dfBadVariants))\n",
    "#print(dfBadVariants.head())"
   ]
  },
  {
   "cell_type": "code",
   "execution_count": 4,
   "metadata": {},
   "outputs": [
    {
     "name": "stdout",
     "output_type": "stream",
     "text": [
      "Int64Index([     64,     118,     118,     444,     506,     506,     527,\n",
      "                549,     553,     623,\n",
      "            ...\n",
      "            5245687, 5246112, 5246198, 5246240, 5246242, 5246249, 5246785,\n",
      "            5247009, 5247013, 5247015],\n",
      "           dtype='int64', length=46195)\n",
      "5207813\n"
     ]
    }
   ],
   "source": [
    "badIndexes = dfFinalBadVariants.index\n",
    "badSites = dfFinalBadVariants.pos\n",
    "print(dfFinalBadVariants.index)\n",
    "\n",
    "df.drop(badIndexes, inplace = True)\n",
    "dfGoodVariants = df\n",
    "print(len(dfGoodVariants))\n",
    "#print(dfGoodVariants.head())\n",
    "#print(dfGoodVariants.tail())"
   ]
  },
  {
   "cell_type": "code",
   "execution_count": 5,
   "metadata": {
    "scrolled": false
   },
   "outputs": [
    {
     "name": "stdout",
     "output_type": "stream",
     "text": [
      "Good variants length:  5207813\n",
      "Quality filtering:  4856519\n",
      "3908902\n"
     ]
    },
    {
     "name": "stderr",
     "output_type": "stream",
     "text": [
      "<ipython-input-5-f0edf46b95fc>:15: SettingWithCopyWarning: \n",
      "A value is trying to be set on a copy of a slice from a DataFrame.\n",
      "Try using .loc[row_indexer,col_indexer] = value instead\n",
      "\n",
      "See the caveats in the documentation: https://pandas.pydata.org/pandas-docs/stable/user_guide/indexing.html#returning-a-view-versus-a-copy\n",
      "  dfFilterQuality80[\"GIAB\"] = dfFilterQuality80[\"GIAB\"].astype(int)\n"
     ]
    },
    {
     "name": "stdout",
     "output_type": "stream",
     "text": [
      "Int64Index([   4123,    4124,    4362,    4363,    4561,    4562,    4622,\n",
      "               4712,    5000,    5001,\n",
      "            ...\n",
      "            5245407, 5246082, 5246083, 5246170, 5246171, 5246462, 5246463,\n",
      "            5246468, 5247002, 5247059],\n",
      "           dtype='int64', length=31108)\n"
     ]
    },
    {
     "name": "stderr",
     "output_type": "stream",
     "text": [
      "/Users/Admin/opt/anaconda3/lib/python3.8/site-packages/pandas/core/frame.py:4163: SettingWithCopyWarning: \n",
      "A value is trying to be set on a copy of a slice from a DataFrame\n",
      "\n",
      "See the caveats in the documentation: https://pandas.pydata.org/pandas-docs/stable/user_guide/indexing.html#returning-a-view-versus-a-copy\n",
      "  return super().drop(\n"
     ]
    },
    {
     "name": "stdout",
     "output_type": "stream",
     "text": [
      "3877794\n",
      "3877794\n",
      "After filtering for freq == 0 and interp_dist == 0:  3877794\n",
      "31108\n"
     ]
    }
   ],
   "source": [
    "#Coverage and quality filtering\n",
    "# qual==\"high\", over_20>0.8,freq==0 & interp_dist==0 & allele_type != \"snv\", ENSG00000242265\n",
    "\n",
    "print(\"Good variants length: \", len(dfGoodVariants))\n",
    "\n",
    "#Keep sites with high quality\n",
    "dfQuality = dfGoodVariants[dfGoodVariants['qual'] == 'high']\n",
    "print(\"Quality filtering: \", len(dfQuality))\n",
    "\n",
    "#Keep sites with over_20 coverage > 0.8\n",
    "dfFilterQuality80 = dfQuality[dfQuality['over_20'] > 0.8]\n",
    "print(len(dfFilterQuality80))\n",
    "\n",
    "#Change GIAB from T/F to binary variable\n",
    "dfFilterQuality80[\"GIAB\"] = dfFilterQuality80[\"GIAB\"].astype(int)\n",
    "\n",
    "#Filter freq == 0, #Filter interp_distance == 0, #Filter sites allele_type != \"snv\"\n",
    "maskCoverage = (dfFilterQuality80['freq'] == 0) & (dfFilterQuality80['interp_dist'] == 0) & (dfFilterQuality80['allele_type'] != 'snv')\n",
    "\n",
    "dfFilterQuality80FreqInterpAlleleType = dfFilterQuality80[maskCoverage]\n",
    "\n",
    "# dfFilterQuality80 = dfFilterQuality80[dfFilterQuality80['freq'] != 0]\n",
    "# dfFilterQuality80 = dfFilterQuality80[dfFilterQuality80['interp_dist'] != 0]\n",
    "# dfFilterQuality80 = dfFilterQuality80[dfFilterQuality80['allele_type'] == 'snv']\n",
    "\n",
    "freqInterpAlleleTypeIndexes = dfFilterQuality80FreqInterpAlleleType.index\n",
    "print(freqInterpAlleleTypeIndexes)\n",
    "dfFilterQuality80.drop(freqInterpAlleleTypeIndexes, inplace = True)\n",
    "print(len(dfFilterQuality80))\n",
    "\n",
    "#Filter sites in the gene ENSG00000242265\n",
    "dfFilterQuality80 = dfFilterQuality80[dfFilterQuality80['gene'] != 'ENSG00000242265']\n",
    "print(len(dfFilterQuality80))\n",
    "\n",
    "#print(dfQuality.head())\n",
    "\n",
    "print(\"After filtering for freq == 0 and interp_dist == 0: \", len(dfFilterQuality80))\n",
    "#print(dfFilterQuality80.head())\n",
    "#print(dfFilterQuality80.tail())\n",
    "\n",
    "print(len(dfFilterQuality80FreqInterpAlleleType))\n",
    "#print(dfFilterQuality80FreqInterpAlleleType.head())"
   ]
  },
  {
   "cell_type": "code",
   "execution_count": 6,
   "metadata": {},
   "outputs": [],
   "source": [
    "dfFilterQuality80.insert(25, 'CpG_context', [1 for x in range(len(dfFilterQuality80))])\n",
    "#print(dfFilterQuality80.head())"
   ]
  },
  {
   "cell_type": "code",
   "execution_count": 7,
   "metadata": {
    "scrolled": false
   },
   "outputs": [
    {
     "name": "stdout",
     "output_type": "stream",
     "text": [
      "      chrom     pos             gene ref alt      freq  \\\n",
      "1493      1  925945  ENSG00000187634   T   A  0.000000   \n",
      "1494      1  925945  ENSG00000187634   T   C  0.000000   \n",
      "1495      1  925945  ENSG00000187634   T   G  0.000000   \n",
      "1496      1  925946  ENSG00000187634   C   G  0.000012   \n",
      "1497      1  925946  ENSG00000187634   C   T  0.000000   \n",
      "\n",
      "                           PPH AA_change     mu  qual  ... filter        an  \\\n",
      "1493  possibly_damaging(0.883)   Ser2Thr  0.030  high  ...   PASS  249448.0   \n",
      "1494             benign(0.086)   Ser2Pro  0.051  high  ...   PASS  249448.0   \n",
      "1495   possibly_damaging(0.77)   Ser2Ala  0.020  high  ...   PASS  249448.0   \n",
      "1496  probably_damaging(0.987)   Ser2Cys  0.073  high  ...   PASS  249448.0   \n",
      "1497  probably_damaging(0.972)   Ser2Phe  0.198  high  ...   PASS  249448.0   \n",
      "\n",
      "       ac  allele_type  has_star    lcr rf_label  interp_dist  GIAB  \\\n",
      "1493  3.0          snv     False  False      NaN            1     1   \n",
      "1494  3.0          snv     False  False      NaN            1     1   \n",
      "1495  3.0          snv     False  False      NaN            1     1   \n",
      "1496  3.0          snv     False  False      NaN            0     1   \n",
      "1497  3.0          snv     False  False      NaN            0     1   \n",
      "\n",
      "     CpG_context  \n",
      "1493         0.0  \n",
      "1494         0.0  \n",
      "1495         0.0  \n",
      "1496         0.0  \n",
      "1497         0.0  \n",
      "\n",
      "[5 rows x 26 columns]\n"
     ]
    }
   ],
   "source": [
    "#CpG Transitions\n",
    "\n",
    "context = dfFilterQuality80.context.tolist()\n",
    "ref = dfFilterQuality80.ref.tolist()\n",
    "alt = dfFilterQuality80.alt.tolist()\n",
    "CpGArray = np.zeros(len(context))\n",
    "CpGArrayIndex = 0\n",
    "\n",
    "for i in range(len(context)):\n",
    "    contextString = context[i]\n",
    "    for j in range(len(contextString)-1):\n",
    "        if (contextString[j] == 'C' and contextString[j+1] == 'G'):\n",
    "            if ((ref[i] == 'G' and alt[i] == 'A') or (ref[i] == 'C' and alt[i] == 'T')):\n",
    "                CpGArray[CpGArrayIndex] = 1\n",
    "    CpGArrayIndex = CpGArrayIndex + 1\n",
    "\n",
    "# for k in range(100): \n",
    "#     print(CpGArray[k])\n",
    "    \n",
    "# print(dfFilterQuality80.context.head(50))\n",
    "# print(len(CpGArray))\n",
    "\n",
    "dfFilterQuality80['CpG_context'] = CpGArray.tolist()\n",
    "#dfChuckles = dfFilterQuality80[['context', 'CpG_context']]\n",
    "#print(dfChuckles.head(50))\n",
    "print(dfFilterQuality80.head())"
   ]
  },
  {
   "cell_type": "code",
   "execution_count": 8,
   "metadata": {
    "scrolled": false
   },
   "outputs": [],
   "source": [
    "# dfCpG = dfFilterQuality80.loc[dfFilterQuality80['CpG_context'] == 1]\n",
    "# ref = dfCpG.ref.tolist()\n",
    "# alt = dfCpG.alt.tolist()\n",
    "# CpGArrayTransitions = np.zeros(len(dfCpG))\n",
    "# CpGTransitionsArrayIndex = 0\n",
    "\n",
    "# for i in range(len(dfCpG)): \n",
    "#     if ((ref[i] == 'G' and alt[i] == 'A') or (ref[i] == 'C' and alt[i] == 'T')):\n",
    "#         CpGArrayTransitions[CpGTransitionsArrayIndex] = 1\n",
    "#     CpGTransitionsArrayIndex = CpGTransitionsArrayIndex + 1\n",
    "\n",
    "# for k in range(100):\n",
    "#     print(CpGArrayTransitions[k])\n",
    "\n",
    "# #print(CpGArrayTransitions)\n",
    "# print(len(dfCpG))\n",
    "# print(dfCpG.head(50))"
   ]
  },
  {
   "cell_type": "code",
   "execution_count": 9,
   "metadata": {},
   "outputs": [
    {
     "name": "stdout",
     "output_type": "stream",
     "text": [
      "      chrom     pos             gene ref alt      freq  \\\n",
      "1493      1  925945  ENSG00000187634   T   A  0.000000   \n",
      "1494      1  925945  ENSG00000187634   T   C  0.000000   \n",
      "1495      1  925945  ENSG00000187634   T   G  0.000000   \n",
      "1496      1  925946  ENSG00000187634   C   G  0.000012   \n",
      "1497      1  925946  ENSG00000187634   C   T  0.000000   \n",
      "\n",
      "                           PPH AA_change     mu  qual  ...        an   ac  \\\n",
      "1493  possibly_damaging(0.883)   Ser2Thr  0.030  high  ...  249448.0  3.0   \n",
      "1494             benign(0.086)   Ser2Pro  0.051  high  ...  249448.0  3.0   \n",
      "1495   possibly_damaging(0.77)   Ser2Ala  0.020  high  ...  249448.0  3.0   \n",
      "1496  probably_damaging(0.987)   Ser2Cys  0.073  high  ...  249448.0  3.0   \n",
      "1497  probably_damaging(0.972)   Ser2Phe  0.198  high  ...  249448.0  3.0   \n",
      "\n",
      "      allele_type  has_star    lcr  rf_label interp_dist  GIAB  CpG_context  \\\n",
      "1493          snv     False  False       NaN           1     1          0.0   \n",
      "1494          snv     False  False       NaN           1     1          0.0   \n",
      "1495          snv     False  False       NaN           1     1          0.0   \n",
      "1496          snv     False  False       NaN           0     1          0.0   \n",
      "1497          snv     False  False       NaN           0     1          0.0   \n",
      "\n",
      "     logistic_freq  \n",
      "1493             0  \n",
      "1494             0  \n",
      "1495             0  \n",
      "1496             1  \n",
      "1497             0  \n",
      "\n",
      "[5 rows x 27 columns]\n"
     ]
    }
   ],
   "source": [
    "#Dependent var freq > 0 logistic_freq\n",
    "\n",
    "dfFilterQuality80.insert(26, 'logistic_freq', [1 for x in range(len(dfFilterQuality80))])\n",
    "dfFilterQuality80['logistic_freq'] = np.where((dfFilterQuality80.freq == 0), 0, dfFilterQuality80.logistic_freq)\n",
    "print(dfFilterQuality80.head())"
   ]
  },
  {
   "cell_type": "code",
   "execution_count": 10,
   "metadata": {},
   "outputs": [
    {
     "name": "stdout",
     "output_type": "stream",
     "text": [
      "      chrom     pos             gene ref alt      freq  \\\n",
      "1493      1  925945  ENSG00000187634   T   A  0.000000   \n",
      "1494      1  925945  ENSG00000187634   T   C  0.000000   \n",
      "1495      1  925945  ENSG00000187634   T   G  0.000000   \n",
      "1496      1  925946  ENSG00000187634   C   G  0.000012   \n",
      "1497      1  925946  ENSG00000187634   C   T  0.000000   \n",
      "\n",
      "                           PPH AA_change     mu  qual  ...   ac  allele_type  \\\n",
      "1493  possibly_damaging(0.883)   Ser2Thr  0.030  high  ...  3.0          snv   \n",
      "1494             benign(0.086)   Ser2Pro  0.051  high  ...  3.0          snv   \n",
      "1495   possibly_damaging(0.77)   Ser2Ala  0.020  high  ...  3.0          snv   \n",
      "1496  probably_damaging(0.987)   Ser2Cys  0.073  high  ...  3.0          snv   \n",
      "1497  probably_damaging(0.972)   Ser2Phe  0.198  high  ...  3.0          snv   \n",
      "\n",
      "      has_star    lcr  rf_label  interp_dist GIAB  CpG_context  logistic_freq  \\\n",
      "1493     False  False       NaN            1    1          0.0              0   \n",
      "1494     False  False       NaN            1    1          0.0              0   \n",
      "1495     False  False       NaN            1    1          0.0              0   \n",
      "1496     False  False       NaN            0    1          0.0              1   \n",
      "1497     False  False       NaN            0    1          0.0              0   \n",
      "\n",
      "        log_mu  \n",
      "1493 -1.522879  \n",
      "1494 -1.292430  \n",
      "1495 -1.698970  \n",
      "1496 -1.136677  \n",
      "1497 -0.703335  \n",
      "\n",
      "[5 rows x 28 columns]\n"
     ]
    }
   ],
   "source": [
    "#log transform mu\n",
    "dfFilterQuality80['log_mu'] = np.log10(dfFilterQuality80['mu'])\n",
    "print(dfFilterQuality80.head())"
   ]
  },
  {
   "cell_type": "code",
   "execution_count": 11,
   "metadata": {},
   "outputs": [
    {
     "name": "stdout",
     "output_type": "stream",
     "text": [
      "      chrom     pos             gene ref alt      freq  \\\n",
      "1493      1  925945  ENSG00000187634   T   A  0.000000   \n",
      "1494      1  925945  ENSG00000187634   T   C  0.000000   \n",
      "1495      1  925945  ENSG00000187634   T   G  0.000000   \n",
      "1496      1  925946  ENSG00000187634   C   G  0.000012   \n",
      "1497      1  925946  ENSG00000187634   C   T  0.000000   \n",
      "\n",
      "                           PPH AA_change     mu  qual  ... allele_type  \\\n",
      "1493  possibly_damaging(0.883)   Ser2Thr  0.030  high  ...         snv   \n",
      "1494             benign(0.086)   Ser2Pro  0.051  high  ...         snv   \n",
      "1495   possibly_damaging(0.77)   Ser2Ala  0.020  high  ...         snv   \n",
      "1496  probably_damaging(0.987)   Ser2Cys  0.073  high  ...         snv   \n",
      "1497  probably_damaging(0.972)   Ser2Phe  0.198  high  ...         snv   \n",
      "\n",
      "      has_star    lcr  rf_label  interp_dist  GIAB CpG_context  logistic_freq  \\\n",
      "1493     False  False       NaN            1     1         0.0              0   \n",
      "1494     False  False       NaN            1     1         0.0              0   \n",
      "1495     False  False       NaN            1     1         0.0              0   \n",
      "1496     False  False       NaN            0     1         0.0              1   \n",
      "1497     False  False       NaN            0     1         0.0              0   \n",
      "\n",
      "        log_mu log_mu_squared  \n",
      "1493 -1.522879       2.319160  \n",
      "1494 -1.292430       1.670375  \n",
      "1495 -1.698970       2.886499  \n",
      "1496 -1.136677       1.292035  \n",
      "1497 -0.703335       0.494680  \n",
      "\n",
      "[5 rows x 29 columns]\n"
     ]
    }
   ],
   "source": [
    "#log transform mu^2\n",
    "dfFilterQuality80['log_mu_squared'] = (np.log10(dfFilterQuality80['mu']))**2\n",
    "print(dfFilterQuality80.head())"
   ]
  },
  {
   "cell_type": "code",
   "execution_count": 12,
   "metadata": {},
   "outputs": [
    {
     "name": "stdout",
     "output_type": "stream",
     "text": [
      "      chrom     pos             gene ref alt      freq  \\\n",
      "1493      1  925945  ENSG00000187634   T   A  0.000000   \n",
      "1494      1  925945  ENSG00000187634   T   C  0.000000   \n",
      "1495      1  925945  ENSG00000187634   T   G  0.000000   \n",
      "1496      1  925946  ENSG00000187634   C   G  0.000012   \n",
      "1497      1  925946  ENSG00000187634   C   T  0.000000   \n",
      "\n",
      "                           PPH AA_change     mu  qual  ... has_star    lcr  \\\n",
      "1493  possibly_damaging(0.883)   Ser2Thr  0.030  high  ...    False  False   \n",
      "1494             benign(0.086)   Ser2Pro  0.051  high  ...    False  False   \n",
      "1495   possibly_damaging(0.77)   Ser2Ala  0.020  high  ...    False  False   \n",
      "1496  probably_damaging(0.987)   Ser2Cys  0.073  high  ...    False  False   \n",
      "1497  probably_damaging(0.972)   Ser2Phe  0.198  high  ...    False  False   \n",
      "\n",
      "      rf_label  interp_dist  GIAB  CpG_context logistic_freq    log_mu  \\\n",
      "1493       NaN            1     1          0.0             0 -1.522879   \n",
      "1494       NaN            1     1          0.0             0 -1.292430   \n",
      "1495       NaN            1     1          0.0             0 -1.698970   \n",
      "1496       NaN            0     1          0.0             1 -1.136677   \n",
      "1497       NaN            0     1          0.0             0 -0.703335   \n",
      "\n",
      "      log_mu_squared GIAB_CpG_Interaction  \n",
      "1493        2.319160                  0.0  \n",
      "1494        1.670375                  0.0  \n",
      "1495        2.886499                  0.0  \n",
      "1496        1.292035                  0.0  \n",
      "1497        0.494680                  0.0  \n",
      "\n",
      "[5 rows x 30 columns]\n"
     ]
    }
   ],
   "source": [
    "#GIAB CpG Interaction\n",
    "dfFilterQuality80['GIAB_CpG_Interaction'] = dfFilterQuality80['GIAB'] * dfFilterQuality80['CpG_context']\n",
    "print(dfFilterQuality80.head())"
   ]
  },
  {
   "cell_type": "code",
   "execution_count": 13,
   "metadata": {},
   "outputs": [],
   "source": [
    "#Final model Loss of Function\n",
    "\n",
    "#final_mod = smf.glm('logistic_freq ~ mu + log_mu + log_mu_squared + GIAB + CpG_context + GIAB_CpG_Interaction + median', data = dfFilterQuality80, family = sm.families.Binomial()).fit()\n",
    "#print(final_mod.summary())"
   ]
  },
  {
   "cell_type": "code",
   "execution_count": 14,
   "metadata": {},
   "outputs": [],
   "source": [
    "def calculateLogisticProbSynon(intercept, muMod, log_muMod, log_mu_squaredMod, GIABMod, CpG_contextMod, GIAB_CpG_InteractionMod, medianMod, mu, log_mu, log_mu_squared, GIAB, CpG_context, GIAB_CpG_Interaction, median):\n",
    "        probability = 1 / (1 + math.exp(-1 * ((intercept + (mu * muMod) + (log_muMod * log_mu) + (log_mu_squared * log_mu_squaredMod) + (GIAB * GIABMod) + (CpG_contextMod * CpG_context) + (GIAB_CpG_InteractionMod * GIAB_CpG_Interaction) + (median * medianMod)))))\n",
    "        return probability\n",
    "        \n",
    "interceptMod, muMod, log_muMod, log_mu_squaredMod, GIABMod, CpG_contextMod, GIAB_CpG_InteractionMod, medianMod = 0.1184, 0.8243, 1.9851, -0.1254, 0.0365, 0.0065, -0.2032, 0.0006 #Coefficients for synon final model"
   ]
  },
  {
   "cell_type": "code",
   "execution_count": 15,
   "metadata": {},
   "outputs": [
    {
     "name": "stdout",
     "output_type": "stream",
     "text": [
      "      chrom     pos             gene ref alt      freq  \\\n",
      "1493      1  925945  ENSG00000187634   T   A  0.000000   \n",
      "1494      1  925945  ENSG00000187634   T   C  0.000000   \n",
      "1495      1  925945  ENSG00000187634   T   G  0.000000   \n",
      "1496      1  925946  ENSG00000187634   C   G  0.000012   \n",
      "1497      1  925946  ENSG00000187634   C   T  0.000000   \n",
      "\n",
      "                           PPH AA_change     mu  qual  ...    lcr  rf_label  \\\n",
      "1493  possibly_damaging(0.883)   Ser2Thr  0.030  high  ...  False       NaN   \n",
      "1494             benign(0.086)   Ser2Pro  0.051  high  ...  False       NaN   \n",
      "1495   possibly_damaging(0.77)   Ser2Ala  0.020  high  ...  False       NaN   \n",
      "1496  probably_damaging(0.987)   Ser2Cys  0.073  high  ...  False       NaN   \n",
      "1497  probably_damaging(0.972)   Ser2Phe  0.198  high  ...  False       NaN   \n",
      "\n",
      "      interp_dist  GIAB  CpG_context  logistic_freq    log_mu  log_mu_squared  \\\n",
      "1493            1     1          0.0              0 -1.522879        2.319160   \n",
      "1494            1     1          0.0              0 -1.292430        1.670375   \n",
      "1495            1     1          0.0              0 -1.698970        2.886499   \n",
      "1496            0     1          0.0              1 -1.136677        1.292035   \n",
      "1497            0     1          0.0              0 -0.703335        0.494680   \n",
      "\n",
      "      GIAB_CpG_Interaction probability_final_mod  \n",
      "1493                   0.0              0.043803  \n",
      "1494                   0.0              0.073978  \n",
      "1495                   0.0              0.028967  \n",
      "1496                   0.0              0.104110  \n",
      "1497                   0.0              0.251786  \n",
      "\n",
      "[5 rows x 31 columns]\n"
     ]
    }
   ],
   "source": [
    "dfFilterQuality80['probability_final_mod'] = [1 for x in range(len(dfFilterQuality80))]\n",
    "probFinalModArray = np.zeros(len(dfFilterQuality80))\n",
    "\n",
    "muArray = dfFilterQuality80.mu.tolist()\n",
    "log_muArray = dfFilterQuality80.log_mu.tolist()\n",
    "log_mu_squaredArray = dfFilterQuality80.log_mu_squared.tolist()\n",
    "GIABArray = dfFilterQuality80.GIAB.tolist()\n",
    "CpG_contextArray = dfFilterQuality80.CpG_context.tolist()\n",
    "GIAB_CpG_InteractionArray = dfFilterQuality80.GIAB_CpG_Interaction.tolist()\n",
    "medianArray = dfFilterQuality80['median'].tolist()\n",
    "\n",
    "for i in range(len(dfFilterQuality80)):\n",
    "    mu = muArray[i]\n",
    "    log_mu = log_muArray[i]\n",
    "    log_mu_squared = log_mu_squaredArray[i]\n",
    "    GIAB = GIABArray[i]\n",
    "    CpG_context = CpG_contextArray[i]\n",
    "    GIAB_CpG_Interaction = GIAB_CpG_InteractionArray[i]\n",
    "    median = medianArray[i]\n",
    "    \n",
    "    newProb = calculateLogisticProbSynon(interceptMod, muMod, log_muMod, log_mu_squaredMod, GIABMod, CpG_contextMod, GIAB_CpG_InteractionMod, medianMod, mu, log_mu, log_mu_squared, GIAB, CpG_context, GIAB_CpG_Interaction, median)\n",
    "    probFinalModArray[i] = newProb\n",
    "    \n",
    "dfFilterQuality80['probability_final_mod'] = probFinalModArray\n",
    "print(dfFilterQuality80.head())"
   ]
  },
  {
   "cell_type": "code",
   "execution_count": 16,
   "metadata": {},
   "outputs": [
    {
     "name": "stdout",
     "output_type": "stream",
     "text": [
      "99\n",
      "   mu_bins\n",
      "0    0.004\n",
      "1    0.013\n",
      "2    0.020\n",
      "3    0.030\n",
      "4    0.041\n",
      "[5.00000e+00 2.01920e+05 6.95112e+05 6.12744e+05 4.59236e+05 3.55783e+05\n",
      " 2.87724e+05 2.18985e+05 1.75711e+05 1.47717e+05 1.25887e+05 1.05295e+05\n",
      " 8.98590e+04 7.48320e+04 5.90030e+04 4.53490e+04 3.49740e+04 2.61810e+04\n",
      " 2.03580e+04 1.53350e+04 1.21200e+04 9.95100e+03 7.88800e+03 6.31900e+03\n",
      " 4.98000e+03 4.22000e+03 3.64600e+03 3.17400e+03 2.58900e+03 2.49200e+03\n",
      " 2.23500e+03 1.96000e+03 1.62000e+03 1.47400e+03 1.35200e+03 1.10800e+03\n",
      " 1.05800e+03 9.48000e+02 9.74000e+02 7.83000e+02 7.09000e+02 6.98000e+02\n",
      " 6.46000e+02 5.48000e+02 5.03000e+02 5.40000e+02 4.58000e+02 4.55000e+02\n",
      " 3.96000e+02 3.92000e+02 3.75000e+02 3.45000e+02 2.72000e+02 2.84000e+02\n",
      " 2.37000e+02 2.24000e+02 2.11000e+02 1.93000e+02 1.83000e+02 1.55000e+02\n",
      " 1.93000e+02 1.48000e+02 1.59000e+02 1.77000e+02 1.58000e+02 1.64000e+02\n",
      " 2.09000e+02 2.18000e+02 2.39000e+02 1.79000e+02 3.23000e+02 3.70000e+02\n",
      " 4.00000e+02 5.12000e+02 6.07000e+02 5.87000e+02 6.34000e+02 7.87000e+02\n",
      " 9.55000e+02 1.11400e+03 1.27500e+03 1.33000e+03 1.77000e+03 1.80900e+03\n",
      " 2.16200e+03 2.34300e+03 2.60400e+03 3.14900e+03 3.28600e+03 3.39100e+03\n",
      " 3.19600e+03 3.62100e+03 3.19600e+03 2.56700e+03 1.94100e+03 9.02000e+02\n",
      " 3.09000e+02 7.90000e+01 6.00000e+00]\n",
      "        mu_bins      freq\n",
      "0  4.059282e-10       5.0\n",
      "1  1.319267e-09  201920.0\n",
      "2  2.029641e-09  695112.0\n",
      "3  3.044462e-09  612744.0\n",
      "4  4.160764e-09  459236.0\n"
     ]
    },
    {
     "data": {
      "text/plain": [
       "(array([1.e-01, 1.e+00, 1.e+01, 1.e+02, 1.e+03, 1.e+04, 1.e+05, 1.e+06,\n",
       "        1.e+07, 1.e+08]),\n",
       " [Text(0, 0, ''),\n",
       "  Text(0, 0, ''),\n",
       "  Text(0, 0, ''),\n",
       "  Text(0, 0, ''),\n",
       "  Text(0, 0, ''),\n",
       "  Text(0, 0, ''),\n",
       "  Text(0, 0, ''),\n",
       "  Text(0, 0, ''),\n",
       "  Text(0, 0, ''),\n",
       "  Text(0, 0, '')])"
      ]
     },
     "execution_count": 16,
     "metadata": {},
     "output_type": "execute_result"
    },
    {
     "data": {
      "image/png": "[encoded data removed]",
      "text/plain": [
       "<Figure size 864x432 with 1 Axes>"
      ]
     },
     "metadata": {
      "needs_background": "light"
     },
     "output_type": "display_data"
    }
   ],
   "source": [
    "muBins = dfFilterQuality80.mu.unique()\n",
    "muBins = np.sort(muBins)\n",
    "\n",
    "dfMuBins = pd.DataFrame(data = muBins)\n",
    "dfMuBins.columns = ['mu_bins']\n",
    "print(len(dfMuBins))\n",
    "print(dfMuBins.head())\n",
    "\n",
    "freqMu = np.zeros(len(muBins))\n",
    "\n",
    "for i in range(len(muBins)):\n",
    "    dfFilterQuality80Plot = dfFilterQuality80[dfFilterQuality80['mu'] == muBins[i]]\n",
    "    freqMu[i] = len(dfFilterQuality80Plot)\n",
    "    \n",
    "print(freqMu)\n",
    "\n",
    "dfMuBins['freq'] = freqMu.tolist()\n",
    "\n",
    "perGenConstant = 1.01482054e-7\n",
    "dfMuBins['mu_bins'] = dfMuBins['mu_bins'] * perGenConstant\n",
    "\n",
    "print(dfMuBins.head())\n",
    "\n",
    "fig, ax = plt.subplots(nrows=1, ncols=1, figsize=(12,6))\n",
    "plt.xscale(\"log\")\n",
    "plt.yscale(\"log\")\n",
    "plt.scatter(dfMuBins['mu_bins'], dfMuBins['freq'])\n",
    "\n",
    "fig.suptitle('Potential number of missense mutation distributions per mutation rate bin (chr1)', fontsize=18)\n",
    "\n",
    "plt.xlabel('$\\mu$ (per-generation mutation rate)',  fontsize=16)\n",
    "plt.xticks(fontsize=12)\n",
    "\n",
    "plt.ylabel('Potential Number of Mutations',  fontsize=16)\n",
    "plt.yticks(fontsize=12)"
   ]
  },
  {
   "cell_type": "code",
   "execution_count": 17,
   "metadata": {},
   "outputs": [],
   "source": [
    "#dfMuBins.to_csv('mis_mu_num_mutations.csv', index=False) #Uncomment this line to store df as a csv"
   ]
  },
  {
   "cell_type": "code",
   "execution_count": 18,
   "metadata": {},
   "outputs": [
    {
     "name": "stdout",
     "output_type": "stream",
     "text": [
      "      chrom     pos             gene ref alt      freq  \\\n",
      "1493      1  925945  ENSG00000187634   T   A  0.000000   \n",
      "1494      1  925945  ENSG00000187634   T   C  0.000000   \n",
      "1495      1  925945  ENSG00000187634   T   G  0.000000   \n",
      "1496      1  925946  ENSG00000187634   C   G  0.000012   \n",
      "1497      1  925946  ENSG00000187634   C   T  0.000000   \n",
      "\n",
      "                           PPH AA_change     mu  qual  ... rf_label  \\\n",
      "1493  possibly_damaging(0.883)   Ser2Thr  0.030  high  ...      NaN   \n",
      "1494             benign(0.086)   Ser2Pro  0.051  high  ...      NaN   \n",
      "1495   possibly_damaging(0.77)   Ser2Ala  0.020  high  ...      NaN   \n",
      "1496  probably_damaging(0.987)   Ser2Cys  0.073  high  ...      NaN   \n",
      "1497  probably_damaging(0.972)   Ser2Phe  0.198  high  ...      NaN   \n",
      "\n",
      "      interp_dist  GIAB  CpG_context  logistic_freq    log_mu log_mu_squared  \\\n",
      "1493            1     1          0.0              0 -1.522879       2.319160   \n",
      "1494            1     1          0.0              0 -1.292430       1.670375   \n",
      "1495            1     1          0.0              0 -1.698970       2.886499   \n",
      "1496            0     1          0.0              1 -1.136677       1.292035   \n",
      "1497            0     1          0.0              0 -0.703335       0.494680   \n",
      "\n",
      "      GIAB_CpG_Interaction  probability_final_mod covg_binary  \n",
      "1493                   0.0               0.043803           1  \n",
      "1494                   0.0               0.073978           1  \n",
      "1495                   0.0               0.028967           1  \n",
      "1496                   0.0               0.104110           1  \n",
      "1497                   0.0               0.251786           1  \n",
      "\n",
      "[5 rows x 32 columns]\n"
     ]
    }
   ],
   "source": [
    "dfFilterQuality80['covg_binary'] = [1 for x in range(len(dfFilterQuality80))]\n",
    "dfFilterQuality80['covg_binary'] = np.where((dfFilterQuality80.over_20 <= 0.995), 0, dfFilterQuality80.covg_binary)\n",
    "\n",
    "muBinsNew = dfFilterQuality80.mu.unique()\n",
    "muBinsNew = np.sort(muBinsNew)\n",
    "# fractionBinArray1 = np.zeros(len(muBins))\n",
    "\n",
    "# for i in range(len(muBinsNew)):\n",
    "#     fractionFreqGreater0 = 0\n",
    "#     dfBinned = dfFilterQuality80[dfFilterQuality80['mu'] == muBinsNew[i]]\n",
    "#     #print(dfBinned.head())\n",
    "#     #print(dfBinned.tail())\n",
    "#     dfGreaterZero = dfBinned[dfBinned['freq'] > 0]\n",
    "    \n",
    "#     fractionFreqGreater0 = len(dfGreaterZero) / len(dfBinned)\n",
    "#     fractionBinArray1[i] = fractionFreqGreater0\n",
    "\n",
    "# dictionary = dict(zip(muBinsNew, fractionBinArray1))\n",
    "\n",
    "# dfFilterQuality80['prop_sites'] = dfFilterQuality80['mu'].map(dictionary)\n",
    "# dfFilterQuality80['mut_type'] = ['missense' for x in range(len(dfFilterQuality80))]\n",
    "\n",
    "print(dfFilterQuality80.head())"
   ]
  },
  {
   "cell_type": "code",
   "execution_count": 19,
   "metadata": {},
   "outputs": [
    {
     "name": "stdout",
     "output_type": "stream",
     "text": [
      "[0.         0.01452938 0.02162204 0.03256052 0.04444031 0.05542872\n",
      " 0.06575058 0.0758972  0.08656015 0.09852123 0.11019874 0.12420978\n",
      " 0.13273823 0.14297909 0.15658609 0.1648734  0.17368866 0.18941846\n",
      " 0.20562616 0.21795374 0.23242972 0.23966194 0.24332456 0.26483357\n",
      " 0.26887661 0.29558824 0.30629853 0.30190476 0.32978723 0.33087331\n",
      " 0.35382309 0.35504886 0.38230088 0.41266376 0.36138614 0.42779292\n",
      " 0.41666667 0.43986254 0.42804428 0.42424242 0.47389558 0.41409692\n",
      " 0.47826087 0.54189944 0.5        0.51123596 0.46357616 0.52413793\n",
      " 0.50735294 0.53076923 0.51937984 0.59375    0.48101266 0.55813953\n",
      " 0.65079365 0.61666667 0.46808511 0.65306122 0.71428571 0.64285714\n",
      " 0.68888889 0.71428571 0.47619048 0.64285714 0.66666667 0.63636364\n",
      " 0.83333333 0.84615385 1.         0.75       1.         1.\n",
      " 1.         0.5               nan 1.                nan        nan\n",
      "        nan        nan        nan        nan        nan        nan\n",
      "        nan        nan        nan        nan        nan        nan\n",
      "        nan        nan        nan        nan        nan        nan\n",
      "        nan        nan        nan]\n",
      "   mu_bins      prop  GIAB  CpG_context  Cov\n",
      "0    0.004  0.000000     0            0    0\n",
      "1    0.013  0.014529     0            0    0\n",
      "2    0.020  0.021622     0            0    0\n",
      "3    0.030  0.032561     0            0    0\n",
      "4    0.041  0.044440     0            0    0\n"
     ]
    }
   ],
   "source": [
    "propFFF = np.zeros(len(muBins))\n",
    "for i in range(len(muBinsNew)):\n",
    "    fractionFreqGreater0 = 0\n",
    "    dfBinned0 = dfFilterQuality80[dfFilterQuality80['mu'] == muBinsNew[i]]\n",
    "    dfF0 = dfBinned0[dfBinned0['GIAB'] == 0]\n",
    "    dfFF0 = dfF0[dfF0['CpG_context'] == 0]\n",
    "    \n",
    "    #GIAB = 0, CpG = 0, Cov = 0\n",
    "    dfFFF0 = dfFF0[dfFF0['covg_binary'] == 0] \n",
    "    dfGreaterZero = dfFFF0[dfFFF0['freq'] > 0]\n",
    "    if (len(dfFFF0) != 0):\n",
    "        fractionFreqGreater0 = len(dfGreaterZero) / len(dfFFF0)\n",
    "    else:\n",
    "        fractionFreqGreater0 = np.nan\n",
    "    propFFF[i] = fractionFreqGreater0\n",
    "    \n",
    "print(propFFF)\n",
    "\n",
    "dfMuBinsNew0 = pd.DataFrame(data = muBinsNew, columns=['mu_bins'])\n",
    "dfMuBinsNew0['prop'] = propFFF.tolist() \n",
    "dfMuBinsNew0['GIAB'] = [0 for x in range(len(muBinsNew))]\n",
    "dfMuBinsNew0['CpG_context'] = [0 for x in range(len(muBinsNew))]\n",
    "dfMuBinsNew0['Cov'] = [0 for x in range(len(muBinsNew))]\n",
    "\n",
    "print(dfMuBinsNew0.head())"
   ]
  },
  {
   "cell_type": "code",
   "execution_count": 20,
   "metadata": {},
   "outputs": [
    {
     "name": "stdout",
     "output_type": "stream",
     "text": [
      "[       nan 0.01534159 0.02495956 0.03486898 0.04764281 0.05823206\n",
      " 0.06704907 0.07898327 0.08916421 0.10004738 0.11279868 0.1297829\n",
      " 0.13986706 0.14488035 0.16217883 0.17283629 0.18345212 0.18710758\n",
      " 0.1895355  0.21180556 0.21624007 0.25921909 0.25947522 0.26902655\n",
      " 0.24193548 0.30659026 0.26013514 0.28813559 0.28248588 0.33108108\n",
      " 0.30894309 0.37815126 0.39361702 0.31884058 0.43243243 0.36363636\n",
      " 0.38596491 0.3902439  0.46428571 0.5        0.42424242 0.40540541\n",
      " 0.5862069  0.375      0.5        0.65       0.42105263 0.52941176\n",
      " 0.45       0.45       0.53333333 0.27272727 0.6        0.30769231\n",
      " 0.875      0.5        0.6        0.8        0.8        0.75\n",
      " 1.                nan 0.5        1.         0.5        1.\n",
      " 0.33333333 1.         0.33333333        nan 1.                nan\n",
      " 0.5               nan 1.         0.                nan        nan\n",
      "        nan        nan        nan        nan        nan        nan\n",
      "        nan        nan        nan        nan        nan        nan\n",
      "        nan        nan        nan        nan        nan        nan\n",
      "        nan        nan        nan]\n",
      "   mu_bins      prop  GIAB  CpG_context  Cov\n",
      "0    0.004       NaN     1            0    0\n",
      "1    0.013  0.015342     1            0    0\n",
      "2    0.020  0.024960     1            0    0\n",
      "3    0.030  0.034869     1            0    0\n",
      "4    0.041  0.047643     1            0    0\n"
     ]
    }
   ],
   "source": [
    "propTFF = np.zeros(len(muBins))\n",
    "for i in range(len(muBinsNew)):\n",
    "    fractionFreqGreater1 = 0\n",
    "    dfBinned1 = dfFilterQuality80[dfFilterQuality80['mu'] == muBinsNew[i]]\n",
    "    dfT1 = dfBinned1[dfBinned1['GIAB'] == 1]\n",
    "    dfTF1 = dfT1[dfT1['CpG_context'] == 0]\n",
    "    \n",
    "    #GIAB = 0, CpG = 0, Cov = 0\n",
    "    dfTFF1 = dfTF1[dfTF1['covg_binary'] == 0] \n",
    "    dfGreaterZero1 = dfTFF1[dfTFF1['freq'] > 0]\n",
    "    if (len(dfTFF1) != 0):\n",
    "        fractionFreqGreater1 = len(dfGreaterZero1) / len(dfTFF1)\n",
    "    else: \n",
    "        fractionFreqGreater1 = np.nan\n",
    "    propTFF[i] = fractionFreqGreater1\n",
    "\n",
    "print(propTFF)\n",
    "\n",
    "dfMuBinsNew1 = pd.DataFrame(data = muBinsNew, columns=['mu_bins'])\n",
    "dfMuBinsNew1['prop'] = propTFF.tolist() \n",
    "dfMuBinsNew1['GIAB'] = [1 for x in range(len(muBinsNew))]\n",
    "dfMuBinsNew1['CpG_context'] = [0 for x in range(len(muBinsNew))]\n",
    "dfMuBinsNew1['Cov'] = [0 for x in range(len(muBinsNew))]\n",
    "\n",
    "print(dfMuBinsNew1.head())"
   ]
  },
  {
   "cell_type": "code",
   "execution_count": 21,
   "metadata": {},
   "outputs": [
    {
     "name": "stdout",
     "output_type": "stream",
     "text": [
      "[       nan        nan        nan        nan        nan        nan\n",
      " 0.2        0.08910891 0.09343434 0.09461967 0.10644258 0.12571429\n",
      " 0.15268987 0.14897579 0.17377049 0.13927577 0.18996416 0.19496855\n",
      " 0.20754717 0.17977528 0.3030303  0.27027027 0.29577465 0.24590164\n",
      " 0.29577465 0.27941176 0.17647059 0.34090909 0.30769231 0.2173913\n",
      " 0.29230769 0.44736842 0.34782609 0.38636364 0.4        0.2\n",
      " 0.47826087 0.26086957 0.46938776 0.35483871 0.42105263 0.53333333\n",
      " 0.375      0.5        0.38461538 0.42857143 0.76923077 0.58333333\n",
      " 0.58333333 0.66666667 0.66666667 0.64705882 0.72727273 0.66666667\n",
      " 0.71428571 0.6875     0.66666667 0.46666667 0.61111111 0.5\n",
      " 0.68965517 0.47619048 0.6969697  0.74193548 0.5862069  0.82142857\n",
      " 0.65306122 0.66666667 0.83333333 0.65957447 0.74157303 0.77142857\n",
      " 0.70634921 0.80272109 0.72282609 0.7247191  0.77435897 0.74131274\n",
      " 0.76816609 0.76021798 0.77541371 0.76510067 0.77777778 0.8013245\n",
      " 0.83166904 0.81292059 0.82198327 0.82248521 0.84048507 0.8537234\n",
      " 0.83568548 0.8709107  0.86760281 0.86826347 0.9058296  0.90102389\n",
      " 0.87128713 0.92857143 0.75      ]\n",
      "   mu_bins  prop  GIAB  CpG_context  Cov\n",
      "0    0.004   NaN     0            1    0\n",
      "1    0.013   NaN     0            1    0\n",
      "2    0.020   NaN     0            1    0\n",
      "3    0.030   NaN     0            1    0\n",
      "4    0.041   NaN     0            1    0\n"
     ]
    }
   ],
   "source": [
    "propFTF = np.zeros(len(muBins))\n",
    "for i in range(len(muBinsNew)):\n",
    "    fractionFreqGreater2 = 0\n",
    "    dfBinned2 = dfFilterQuality80[dfFilterQuality80['mu'] == muBinsNew[i]]\n",
    "    dfF2 = dfBinned2[dfBinned2['GIAB'] == 0]\n",
    "    dfFT2 = dfF2[dfF2['CpG_context'] == 1]\n",
    "    \n",
    "    #GIAB = 0, CpG = 0, Cov = 0\n",
    "    dfFTF2 = dfFT2[dfFT2['covg_binary'] == 0] \n",
    "    dfGreaterZero2 = dfFTF2[dfFTF2['freq'] > 0]\n",
    "    if (len(dfFTF2) != 0):\n",
    "        fractionFreqGreater2 = len(dfGreaterZero2) / len(dfFTF2)\n",
    "    else:\n",
    "        fractionFreqGreater2 = np.nan\n",
    "    propFTF[i] = fractionFreqGreater2\n",
    "\n",
    "print(propFTF)\n",
    "\n",
    "dfMuBinsNew2 = pd.DataFrame(data = muBinsNew, columns=['mu_bins'])\n",
    "dfMuBinsNew2['prop'] = propFTF.tolist() \n",
    "dfMuBinsNew2['GIAB'] = [0 for x in range(len(muBinsNew))]\n",
    "dfMuBinsNew2['CpG_context'] = [1 for x in range(len(muBinsNew))]\n",
    "dfMuBinsNew2['Cov'] = [0 for x in range(len(muBinsNew))]\n",
    "\n",
    "print(dfMuBinsNew2.head())"
   ]
  },
  {
   "cell_type": "code",
   "execution_count": 22,
   "metadata": {},
   "outputs": [
    {
     "name": "stdout",
     "output_type": "stream",
     "text": [
      "[0.         0.01460637 0.02230091 0.03309044 0.04410761 0.05558932\n",
      " 0.06675256 0.07678886 0.08786379 0.10220039 0.11169529 0.12472605\n",
      " 0.13745964 0.14893322 0.15257796 0.17362686 0.17962343 0.19008836\n",
      " 0.20303963 0.2185301  0.22205589 0.2428866  0.24777137 0.27424094\n",
      " 0.25661487 0.2861461  0.31246377 0.32460733 0.35102041 0.35008818\n",
      " 0.34804413 0.37090909 0.33921303 0.35312024 0.4091653  0.44685039\n",
      " 0.4691358  0.46924829 0.45864662 0.47214076 0.4695122  0.48220065\n",
      " 0.46822742 0.47535211 0.48971193 0.51449275 0.50420168 0.49779736\n",
      " 0.5698324  0.53191489 0.48587571 0.51533742 0.50833333 0.5754717\n",
      " 0.63551402 0.65517241 0.58333333 0.58461538 0.75806452 0.46938776\n",
      " 0.70212766 0.575      0.62068966 0.68965517 0.66666667 0.875\n",
      " 0.64285714 0.75       0.85714286 0.42857143 0.85714286 0.66666667\n",
      " 0.66666667 0.6        0.66666667 1.                nan        nan\n",
      "        nan        nan        nan        nan        nan        nan\n",
      "        nan        nan        nan        nan        nan        nan\n",
      "        nan        nan        nan        nan        nan        nan\n",
      "        nan        nan        nan]\n",
      "   mu_bins      prop  GIAB  CpG_context  Cov\n",
      "0    0.004  0.000000     0            0    1\n",
      "1    0.013  0.014606     0            0    1\n",
      "2    0.020  0.022301     0            0    1\n",
      "3    0.030  0.033090     0            0    1\n",
      "4    0.041  0.044108     0            0    1\n"
     ]
    }
   ],
   "source": [
    "propFFT = np.zeros(len(muBins))\n",
    "for i in range(len(muBinsNew)):\n",
    "    fractionFreqGreater3 = 0\n",
    "    dfBinned3 = dfFilterQuality80[dfFilterQuality80['mu'] == muBinsNew[i]]\n",
    "    dfF3 = dfBinned3[dfBinned3['GIAB'] == 0]\n",
    "    dfFF3 = dfF3[dfF3['CpG_context'] == 0]\n",
    "    \n",
    "    #GIAB = 0, CpG = 0, Cov = 0\n",
    "    dfFFT3 = dfFF3[dfFF3['covg_binary'] == 1] \n",
    "    dfGreaterZero3 = dfFFT3[dfFFT3['freq'] > 0]\n",
    "    if (len(dfFFT3) != 0):\n",
    "        fractionFreqGreater3 = len(dfGreaterZero3) / len(dfFFT3)\n",
    "    else:\n",
    "        fractionFreqGreater3 = np.nan\n",
    "    propFFT[i] = fractionFreqGreater3\n",
    "\n",
    "print(propFFT)\n",
    "\n",
    "dfMuBinsNew3 = pd.DataFrame(data = muBinsNew, columns=['mu_bins'])\n",
    "dfMuBinsNew3['prop'] = propFFT.tolist() \n",
    "dfMuBinsNew3['GIAB'] = [0 for x in range(len(muBinsNew))]\n",
    "dfMuBinsNew3['CpG_context'] = [0 for x in range(len(muBinsNew))]\n",
    "dfMuBinsNew3['Cov'] = [1 for x in range(len(muBinsNew))]\n",
    "\n",
    "print(dfMuBinsNew3.head())"
   ]
  },
  {
   "cell_type": "code",
   "execution_count": 23,
   "metadata": {},
   "outputs": [
    {
     "name": "stdout",
     "output_type": "stream",
     "text": [
      "[       nan        nan        nan        nan        nan        nan\n",
      " 0.         0.04166667 0.06818182 0.09620991 0.12483574 0.12668161\n",
      " 0.13913043 0.13363029 0.14110429 0.15315315 0.15891473 0.17010309\n",
      " 0.13114754 0.265      0.23026316 0.2037037  0.20625    0.26627219\n",
      " 0.22151899 0.23837209 0.2748538  0.2991453  0.23931624 0.24503311\n",
      " 0.30102041 0.31515152 0.27368421 0.25       0.29126214 0.35820896\n",
      " 0.375      0.25       0.31578947 0.31578947 0.41666667 0.28571429\n",
      " 0.4047619  0.37037037 0.52173913 0.28571429 0.25       0.45454545\n",
      " 0.375      0.47619048 0.6        0.59259259 0.61538462 0.51515152\n",
      " 0.55555556 0.45       0.75       0.63636364 0.59259259 0.5\n",
      " 0.53846154 0.55882353 0.69230769 0.58139535 0.59375    0.5952381\n",
      " 0.78378378 0.64150943 0.69230769 0.73684211 0.66101695 0.71232877\n",
      " 0.68253968 0.69230769 0.70588235 0.6875     0.65656566 0.75555556\n",
      " 0.75590551 0.77844311 0.74269006 0.75722543 0.84722222 0.80084746\n",
      " 0.85873606 0.85947712 0.82075472 0.83776596 0.82926829 0.86060606\n",
      " 0.88300221 0.89178357 0.90625    0.88172043 0.90521327 0.89473684\n",
      " 0.88461538 1.                nan]\n",
      "   mu_bins  prop  GIAB  CpG_context  Cov\n",
      "0    0.004   NaN     1            1    0\n",
      "1    0.013   NaN     1            1    0\n",
      "2    0.020   NaN     1            1    0\n",
      "3    0.030   NaN     1            1    0\n",
      "4    0.041   NaN     1            1    0\n"
     ]
    }
   ],
   "source": [
    "propTTF = np.zeros(len(muBins))\n",
    "for i in range(len(muBinsNew)):\n",
    "    fractionFreqGreater4 = 0\n",
    "    dfBinned4 = dfFilterQuality80[dfFilterQuality80['mu'] == muBinsNew[i]]\n",
    "    dfT4 = dfBinned4[dfBinned4['GIAB'] == 1]\n",
    "    dfTT4 = dfT4[dfT4['CpG_context'] == 1]\n",
    "    \n",
    "    #GIAB = 0, CpG = 0, Cov = 0\n",
    "    dfTTF4 = dfTT4[dfTT4['covg_binary'] == 0] \n",
    "    dfGreaterZero4 = dfTTF4[dfTTF4['freq'] > 0]\n",
    "    if (len(dfTTF4) != 0):\n",
    "        fractionFreqGreater4 = len(dfGreaterZero4) / len(dfTTF4)\n",
    "    else:\n",
    "        fractionFreqGreater4 = np.nan\n",
    "    propTTF[i] = fractionFreqGreater4\n",
    "\n",
    "print(propTTF)\n",
    "\n",
    "dfMuBinsNew4 = pd.DataFrame(data = muBinsNew, columns=['mu_bins'])\n",
    "dfMuBinsNew4['prop'] = propTTF.tolist() \n",
    "dfMuBinsNew4['GIAB'] = [1 for x in range(len(muBinsNew))]\n",
    "dfMuBinsNew4['CpG_context'] = [1 for x in range(len(muBinsNew))]\n",
    "dfMuBinsNew4['Cov'] = [0 for x in range(len(muBinsNew))]\n",
    "\n",
    "print(dfMuBinsNew4.head())"
   ]
  },
  {
   "cell_type": "code",
   "execution_count": 24,
   "metadata": {},
   "outputs": [
    {
     "name": "stdout",
     "output_type": "stream",
     "text": [
      "[       nan        nan        nan        nan        nan        nan\n",
      " 0.         0.10344828 0.09532062 0.09549072 0.1137102  0.11574328\n",
      " 0.12367865 0.13017356 0.1814346  0.15268456 0.19285714 0.1563981\n",
      " 0.19767442 0.27184466 0.20481928 0.27835052 0.25675676 0.27118644\n",
      " 0.27586207 0.36065574 0.25       0.39622642 0.38461538 0.43421053\n",
      " 0.27160494 0.296875   0.14705882 0.26315789 0.41463415 0.40816327\n",
      " 0.37931034 0.39534884 0.46376812 0.30232558 0.11111111 0.4516129\n",
      " 0.42857143 0.375      0.36363636 0.25       0.75       0.54545455\n",
      " 0.6        0.5        0.47058824 0.58333333 0.5        0.54545455\n",
      " 0.69230769 0.57894737 0.66666667 0.5862069  0.72727273 0.75\n",
      " 0.5625     0.64285714 0.68421053 0.69387755 0.71666667 0.72727273\n",
      " 0.75342466 0.57692308 0.66666667 0.72857143 0.72661871 0.69461078\n",
      " 0.7606383  0.75688073 0.72972973 0.75451264 0.75409836 0.71834625\n",
      " 0.75826446 0.77865613 0.76847291 0.7651633  0.75858124 0.81924883\n",
      " 0.80223881 0.81522669 0.80265211 0.82677665 0.83663366 0.85751128\n",
      " 0.85612903 0.85828571 0.86641221 0.86138614 0.90210526 0.88128773\n",
      " 0.93975904 0.87234043 1.        ]\n",
      "   mu_bins  prop  GIAB  CpG_context  Cov\n",
      "0    0.004   NaN     0            1    1\n",
      "1    0.013   NaN     0            1    1\n",
      "2    0.020   NaN     0            1    1\n",
      "3    0.030   NaN     0            1    1\n",
      "4    0.041   NaN     0            1    1\n"
     ]
    }
   ],
   "source": [
    "propFTT = np.zeros(len(muBins))\n",
    "for i in range(len(muBinsNew)):\n",
    "    fractionFreqGreater5 = 0\n",
    "    dfBinned5 = dfFilterQuality80[dfFilterQuality80['mu'] == muBinsNew[i]]\n",
    "    dfF5 = dfBinned5[dfBinned5['GIAB'] == 0]\n",
    "    dfFT5 = dfF5[dfF5['CpG_context'] == 1]\n",
    "    \n",
    "    #GIAB = 0, CpG = 0, Cov = 0\n",
    "    dfFTT5 = dfFT5[dfFT5['covg_binary'] == 1] \n",
    "    dfGreaterZero5 = dfFTT5[dfFTT5['freq'] > 0]\n",
    "    if (len(dfFTT5) != 0):\n",
    "        fractionFreqGreater5 = len(dfGreaterZero5) / len(dfFTT5)\n",
    "    else:\n",
    "        fractionFreqGreater5 = np.nan\n",
    "    propFTT[i] = fractionFreqGreater5\n",
    "\n",
    "print(propFTT)\n",
    "\n",
    "dfMuBinsNew5 = pd.DataFrame(data = muBinsNew, columns=['mu_bins'])\n",
    "dfMuBinsNew5['prop'] = propFTT.tolist() \n",
    "dfMuBinsNew5['GIAB'] = [0 for x in range(len(muBinsNew))]\n",
    "dfMuBinsNew5['CpG_context'] = [1 for x in range(len(muBinsNew))]\n",
    "dfMuBinsNew5['Cov'] = [1 for x in range(len(muBinsNew))]\n",
    "\n",
    "print(dfMuBinsNew5.head())"
   ]
  },
  {
   "cell_type": "code",
   "execution_count": 25,
   "metadata": {},
   "outputs": [
    {
     "name": "stdout",
     "output_type": "stream",
     "text": [
      "[       nan 0.01634349 0.02466083 0.03441718 0.04575715 0.05957154\n",
      " 0.06862962 0.08081601 0.09532876 0.09807023 0.11898594 0.12930233\n",
      " 0.13327745 0.15350032 0.16428295 0.17607973 0.20188679 0.20066061\n",
      " 0.21894094 0.22766571 0.2283105  0.21632653 0.26649746 0.29568106\n",
      " 0.30735931 0.26455026 0.29192547 0.36220472 0.36153846 0.37894737\n",
      " 0.36       0.31578947 0.42857143 0.31372549 0.47272727 0.5\n",
      " 0.47916667 0.42307692 0.3        0.38461538 0.57894737 0.47058824\n",
      " 0.37037037 0.47058824 0.5        0.41176471 0.55555556 0.4\n",
      " 0.53333333 0.5        0.375      0.63636364 0.66666667 0.71428571\n",
      " 0.66666667 0.6        0.66666667 0.75       0.75       0.5\n",
      " 0.8        0.5        0.6        0.         1.                nan\n",
      " 0.6        1.         0.                nan        nan        nan\n",
      " 1.         1.                nan        nan        nan        nan\n",
      "        nan        nan        nan        nan        nan        nan\n",
      "        nan        nan        nan        nan        nan        nan\n",
      "        nan        nan        nan        nan        nan        nan\n",
      "        nan        nan        nan]\n",
      "   mu_bins      prop  GIAB  CpG_context  Cov\n",
      "0    0.004       NaN     1            0    1\n",
      "1    0.013  0.016343     1            0    1\n",
      "2    0.020  0.024661     1            0    1\n",
      "3    0.030  0.034417     1            0    1\n",
      "4    0.041  0.045757     1            0    1\n"
     ]
    }
   ],
   "source": [
    "propTFT = np.zeros(len(muBins))\n",
    "for i in range(len(muBinsNew)):\n",
    "    fractionFreqGreater6 = 0\n",
    "    dfBinned6 = dfFilterQuality80[dfFilterQuality80['mu'] == muBinsNew[i]]\n",
    "    dfT6 = dfBinned6[dfBinned6['GIAB'] == 1]\n",
    "    dfTF6 = dfT6[dfT6['CpG_context'] == 0]\n",
    "    \n",
    "    #GIAB = 0, CpG = 0, Cov = 0\n",
    "    dfTFT6 = dfTF6[dfTF6['covg_binary'] == 1] \n",
    "    dfGreaterZero6 = dfTFT6[dfTFT6['freq'] > 0]\n",
    "    if (len(dfTFT6) != 0): \n",
    "        fractionFreqGreater6 = len(dfGreaterZero6) / len(dfTFT6)\n",
    "    else: \n",
    "        fractionFreqGreater6 = np.nan\n",
    "    propTFT[i] = fractionFreqGreater6\n",
    "\n",
    "print(propTFT)\n",
    "\n",
    "dfMuBinsNew6 = pd.DataFrame(data = muBinsNew, columns=['mu_bins'])\n",
    "dfMuBinsNew6['prop'] = propTFT.tolist() \n",
    "dfMuBinsNew6['GIAB'] = [1 for x in range(len(muBinsNew))]\n",
    "dfMuBinsNew6['CpG_context'] = [0 for x in range(len(muBinsNew))]\n",
    "dfMuBinsNew6['Cov'] = [1 for x in range(len(muBinsNew))]\n",
    "\n",
    "print(dfMuBinsNew6.head())"
   ]
  },
  {
   "cell_type": "code",
   "execution_count": 26,
   "metadata": {},
   "outputs": [
    {
     "name": "stdout",
     "output_type": "stream",
     "text": [
      "[       nan        nan        nan        nan        nan        nan\n",
      " 0.         0.08333333 0.14084507 0.06306306 0.164      0.15\n",
      " 0.17088608 0.16262976 0.13888889 0.16964286 0.16666667 0.11627907\n",
      " 0.24242424 0.18181818 0.18181818 0.13953488 0.33333333 0.10714286\n",
      " 0.22222222 0.27777778 0.13043478 0.31578947 0.1875     0.13793103\n",
      " 0.29032258 0.225      0.17391304 0.11111111 0.21052632 0.66666667\n",
      " 0.45454545 0.23529412 0.20833333 0.5        0.42857143 0.53846154\n",
      " 0.4        0.42857143 0.75       1.         0.5        0.4\n",
      " 0.33333333 0.5        0.5        0.375      0.         0.6\n",
      " 0.6        0.33333333 0.66666667 0.75       0.5        0.5\n",
      " 0.57142857 0.55555556 0.6        0.77777778 0.6        0.7\n",
      " 0.375      0.66666667 0.77777778 0.76923077 0.76       0.58823529\n",
      " 0.625      0.71428571 0.76315789 0.77777778 0.68571429 0.78431373\n",
      " 0.74545455 0.63513514 0.76388889 0.80597015 0.82692308 0.82905983\n",
      " 0.80833333 0.816      0.86227545 0.83606557 0.81382979 0.86175115\n",
      " 0.87562189 0.90041494 0.91469194 0.87142857 0.88288288 0.88888889\n",
      " 0.9375     1.                nan]\n",
      "   mu_bins  prop  GIAB  CpG_context  Cov\n",
      "0    0.004   NaN     1            1    1\n",
      "1    0.013   NaN     1            1    1\n",
      "2    0.020   NaN     1            1    1\n",
      "3    0.030   NaN     1            1    1\n",
      "4    0.041   NaN     1            1    1\n"
     ]
    }
   ],
   "source": [
    "propTTT = np.zeros(len(muBins))\n",
    "for i in range(len(muBinsNew)):\n",
    "    fractionFreqGreater7 = 0\n",
    "    dfBinned7 = dfFilterQuality80[dfFilterQuality80['mu'] == muBinsNew[i]]\n",
    "    dfT7 = dfBinned7[dfBinned7['GIAB'] == 1]\n",
    "    dfTT7 = dfT7[dfT7['CpG_context'] == 1]\n",
    "    \n",
    "    #GIAB = 0, CpG = 0, Cov = 0\n",
    "    dfTTT7 = dfTT7[dfTT7['covg_binary'] == 1] \n",
    "    dfGreaterZero7 = dfTTT7[dfTTT7['freq'] > 0]\n",
    "    if (len(dfTTT7) != 0):\n",
    "        fractionFreqGreater7 = len(dfGreaterZero7) / len(dfTTT7)\n",
    "    else: \n",
    "        fractionFreqGreater7 = np.nan\n",
    "    propTTT[i] = fractionFreqGreater7\n",
    "\n",
    "print(propTTT)\n",
    "\n",
    "dfMuBinsNew7 = pd.DataFrame(data = muBinsNew, columns=['mu_bins'])\n",
    "dfMuBinsNew7['prop'] = propTTT.tolist() \n",
    "dfMuBinsNew7['GIAB'] = [1 for x in range(len(muBinsNew))]\n",
    "dfMuBinsNew7['CpG_context'] = [1 for x in range(len(muBinsNew))]\n",
    "dfMuBinsNew7['Cov'] = [1 for x in range(len(muBinsNew))]\n",
    "\n",
    "print(dfMuBinsNew7.head())"
   ]
  },
  {
   "cell_type": "code",
   "execution_count": 27,
   "metadata": {},
   "outputs": [
    {
     "name": "stdout",
     "output_type": "stream",
     "text": [
      "792\n",
      "   mu_bins      prop  GIAB  CpG_context  Cov\n",
      "0    0.004  0.000000     0            0    0\n",
      "1    0.013  0.014529     0            0    0\n",
      "2    0.020  0.021622     0            0    0\n",
      "3    0.030  0.032561     0            0    0\n",
      "4    0.041  0.044440     0            0    0\n",
      "661\n",
      "   mu_bins      prop  GIAB  CpG_context  Cov\n",
      "0    0.004  0.000000     0            0    0\n",
      "1    0.013  0.014529     0            0    0\n",
      "2    0.020  0.021622     0            0    0\n",
      "3    0.030  0.032561     0            0    0\n",
      "4    0.041  0.044440     0            0    0\n"
     ]
    }
   ],
   "source": [
    "dfMuBinsNewAll = pd.concat([dfMuBinsNew0, dfMuBinsNew1, dfMuBinsNew2, dfMuBinsNew3, dfMuBinsNew4, dfMuBinsNew5, dfMuBinsNew6, dfMuBinsNew7])\n",
    "print(len(dfMuBinsNewAll))\n",
    "print(dfMuBinsNewAll.head())\n",
    "dfMuBinsNewAllDrop = dfMuBinsNewAll.dropna(axis='rows')\n",
    "print(len(dfMuBinsNewAllDrop))\n",
    "print(dfMuBinsNewAllDrop.head())"
   ]
  },
  {
   "cell_type": "code",
   "execution_count": 30,
   "metadata": {},
   "outputs": [
    {
     "data": {
      "text/plain": [
       "<seaborn.axisgrid.FacetGrid at 0x7fb2147cbb20>"
      ]
     },
     "execution_count": 30,
     "metadata": {},
     "output_type": "execute_result"
    },
    {
     "data": {
      "image/png": "[encoded data removed]",
      "text/plain": [
       "<Figure size 762.375x720 with 4 Axes>"
      ]
     },
     "metadata": {
      "needs_background": "light"
     },
     "output_type": "display_data"
    }
   ],
   "source": [
    "g = sns.FacetGrid(dfMuBinsNewAllDrop, row = \"CpG_context\", col=\"Cov\", hue = \"GIAB\", height=5, margin_titles=True)\n",
    "g.set(xscale=\"log\")\n",
    "g.map(plt.scatter, \"mu_bins\", \"prop\", alpha=.7)\n",
    "#plt.xlabel('', fontsize=16)\n",
    "#plt.ylabel('', fontsize=16)\n",
    "g.axes[1,0].set_xlabel('$\\mu$', fontsize = 16)\n",
    "g.axes[1,1].set_xlabel('$\\mu$', fontsize = 16)\n",
    "g.axes[0,0].set_ylabel('Proportion of sites where freq > 0', fontsize = 16)\n",
    "g.axes[1,0].set_ylabel('Proportion of sites where freq > 0', fontsize = 16)\n",
    "g.fig.suptitle('Effects of coverage quality, CpG transitions, and GIAB on mutation frequency > 0 vs. $\\mu$ (Missense)', y=1.05, fontsize=20)\n",
    "g.add_legend()"
   ]
  },
  {
   "cell_type": "code",
   "execution_count": null,
   "metadata": {},
   "outputs": [],
   "source": [
    "#dfFilterQuality80.to_csv('mis_effects_plot.csv', index=False) #Uncomment this line to store df as a csv"
   ]
  },
  {
   "cell_type": "code",
   "execution_count": null,
   "metadata": {},
   "outputs": [],
   "source": []
  }
 ],
 "metadata": {
  "kernelspec": {
   "display_name": "Python 3",
   "language": "python",
   "name": "python3"
  },
  "language_info": {
   "codemirror_mode": {
    "name": "ipython",
    "version": 3
   },
   "file_extension": ".py",
   "mimetype": "text/x-python",
   "name": "python",
   "nbconvert_exporter": "python",
   "pygments_lexer": "ipython3",
   "version": "3.8.5"
  }
 },
 "nbformat": 4,
 "nbformat_minor": 4
}
