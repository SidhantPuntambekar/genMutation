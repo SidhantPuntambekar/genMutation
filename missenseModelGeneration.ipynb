{
 "cells": [
  {
   "cell_type": "code",
   "execution_count": null,
   "metadata": {},
   "outputs": [],
   "source": [
    "#Imports\n",
    "\n",
    "import math\n",
    "import numpy as np \n",
    "from scipy import stats\n",
    "from scipy.special import logit as lgTransform\n",
    "from scipy.interpolate import UnivariateSpline\n",
    "import pandas as pd\n",
    "import statsmodels.api as sm \n",
    "import matplotlib.pylab as plt \n",
    "from sklearn.linear_model import LogisticRegression\n",
    "import statsmodels.formula.api as smf\n",
    "from statsmodels.formula.api import logit\n",
    "%matplotlib inline"
   ]
  },
  {
   "cell_type": "code",
   "execution_count": null,
   "metadata": {},
   "outputs": [],
   "source": [
    "#Load data\n",
    "\n",
    "df = pd.read_csv('')\n",
    "#print(df.head())\n",
    "#print(df.tail())\n",
    "colDf = df.columns\n",
    "print(colDf)\n",
    "print(\"Number of columns: \", len(colDf))\n",
    "print(\"Original df length: \", len(df))\n",
    "#print(df.head())\n",
    "#print(df.tail())"
   ]
  },
  {
   "cell_type": "code",
   "execution_count": null,
   "metadata": {},
   "outputs": [],
   "source": [
    "#Final model Loss of Function\n",
    "\n",
    "final_mod = smf.glm('logistic_freq ~ mu + log_mu + log_mu_squared + GIAB + CpG_context + GIAB_CpG_Interaction + median', data = df, family = sm.families.Binomial()).fit()\n",
    "print(final_mod.summary())"
   ]
  }
 ],
 "metadata": {
  "kernelspec": {
   "display_name": "Python 3",
   "language": "python",
   "name": "python3"
  },
  "language_info": {
   "codemirror_mode": {
    "name": "ipython",
    "version": 3
   },
   "file_extension": ".py",
   "mimetype": "text/x-python",
   "name": "python",
   "nbconvert_exporter": "python",
   "pygments_lexer": "ipython3",
   "version": "3.8.5"
  }
 },
 "nbformat": 4,
 "nbformat_minor": 4
}
